{
 "cells": [
  {
   "cell_type": "markdown",
   "metadata": {},
   "source": [
    "# Gas Phase Reactions\n",
    "\n",
    "This notebook aims to provide the students with the necessary information to solve gas phase reactor problems encountered in CKN 321"
   ]
  },
  {
   "cell_type": "markdown",
   "metadata": {},
   "source": [
    "## Batch reactors\n",
    "\n",
    "The first thing to remember regarding gas phase reactions in CKN 321 is that it will be assumed that the *IDEAL GAS LAW* applies in all cases. This is a rough approximation but should provide relatively accurate results, which could theoretically be improved upon in the CPJ report (end of final year) by applying interactional models."
   ]
  },
  {
   "cell_type": "markdown",
   "metadata": {},
   "source": [
    "The ideal gas law:\n",
    "\n",
    "$$ PV = NRT $$"
   ]
  },
  {
   "cell_type": "markdown",
   "metadata": {},
   "source": [
    "This provides that necessary tools to predict the behaviour of reactions in a gas phase reaction by considering the inflence of the reactor pressure, temperature, volume and number of molecules present in the reactor as the reaction proceeds"
   ]
  },
  {
   "cell_type": "markdown",
   "metadata": {},
   "source": [
    "A small reaction bomb fitted with a sensitive pressure-measuring device is flushed out and filled with a mixture at 76.94% reactant A and 23.06% inert at 1 atm pressure and 14°C, a temperature low enough that the reaction does not proceed to any appreciable extent.\n",
    "\n",
    "The temperature is raised rapidly to 100°C, and the readings in the table are obtained. The stoicheometry of the reaction is \n",
    "\n",
    "$$A \\to 2R$$\n",
    "\n",
    "and after sufficient time the reaction proceeds to completion. Find a rate equation in units of moles, liters and minutes which will satisfactorily fit the data.\n",
    "\n",
    "|t (min)|P (atm)|\n",
    "|----|----|\n",
    "|0.5|1.5|\n",
    "|1.0|1.65|\n",
    "|1.5|1.76|\n",
    "|2.0|1.84|\n",
    "|2.5|1.90|\n",
    "|3.0|1.95|\n",
    "|3.5|1.99|\n",
    "|4.0|2.025|\n",
    "|5.0|2.08|\n",
    "|6.0|2.12|\n",
    "|7.0|2.15|\n",
    "|8.0|2.175|"
   ]
  },
  {
   "cell_type": "code",
   "execution_count": 426,
   "metadata": {
    "collapsed": false
   },
   "outputs": [
    {
     "data": {
      "text/plain": [
       "[<matplotlib.lines.Line2D at 0x3dcf504c18>]"
      ]
     },
     "execution_count": 426,
     "metadata": {},
     "output_type": "execute_result"
    },
    {
     "data": {
      "image/png": "[encoded data removed]",
      "text/plain": [
       "<matplotlib.figure.Figure at 0x3dd24a4828>"
      ]
     },
     "metadata": {},
     "output_type": "display_data"
    }
   ],
   "source": [
    "from numpy import array\n",
    "from matplotlib import pyplot as plt\n",
    "%matplotlib inline\n",
    "Data = array([[0.5,1.5],\n",
    "                 [1.0,1.65],\n",
    "                 [1.5,1.76],\n",
    "                 [2.0,1.84],\n",
    "                 [2.5,1.90],\n",
    "                 [3.0,1.95],\n",
    "                 [3.5,1.99],\n",
    "                 [4.0,2.025],\n",
    "                 [5.0,2.08],\n",
    "                 [6.0,2.12],\n",
    "                 [7.0,2.15],\n",
    "                 [8.0,2.175]])\n",
    "te = Data[:, 0]\n",
    "Pe = Data[:, 1]\n",
    "plt.plot(te, Pe, 'o')"
   ]
  },
  {
   "cell_type": "markdown",
   "metadata": {},
   "source": [
    "How to solve this???\n",
    "\n",
    "Hints:\n",
    "1. Remember the ideal gas law\n",
    "2. Remember the mole balance\n",
    "3. Remember the pressure at time 0 is important\n",
    "4. Remember to make a link between the pressure in the reactor and the reaction rate... compare apples with apples"
   ]
  },
  {
   "cell_type": "markdown",
   "metadata": {},
   "source": [
    "## My solution\n",
    "\n",
    "Note: This is not the only solution, this just happens to be a solution that I was able to come up with\n",
    "\n",
    "From the data it is clear that we require the initial conditions for the reactor at time 0 in order to determine solve the differential equation which is inherently part of the batch reactor mole balance:\n",
    "\n",
    "$$ \\frac{dNA}{dt} = r_AV $$\n",
    "\n",
    "Ideal gas law:\n",
    "\n",
    "$$ PV=NRT$$\n",
    "\n",
    "In this case we assume the reactor to be a rigid structure with constant volume which would result in an increased pressure as the reaction proceeds to completion. \n",
    "\n",
    "This means the known parameters are:\n",
    "\n",
    "|Parameter|$t_{o,no\\:reaction}$|$t_{o, just\\:before\\:reaction}$|\n",
    "|---|---|---|\n",
    "|Temp ($^o$C)|14|100|\n",
    "|$y_A$|0.7694|0.7694|\n",
    "|$y_I$|0.2306|0.2306|\n",
    "|$P_{tot}$ (atm)|1|?|\n",
    "\n",
    "Considering no change in volume we can convert the ideal gas law by cancelling constant terms:\n",
    "\n",
    "$$ \\frac{P_2V_2=N_2RT_2}{P_1V_1=N_1RT_1} $$\n",
    "\n",
    "reduces to:\n",
    "\n",
    "$$ \\frac{P_2}{P_1}=\\frac{T2}{T1} $$\n",
    "\n",
    "$$ P_2 =P_1\\frac{T_2}{T_1}$$"
   ]
  },
  {
   "cell_type": "code",
   "execution_count": 427,
   "metadata": {
    "collapsed": false
   },
   "outputs": [
    {
     "name": "stdout",
     "output_type": "stream",
     "text": [
      "Ptoto= 1.2994950374368797 atm\n"
     ]
    }
   ],
   "source": [
    "P1 = 1 #atm\n",
    "\n",
    "Ptoto = P1*(100+273.15)/(14+273.15)\n",
    "\n",
    "print('Ptoto=', Ptoto, 'atm')"
   ]
  },
  {
   "cell_type": "markdown",
   "metadata": {},
   "source": [
    "The basic mole balance can now be used as a starting point:\n",
    "\n",
    "$$ \\frac{dN_A}{dt}=r_AV$$\n",
    "\n",
    "Assume the reaction rate can be described by a power law function:\n",
    "\n",
    "$$ r_A = -kC_A^n = -k\\left(\\frac{N_A}{V}\\right)^n$$\n",
    "\n",
    "We know from the stoichiometric equation that:\n",
    "$$ A\\to2R$$\n",
    "\n",
    "therefore:\n",
    "\n",
    "$$ r_R = -2r_A$$\n",
    "\n",
    "***FOR EVERY ONE A, 2 R IS MADE***\n",
    "\n",
    "\n"
   ]
  },
  {
   "cell_type": "markdown",
   "metadata": {},
   "source": [
    "The ideal gas law for the reaction would be:\n",
    "\n",
    "$$ P_2 = P_1\\frac{\\sum(N_{i,2})}{\\sum(N_{i,1})}=P_1\\frac{N_{A,2}+N_{R,2}+N_{I,2}}{N_{A,1}+N_{R,1}+N_{I,1}} $$"
   ]
  },
  {
   "cell_type": "markdown",
   "metadata": {},
   "source": [
    "This equation would provide the required output of pressure, as the reaction proceeds.\n",
    "\n",
    "All we need is to determine the total number of moles in the reactor initially and as a function of time. This can be done by solving the $N_A(t)$, $N_R(t)$. \n",
    "\n",
    "So the missing bit is the total molecules at time 0. Using the ideal gas law we would require the reactor volume, reactor pressure and reactor temperature. Of these we know the pressure and temperature, which leads us to the question of whether this actually matters?\n",
    "\n",
    "If we use the molecular density $\\left(\\frac{N_{tot}}{V}\\right)$ we can avoid the unknown volume. We could also choose a basis for either the initial molecules or the volume. \n",
    "\n",
    "In this case I will decide on a volume of 1 L...I will show below what the answer would be if I choose 1 mol $N_{tot}$"
   ]
  },
  {
   "cell_type": "markdown",
   "metadata": {},
   "source": [
    "For V = 1L:"
   ]
  },
  {
   "cell_type": "code",
   "execution_count": 428,
   "metadata": {
    "collapsed": false
   },
   "outputs": [
    {
     "name": "stdout",
     "output_type": "stream",
     "text": [
      "Ntoto= 0.042442188670681336 mol\n"
     ]
    }
   ],
   "source": [
    "P = Ptoto*101.325 #kPa\n",
    "V = 1 #L\n",
    "R = 8.314 #kPa.L/mol.K\n",
    "T = 100+273.15 #K\n",
    "\n",
    "Ntoto = P*V/(R*T)\n",
    "\n",
    "print('Ntoto=', Ntoto, 'mol')"
   ]
  },
  {
   "cell_type": "markdown",
   "metadata": {},
   "source": [
    "This means that the initial $N_{Ao}$ and $N_I$ were"
   ]
  },
  {
   "cell_type": "code",
   "execution_count": 429,
   "metadata": {
    "collapsed": false
   },
   "outputs": [
    {
     "name": "stdout",
     "output_type": "stream",
     "text": [
      "NAo = 0.03265501996322222 mol, NI = 0.009787168707459116 mol, NRo = 0 mol,\n"
     ]
    }
   ],
   "source": [
    "NAo = 0.7694*Ntoto\n",
    "NI = 0.2306*Ntoto\n",
    "NRo = 0\n",
    "\n",
    "print('NAo =', NAo, 'mol,', 'NI =', NI, 'mol,', 'NRo =', NRo, 'mol,')"
   ]
  },
  {
   "cell_type": "markdown",
   "metadata": {},
   "source": [
    "Remember the rate expression:\n",
    "$$ r_A = -kC_A^n = -k\\left(\\frac{N_A}{V}\\right)^n$$\n",
    "\n",
    "Define the differential equations:\n",
    "\n",
    "$$\\frac{dN_A}{dt} = r_AV$$\n",
    "$$\\frac{dN_R}{dt} = -2r_AV$$\n"
   ]
  },
  {
   "cell_type": "code",
   "execution_count": 430,
   "metadata": {
    "collapsed": true
   },
   "outputs": [],
   "source": [
    "def ri(NA):\n",
    "    return -k*(NA/V)**n\n",
    "\n",
    "def diffs(var, t): #remember to describe the dependent variable and then the independent variable   \n",
    "    NA = var[0]\n",
    "    NR = var[1]\n",
    "    rA = ri(NA)\n",
    "    rR = -2*rA\n",
    "    dNAdt = rA*V\n",
    "    dNRdt = rR*V\n",
    "    return [dNAdt, dNRdt]"
   ]
  },
  {
   "cell_type": "code",
   "execution_count": 431,
   "metadata": {
    "collapsed": false
   },
   "outputs": [
    {
     "data": {
      "text/plain": [
       "<matplotlib.legend.Legend at 0x3dcf66c240>"
      ]
     },
     "execution_count": 431,
     "metadata": {},
     "output_type": "execute_result"
    },
    {
     "data": {
      "image/png": "[encoded data removed]",
      "text/plain": [
       "<matplotlib.figure.Figure at 0x3dcf66c5c0>"
      ]
     },
     "metadata": {},
     "output_type": "display_data"
    }
   ],
   "source": [
    "from scipy.integrate import odeint\n",
    "from numpy import linspace\n",
    "\n",
    "def sol(k, n):\n",
    "    tspan = linspace(0, 8)\n",
    "    var = odeint(diffs, [NAo, NRo], tspan)\n",
    "    return var \n",
    "\n",
    "k = 1\n",
    "n = 1\n",
    "tspan = linspace (0, 8)\n",
    "\n",
    "var = sol(k, n)\n",
    "NA = var[:, 0]\n",
    "NR = var[:, 1]\n",
    "\n",
    "plt.plot(tspan, var)\n",
    "plt.legend(['A', 'R'])\n"
   ]
  },
  {
   "cell_type": "markdown",
   "metadata": {},
   "source": [
    "Now that we have the $N_A$ and $N_R$ amounts, we can calculate the pressure in the system:"
   ]
  },
  {
   "cell_type": "code",
   "execution_count": 432,
   "metadata": {
    "collapsed": false,
    "scrolled": true
   },
   "outputs": [
    {
     "data": {
      "text/plain": [
       "[<matplotlib.lines.Line2D at 0x3dd242feb8>,\n",
       " <matplotlib.lines.Line2D at 0x3dd24460b8>]"
      ]
     },
     "execution_count": 432,
     "metadata": {},
     "output_type": "execute_result"
    },
    {
     "data": {
      "image/png": "[encoded data removed]",
      "text/plain": [
       "<matplotlib.figure.Figure at 0x3dcf5ca780>"
      ]
     },
     "metadata": {},
     "output_type": "display_data"
    }
   ],
   "source": [
    "k = 2.5 #\n",
    "n = 1.5 #\n",
    "\n",
    "var = sol(k, n)\n",
    "NA = var[:, 0]\n",
    "NR = var[:, 1]\n",
    "\n",
    "Ptot = Ptoto*(NA+NR+NI)/(Ntoto)\n",
    "plt.plot(tspan, Ptot, '-', te, Pe, 'o')"
   ]
  },
  {
   "cell_type": "markdown",
   "metadata": {},
   "source": [
    "## What if we differentiated the ideal gas law with time??? Solve P(t)..."
   ]
  },
  {
   "cell_type": "markdown",
   "metadata": {},
   "source": [
    "$$ PV = NRT $$\n",
    "\n",
    "$$ \\frac{dP}{dt}=\\frac{RT}{V}\\frac{dN_{tot}}{dt}$$\n",
    "\n",
    "$$=\\frac{RT}{V}\\left[\\frac{dN_A}{dt}+\\frac{dN_R}{dt}\\right]$$\n",
    "\n",
    "$$=\\frac{RT}{V}(r_AV-2r_AV)$$\n",
    "\n",
    "$$\\frac{dP}{dt}=RT(-r_A) $$\n"
   ]
  },
  {
   "cell_type": "markdown",
   "metadata": {},
   "source": [
    "This means we can solve P as a function of $N_A$, which means we can add this as just another variable in the differential equation function:"
   ]
  },
  {
   "cell_type": "code",
   "execution_count": 433,
   "metadata": {
    "collapsed": false
   },
   "outputs": [],
   "source": [
    "def ri(NA):\n",
    "    return -k*(NA/V)**n\n",
    "\n",
    "def diffs(var, t): #remember to describe the dependent variable and then the independent variable\n",
    "    NA = var[0]\n",
    "    NR = var[1]\n",
    "    P = var[2]\n",
    "    rA = ri(NA)\n",
    "    rR = -2*rA\n",
    "    dNAdt = rA*V\n",
    "    dNRdt = rR*V\n",
    "    dPdt = R*T*-rA\n",
    "    return [dNAdt, dNRdt, dPdt]"
   ]
  },
  {
   "cell_type": "markdown",
   "metadata": {},
   "source": [
    "We still need to choose a base for our system, which I will choose as $N_{tot,o}$=1 mol"
   ]
  },
  {
   "cell_type": "code",
   "execution_count": 434,
   "metadata": {
    "collapsed": false
   },
   "outputs": [
    {
     "name": "stdout",
     "output_type": "stream",
     "text": [
      "V= 23.561461633358004 l\n"
     ]
    }
   ],
   "source": [
    "P = Ptoto*101.325 #kPa\n",
    "Ntoto = 1 #mol\n",
    "R = 8.314 #kPa.L/mol.K\n",
    "T = 100+273.15 #K\n",
    "\n",
    "V = Ntoto*R*T/(P)\n",
    "\n",
    "print('V=', V, 'l')"
   ]
  },
  {
   "cell_type": "markdown",
   "metadata": {},
   "source": [
    "This means that the initial $N_{Ao}$ and $N_I$ were"
   ]
  },
  {
   "cell_type": "code",
   "execution_count": 435,
   "metadata": {
    "collapsed": false
   },
   "outputs": [
    {
     "name": "stdout",
     "output_type": "stream",
     "text": [
      "NAo = 0.7694 mol, NI = 0.2306 mol, NRo = 0 mol,\n"
     ]
    }
   ],
   "source": [
    "NAo = 0.7694*Ntoto\n",
    "NI = 0.2306*Ntoto\n",
    "NRo = 0\n",
    "\n",
    "print('NAo =', NAo, 'mol,', 'NI =', NI, 'mol,', 'NRo =', NRo, 'mol,')"
   ]
  },
  {
   "cell_type": "code",
   "execution_count": 436,
   "metadata": {
    "collapsed": false
   },
   "outputs": [
    {
     "data": {
      "text/plain": [
       "<matplotlib.legend.Legend at 0x3dcf5b5518>"
      ]
     },
     "execution_count": 436,
     "metadata": {},
     "output_type": "execute_result"
    },
    {
     "data": {
      "image/png": "[encoded data removed]",
      "text/plain": [
       "<matplotlib.figure.Figure at 0x3dcf5b5438>"
      ]
     },
     "metadata": {},
     "output_type": "display_data"
    }
   ],
   "source": [
    "from scipy.integrate import odeint\n",
    "from numpy import linspace\n",
    "\n",
    "def sol(k, n):\n",
    "    tspan = linspace(0, 8)\n",
    "    var = odeint(diffs, [NAo, NRo, Ptoto*101.325], tspan)\n",
    "    return var \n",
    "\n",
    "var = sol(1, 1)\n",
    "NA = var[:, 0]\n",
    "NR = var[:, 1]\n",
    "P = var[:, 2]\n",
    "\n",
    "plt.plot(tspan, NA, tspan, NR, tspan, P/101.325)\n",
    "plt.legend(['A', 'R', 'P'])\n"
   ]
  },
  {
   "cell_type": "markdown",
   "metadata": {},
   "source": [
    "Now that we have the $N_A$ and $N_R$ amounts, we can calculate the pressure in the system:"
   ]
  },
  {
   "cell_type": "code",
   "execution_count": 437,
   "metadata": {
    "collapsed": false,
    "scrolled": true
   },
   "outputs": [
    {
     "data": {
      "text/plain": [
       "[<matplotlib.lines.Line2D at 0x3dd3cad780>,\n",
       " <matplotlib.lines.Line2D at 0x3dd3cad940>]"
      ]
     },
     "execution_count": 437,
     "metadata": {},
     "output_type": "execute_result"
    },
    {
     "data": {
      "image/png": "[encoded data removed]",
      "text/plain": [
       "<matplotlib.figure.Figure at 0x3dcf5cacf8>"
      ]
     },
     "metadata": {},
     "output_type": "display_data"
    }
   ],
   "source": [
    "k = 2.5 #\n",
    "n = 1.5 #\n",
    "\n",
    "var = sol(k, n)\n",
    "NA = var[:, 0]\n",
    "NR = var[:, 1]\n",
    "\n",
    "Ptot = Ptoto*(NA+NR+NI)/(Ntoto)\n",
    "plt.plot(tspan, Ptot, '-', te, Pe, 'o')"
   ]
  },
  {
   "cell_type": "markdown",
   "metadata": {},
   "source": [
    "## Now let's look at a choice of $N_{tot,o}$ = 1 mol"
   ]
  },
  {
   "cell_type": "code",
   "execution_count": 438,
   "metadata": {
    "collapsed": false
   },
   "outputs": [
    {
     "name": "stdout",
     "output_type": "stream",
     "text": [
      "V= 23.561461633358004 mol\n"
     ]
    }
   ],
   "source": [
    "P = Ptoto*101.325 #kPa\n",
    "Ntoto = 1 #mol\n",
    "R = 8.314 #kPa.L/mol.K\n",
    "T = 100+273.15 #K\n",
    "\n",
    "V = Ntoto*R*T/(P)\n",
    "\n",
    "print('V=', V, 'mol')"
   ]
  },
  {
   "cell_type": "markdown",
   "metadata": {},
   "source": [
    "This means that the initial $N_{Ao}$ and $N_I$ were"
   ]
  },
  {
   "cell_type": "code",
   "execution_count": 439,
   "metadata": {
    "collapsed": false
   },
   "outputs": [
    {
     "name": "stdout",
     "output_type": "stream",
     "text": [
      "NAo = 0.7694 mol, NI = 0.2306 mol, NRo = 0 mol,\n"
     ]
    }
   ],
   "source": [
    "NAo = 0.7694*Ntoto\n",
    "NI = 0.2306*Ntoto\n",
    "NRo = 0\n",
    "\n",
    "print('NAo =', NAo, 'mol,', 'NI =', NI, 'mol,', 'NRo =', NRo, 'mol,')"
   ]
  },
  {
   "cell_type": "code",
   "execution_count": 440,
   "metadata": {
    "collapsed": false
   },
   "outputs": [],
   "source": [
    "def ri(NA):\n",
    "    return -k*(NA/V)**n\n",
    "\n",
    "def diffs(var, t): #remember to describe the dependent variable and then the independent variable\n",
    "    NA = var[0]\n",
    "    NR = var[1]\n",
    "    rA = ri(NA)\n",
    "    rR = -2*rA\n",
    "    dNAdt = rA*V\n",
    "    dNRdt = rR*V\n",
    "    return [dNAdt, dNRdt]"
   ]
  },
  {
   "cell_type": "code",
   "execution_count": 441,
   "metadata": {
    "collapsed": false
   },
   "outputs": [
    {
     "data": {
      "text/plain": [
       "[<matplotlib.lines.Line2D at 0x3dd3d1cf98>,\n",
       " <matplotlib.lines.Line2D at 0x3dd3d21160>]"
      ]
     },
     "execution_count": 441,
     "metadata": {},
     "output_type": "execute_result"
    },
    {
     "data": {
      "image/png": "[encoded data removed]",
      "text/plain": [
       "<matplotlib.figure.Figure at 0x3dd3c7aac8>"
      ]
     },
     "metadata": {},
     "output_type": "display_data"
    }
   ],
   "source": [
    "from scipy.integrate import odeint\n",
    "from numpy import linspace\n",
    "\n",
    "def sol(k, n):\n",
    "    tspan = linspace(0, 8)\n",
    "    var = odeint(diffs, [NAo, NRo], tspan)\n",
    "    return var \n",
    "\n",
    "var = sol(1, 1)\n",
    "NA = var[:, 0]\n",
    "NR = var[:, 1]\n",
    "plt.plot(tspan, var)\n"
   ]
  },
  {
   "cell_type": "markdown",
   "metadata": {},
   "source": [
    "Now that we have the $N_A$ and $N_R$ amounts, we can calculate the pressure in the system:"
   ]
  },
  {
   "cell_type": "code",
   "execution_count": 442,
   "metadata": {
    "collapsed": false,
    "scrolled": true
   },
   "outputs": [
    {
     "data": {
      "text/plain": [
       "[<matplotlib.lines.Line2D at 0x3dd3d878d0>,\n",
       " <matplotlib.lines.Line2D at 0x3dd3d87a90>]"
      ]
     },
     "execution_count": 442,
     "metadata": {},
     "output_type": "execute_result"
    },
    {
     "data": {
      "image/png": "[encoded data removed]",
      "text/plain": [
       "<matplotlib.figure.Figure at 0x3dcfad52b0>"
      ]
     },
     "metadata": {},
     "output_type": "display_data"
    }
   ],
   "source": [
    "k = 1 #\n",
    "n = 1 #\n",
    "\n",
    "var = sol(k, n)\n",
    "NA = var[:, 0]\n",
    "NR = var[:, 1]\n",
    "\n",
    "Ptot = Ptoto*(NA+NR+NI)/(Ntoto)\n",
    "plt.plot(tspan, Ptot, '-', te, Pe, 'o')"
   ]
  },
  {
   "cell_type": "markdown",
   "metadata": {},
   "source": [
    "## Tutorial questions:\n",
    "\n",
    "- The following irreversible and spontaneous gas-phase reaction occurs in a constant volume batch reactor (of 1L) at 100C and an initial pressure of 2 bar.\n",
    "\n",
    "$$ 2A+3B\\to C+2D$$\n",
    "\n",
    "The reactor was initially charged with 20% inert, 40% A and 40% B. The inert mole fraction was monitored as a function oftime and the following results were obtained:\n",
    "\n",
    "a. What will be the total pressure at infinite time? \n",
    "\n",
    "b. What is the conversion at 24 minutes? \n",
    "\n",
    "c. Draw the plot of the total moles as a function of time.\n",
    "\n",
    "d. Determine the kinetics for the reaction at 100C. \n",
    "\n",
    "|Time (min)|Inert mole fraction|\n",
    "|---|---|\n",
    "|0|0.200|\n",
    "|8|0.209|\n",
    "|16|0.218|\n",
    "|24|0.228|\n",
    "|32|0.240|\n",
    "|40|0.252|\n",
    "|48|0.266|\n",
    "($k = 5 \\times 10^{-4}$ (units!))"
   ]
  },
  {
   "cell_type": "code",
   "execution_count": 443,
   "metadata": {
    "collapsed": false
   },
   "outputs": [
    {
     "data": {
      "text/plain": [
       "[0.06446686179281505,\n",
       " 0.025786744717126022,\n",
       " 0.025786744717126022,\n",
       " 0.012893372358563011]"
      ]
     },
     "execution_count": 443,
     "metadata": {},
     "output_type": "execute_result"
    }
   ],
   "source": [
    "#a\n",
    "#20% inert, 40% A and 40% B\n",
    "\n",
    "Po = 2 #bar\n",
    "Po = Po*100 #kPa\n",
    "V = 1 #L\n",
    "T = 100 #C\n",
    "T = T+273.15 #K\n",
    "R = 8.314 #kPa.L/molK\n",
    "\n",
    "Nto = Po*V/(R*T)\n",
    "NAo = Nto*0.4\n",
    "NBo = Nto*0.4\n",
    "NI = Nto*0.2\n",
    "[Nto, NAo, NBo, NI]\n"
   ]
  },
  {
   "cell_type": "markdown",
   "metadata": {},
   "source": [
    "At 100 % conversion of the limiting reagent B, a total of $N_{Bo}$ of B will react with $\\frac{2}{3} N_{Bo}$ and form $\\frac{1}{3} N_{Bo}$ of C and $\\frac{2}{3} N_{Bo}$ of D. This leave a total molecules in the reactor of:\n",
    "$N_{Ao}-\\frac{2}{3} N_{Bo}+\\frac{1}{3} N_{Bo}+\\frac{2}{3} N_{Bo}+N_I$ = $N_{Ao}+\\frac{1}{3} N_{Bo}+N_I$"
   ]
  },
  {
   "cell_type": "code",
   "execution_count": 444,
   "metadata": {
    "collapsed": false
   },
   "outputs": [
    {
     "data": {
      "text/plain": [
       "[146.66666666666669, 1.4666666666666668, 0.04727569864806437]"
      ]
     },
     "execution_count": 444,
     "metadata": {},
     "output_type": "execute_result"
    }
   ],
   "source": [
    "Nt = NAo+1/3*NBo+NI\n",
    "P = Po*(Nt/Nto)\n",
    "[P, P/100, Nt]"
   ]
  },
  {
   "cell_type": "markdown",
   "metadata": {},
   "source": [
    "Therefore the pressure in the reactor at infinite time will be 147 kPa or 1.47 bar"
   ]
  },
  {
   "cell_type": "markdown",
   "metadata": {},
   "source": [
    "b)\n",
    "\n",
    "From the data the inert fraction at 24 minutes are 0.228. This means that: \n",
    "$$ \\frac{N_I}{N_t} = 0.228 $$ \n",
    "We know the number of moles of Inert at all times (this does not change). This means we can determine the total number of molecules:\n",
    "$$ Nt = \\frac{NI}{0.228} $$"
   ]
  },
  {
   "cell_type": "code",
   "execution_count": 445,
   "metadata": {
    "collapsed": false
   },
   "outputs": [
    {
     "data": {
      "text/plain": [
       "0.05654987876562724"
      ]
     },
     "execution_count": 445,
     "metadata": {},
     "output_type": "execute_result"
    }
   ],
   "source": [
    "Nt24 = NI/0.228\n",
    "Nt24"
   ]
  },
  {
   "cell_type": "markdown",
   "metadata": {},
   "source": [
    "We further know the stoichiometry of the reaction and can therefore determine the number of molecules of B as related to the total molecules in the reactor in the reactor:\n",
    "\n",
    "$$ N_t = N_A + N_B + N_C + N_D + N_I $$\n",
    "$$ N_A = N_{Ao} + \\Delta N_A = N_A + \\frac{2}{3} \\Delta N_B $$\n",
    "$$ N_B = N_{Bo} + \\Delta N_B $$\n",
    "$$ N_C = \\Delta N_C = -\\frac{1}{3} \\Delta N_B $$\n",
    "$$ N_D = \\Delta N_D = -\\frac{2}{3} \\Delta N_B $$\n",
    "\n",
    "This means the number of molecules in the reactor at any time can be related to the change in molecules of B (the limiting reagent). This same could have been done with respect to any other reagent/product but would not have been particularly useful in calculating the conversion which is related to the limiting reagent.\n",
    "\n",
    "$$ N_t = N_{Ao} + \\frac{2}{3} \\Delta N_B + N_{Bo} + \\Delta N_B -\\frac{1}{3} \\Delta N_B -\\frac{2}{3} \\Delta N_B +N_I $$\n",
    "\n",
    "$$ N_t = N_{Ao}+N_{Bo}+N_I+\\frac{2}{3}\\Delta N_B = N_{to}+\\frac{2}{3}\\Delta N_B $$\n",
    "\n",
    "$$ \\Delta N_B = \\frac{3}{2} (N_t-N_{to}) $$\n",
    "\n",
    "$$ x = - \\frac{\\Delta N_B}{N_{Bo}} $$"
   ]
  },
  {
   "cell_type": "code",
   "execution_count": 446,
   "metadata": {
    "collapsed": false
   },
   "outputs": [
    {
     "data": {
      "text/plain": [
       "[-0.011875474540781715, 0.46052631578947345]"
      ]
     },
     "execution_count": 446,
     "metadata": {},
     "output_type": "execute_result"
    }
   ],
   "source": [
    "ΔNB = 3/2*(Nt24-Nto)\n",
    "\n",
    "x = -ΔNB/NBo\n",
    "\n",
    "[ΔNB, x]"
   ]
  },
  {
   "cell_type": "markdown",
   "metadata": {},
   "source": [
    "c)\n",
    "\n",
    "The total molecules can be determine by using the equation above:\n",
    "$$ Nt = \\frac{NI}{Inert\\:mole\\:fraction} $$"
   ]
  },
  {
   "cell_type": "code",
   "execution_count": 447,
   "metadata": {
    "collapsed": false
   },
   "outputs": [
    {
     "data": {
      "text/plain": [
       "[<matplotlib.lines.Line2D at 0x3dd3df4160>]"
      ]
     },
     "execution_count": 447,
     "metadata": {},
     "output_type": "execute_result"
    },
    {
     "data": {
      "image/png": "[encoded data removed]",
      "text/plain": [
       "<matplotlib.figure.Figure at 0x3dd3d5e0b8>"
      ]
     },
     "metadata": {},
     "output_type": "display_data"
    }
   ],
   "source": [
    "YI = array([0.200, 0.209,0.218,0.228,0.240,0.252,0.266])\n",
    "t = array([0, 8, 16, 24, 32, 40, 48])\n",
    "Nt = NI/YI\n",
    "Nt\n",
    "\n",
    "plt.plot(t, Nt, 'o')"
   ]
  },
  {
   "cell_type": "markdown",
   "metadata": {},
   "source": [
    "The mole balances for the batch reactor:\n",
    "\n",
    "$$ \\frac{dN_i}{dt} = r_i V $$\n",
    "\n",
    "We can \"guess\" a simple power law applies in this system, at least as an initial guess:\n",
    "\n",
    "$$ r_B = -kC_A^mC_B^n = -k\\left(\\frac{N_A}{V}\\right)^m\\left(\\frac{N_B}{V}\\right)^n $$\n",
    "\n",
    "We can further determine the relative rates of production of all the reagents and products relative to B:\n",
    "\n",
    "$$ r_A = \\frac{2}{3} r_B $$\n",
    "$$ r_C = -\\frac{1}{3} r_B $$\n",
    "$$ r_D = -\\frac{2}{3} r_B $$"
   ]
  },
  {
   "cell_type": "code",
   "execution_count": 448,
   "metadata": {
    "collapsed": false
   },
   "outputs": [
    {
     "data": {
      "text/plain": [
       "<matplotlib.legend.Legend at 0x3dd3e0d860>"
      ]
     },
     "execution_count": 448,
     "metadata": {},
     "output_type": "execute_result"
    },
    {
     "data": {
      "image/png": "[encoded data removed]",
      "text/plain": [
       "<matplotlib.figure.Figure at 0x3dcfbf3f98>"
      ]
     },
     "metadata": {},
     "output_type": "display_data"
    }
   ],
   "source": [
    "def ri(N):\n",
    "    [NA, NB, NC, ND] = N\n",
    "    \n",
    "    rB = -k*(NA/V)**m*(NB/V)**n\n",
    "    rA = (2/3)*rB\n",
    "    rC = -(1/3)*rB\n",
    "    rD = -(2/3)*rB\n",
    "    \n",
    "    return [rA, rB, rC, rD]\n",
    "\n",
    "def mole(N, t):\n",
    "    [NA, NB, NC, ND] = N\n",
    "    [rA, rB, rC, rD] = ri(N)\n",
    "    \n",
    "    dNAdt = rA*V\n",
    "    dNBdt = rB*V\n",
    "    dNCdt = rC*V\n",
    "    dNDdt = rD*V\n",
    "    \n",
    "    return [dNAdt, dNBdt, dNCdt, dNDdt]\n",
    "\n",
    "k = 1 #\n",
    "m = 1\n",
    "n = 1\n",
    "V = 1 #L\n",
    "tspan = linspace(0, 50, 1000)\n",
    "\n",
    "def fit(k, m, n):\n",
    "    \n",
    "    No = [NAo, NBo, 0, 0]\n",
    "    return odeint(mole, No, tspan)\n",
    "    \n",
    "\n",
    "N = fit(k, m, n)\n",
    "plt.plot(tspan, N)\n",
    "plt.legend(['A', 'B', 'C', 'D'])    "
   ]
  },
  {
   "cell_type": "code",
   "execution_count": 449,
   "metadata": {
    "collapsed": false
   },
   "outputs": [
    {
     "data": {
      "text/plain": [
       "[<matplotlib.lines.Line2D at 0x3dd3edc208>,\n",
       " <matplotlib.lines.Line2D at 0x3dd3edcbe0>]"
      ]
     },
     "execution_count": 449,
     "metadata": {},
     "output_type": "execute_result"
    },
    {
     "data": {
      "image/png": "[encoded data removed]",
      "text/plain": [
       "<matplotlib.figure.Figure at 0x3dd3dc6080>"
      ]
     },
     "metadata": {},
     "output_type": "display_data"
    }
   ],
   "source": [
    "k = 0.0005\n",
    "m = 0\n",
    "n = 0\n",
    "\n",
    "N = fit(k, m, n)\n",
    "\n",
    "from numpy import sum\n",
    "Ntt = sum(N, axis=1)+NI\n",
    "\n",
    "plt.plot(t, Nt, 'o', tspan, Ntt)"
   ]
  },
  {
   "cell_type": "markdown",
   "metadata": {},
   "source": [
    "- The following irreversible gas-phase reaction occurs spontaneously at 100°C.\n",
    "$$ A\\to 2B+3C$$\n",
    "\n",
    "The device is used as a detonator that sets off a bomb when the pressure reaches 2 bar in the vessel. The initial charge consists out of a mixture of A and C at atmospheric pressure (1 bar) and 100°C. You can assume that the vessel operates isothermally. The reaction rate constant at 100°C is known to be 43.76 l/mol/s. You need to determine the feed mixture composition (of A and C) that will result in detonation after exactly 2 minutes. ($y_{Ao}$ = 0.53)\n",
    "\n",
    "\n"
   ]
  },
  {
   "cell_type": "markdown",
   "metadata": {},
   "source": [
    "Mole balance:\n",
    "$$ \\frac{dN_A}{dt} = r_AV $$\n",
    "$$ k = 43.76 \\frac{l}{mol.s}$$\n",
    "\n",
    "Ideal gas law:\n",
    "$$ PV = NRT $$\n",
    "$$P = 1 bar$$\n",
    "$$T = 100 ^o C$$\n",
    "$$V = ?$$\n",
    "$$N = ?$$\n",
    "\n",
    "From units of k we can determine the order of the reaction as second order:\n",
    "$$ r_A = -kC_A^n $$\n",
    "$$ \\frac{mol}{l.s} = \\left(\\frac{l}{mol.s}\\right)\\left(\\frac{mol}{l}\\right)^n $$\n",
    "Therefore n = 2\n",
    "\n",
    "The algorithm:\n",
    "\n",
    "Rates:\n",
    "\n",
    "$$ r_A = -kC_A^n = -k\\left(\\frac{N_A}{V}\\right)^n $$\n",
    "$$ r_B - -2r_A$$\n",
    "$$ r_C = -3r_A$$\n",
    "\n",
    "Mole balance:\n",
    "\n",
    "$$\\frac{dN_i}{dt} = r_iV$$\n",
    "\n",
    "$$PV = NRT$$\n",
    "$$\\frac{dP}{dt} = \\frac{RT}{V}\\frac{dNt}{dt} = \\frac{RT}{V}\\left(\\frac{dNA}{dt}+\\frac{dNB}{dt}+\\frac{dNC}{dt}\\right) $$\n",
    "\n",
    "\n",
    "\n"
   ]
  },
  {
   "cell_type": "markdown",
   "metadata": {},
   "source": [
    "This time we need to fit the $N_{Ao}$ so the total pressure at 2 minutes will equal 2 bar\n",
    "\n",
    "In this case we can again see that the system is underspecified which means we need to choose a base:\n",
    "\n",
    "I choose a base of 1 L volume for no apparent reason..."
   ]
  },
  {
   "cell_type": "code",
   "execution_count": 450,
   "metadata": {
    "collapsed": false
   },
   "outputs": [
    {
     "name": "stdout",
     "output_type": "stream",
     "text": [
      "3.2233430896407524\n",
      "100.995009615 0.00527402747\n"
     ]
    },
    {
     "data": {
      "image/png": "[encoded data removed]",
      "text/plain": [
       "<matplotlib.figure.Figure at 0x3dd3dc6fd0>"
      ]
     },
     "metadata": {},
     "output_type": "display_data"
    }
   ],
   "source": [
    "def r(var): \n",
    "    NA, NB, NC, P = var\n",
    "    rA = -k*(NA/V)**2\n",
    "    rB = -2*rA\n",
    "    rC = -3*rA\n",
    "    return [rA, rB, rC]\n",
    "\n",
    "def dvardt(var, t):\n",
    "    NA, NB, NC, P = var\n",
    "    rA, rB, rC = r(var)\n",
    "    dNAdt = rA*V\n",
    "    dNBdt = rB*V\n",
    "    dNCdt = rC*V\n",
    "    dPdt = R*T/V*(dNAdt+dNBdt+dNCdt)\n",
    "    return [dNAdt, dNBdt, dNCdt, dPdt]\n",
    "\n",
    "Po = 1 #bar\n",
    "Po = Po*100 #kPa\n",
    "T = 100 #C\n",
    "T = T+273.15 #K\n",
    "V = 100 #L\n",
    "R = 8.314 #kPa.L/K.mol\n",
    "k = 43.76 #l/mol.s\n",
    "\n",
    "Nto = Po*V/(R*T)\n",
    "print(Nto)\n",
    "NAo = 0.017 #mol\n",
    "NCo = Nto-NAo\n",
    "NBo = 0\n",
    "tspan = linspace(0, 2*60, 10000)\n",
    "\n",
    "var = odeint(dvardt, [NAo, NBo, NCo, Po], tspan)\n",
    "\n",
    "plt.plot(tspan, var[:, 0:3], tspan, var[:, 3]/100)\n",
    "plt.legend(['A', 'B', 'C', 'P'])\n",
    "\n",
    "print (var[-1,3], NAo/(Nto))"
   ]
  },
  {
   "cell_type": "code",
   "execution_count": 451,
   "metadata": {
    "collapsed": false
   },
   "outputs": [
    {
     "name": "stdout",
     "output_type": "stream",
     "text": [
      "[ 2.00090139]\n"
     ]
    },
    {
     "data": {
      "image/png": "[encoded data removed]",
      "text/plain": [
       "<matplotlib.figure.Figure at 0x3dcfd714e0>"
      ]
     },
     "metadata": {},
     "output_type": "display_data"
    }
   ],
   "source": [
    "def dxdt(x, t):\n",
    "    return k*CAo*(1-x)**2\n",
    "\n",
    "y = 0.256\n",
    "CAo = y*100/(R*T)\n",
    "\n",
    "\n",
    "x = odeint(dxdt, 0, tspan)\n",
    "\n",
    "plt.plot(tspan, x)\n",
    "\n",
    "PopPo = (1+4*y*x[-1])\n",
    "\n",
    "print(PopPo)"
   ]
  },
  {
   "cell_type": "markdown",
   "metadata": {},
   "source": [
    "\n",
    "- The first-order homogeneous gaseous decomposition $A \\to 2,5 R$ is carried out in an isothermal batch reactor at 2 atm with 20% inerts present, and the volume increases by 60% in 20 min. In a constant-volume reactor, find the time required for the pressure to reach 8atm if the initial pressure is 5 atm, 2 atm of which consists of inerts. (t=31.7 min)\n"
   ]
  },
  {
   "cell_type": "markdown",
   "metadata": {},
   "source": [
    "P = 2 atm\n",
    "$$ y_{inert} = 0.2 $$\n",
    "$$\\frac{V}{V_o} = 1.6 $$\n",
    "\n",
    "Mole balance:\n",
    "$$ \\frac{dN_i}{dt} = r_i V $$\n",
    "\n",
    "Ideal gas law:\n",
    "\n",
    "$$\\frac{V}{V_o}= \\frac{N}{N_o} $$\n",
    "$$\\frac{dV}{dt} = \\frac{V_o}{N_{to}}\\sum\\frac{dN_i}{dt} = \\frac{V_o}{N_{to}}\\left(\\frac{dN_A}{dt}+ \\frac{dN_R}{dt}\\right) $$\n",
    "\n",
    "Assume:\n",
    "$$ r_A = -kC_A^n = -k\\left(\\frac{N_A}{V}\\right)^n$$"
   ]
  },
  {
   "cell_type": "code",
   "execution_count": 452,
   "metadata": {
    "collapsed": false
   },
   "outputs": [
    {
     "name": "stdout",
     "output_type": "stream",
     "text": [
      "24.374548953572287\n",
      "1.6017092354\n",
      "k= 0.0348 1/min\n"
     ]
    },
    {
     "data": {
      "image/png": "[encoded data removed]",
      "text/plain": [
       "<matplotlib.figure.Figure at 0x3dd3e0d048>"
      ]
     },
     "metadata": {},
     "output_type": "display_data"
    }
   ],
   "source": [
    "def ri(var):\n",
    "    NA, NR, V = var\n",
    "    rA = -k*(NA/V)**n\n",
    "    rR = -2.5*rA\n",
    "    return [rA, rR]\n",
    "\n",
    "def diffs(var, t):\n",
    "    NA, NR, V = var\n",
    "    rA, rR = ri(var)\n",
    "    dNAdt = rA*V\n",
    "    dNRdt = rR*V\n",
    "    dVdt = Vo/No*(dNAdt+dNRdt)\n",
    "    return [dNAdt, dNRdt, dVdt]\n",
    "\n",
    "Vo = 1 #L (chosen base)\n",
    "No = 1 #mol (Chosen base)\n",
    "NAo = 0.8*No\n",
    "P = 2 #atm\n",
    "P = P*101.325 #kPa\n",
    "R = 8.314 #kPa.L/(mol.K)\n",
    "T = (P*Vo)/(No*R)\n",
    "print(T)\n",
    "\n",
    "k = 0.0348\n",
    "n = 1\n",
    "tspan =linspace(0, 20)\n",
    "var = odeint(diffs, [NAo, NRo, Vo], tspan)\n",
    "\n",
    "plt.plot(tspan, var)\n",
    "plt.legend(['A', 'R', 'V'])\n",
    "\n",
    "print (var[-1, 2]/Vo)\n",
    "print('k=', k, '1/min')"
   ]
  },
  {
   "cell_type": "markdown",
   "metadata": {},
   "source": [
    "Redefine the algorithm to apply to a constant volume reactor:\n",
    "\n",
    "Mole balance:\n",
    "$$ \\frac{dN_i}{dt} = r_i V $$\n",
    "\n",
    "Ideal gas law:\n",
    "\n",
    "$$\\frac{P}{P_o}= \\frac{N}{N_o} $$\n",
    "$$\\frac{dP}{dt} = \\frac{P_o}{N_{to}}\\sum\\frac{dN_i}{dt} = \\frac{P_o}{N_{to}}\\left(\\frac{dN_A}{dt}+ \\frac{dN_R}{dt}\\right) $$\n",
    "\n",
    "Rates:\n",
    "$$ r_A = -kC_A^n = -k\\left(\\frac{N_A}{V}\\right)^n$$\n",
    "$$ r_R = -2.5r_A $$"
   ]
  },
  {
   "cell_type": "code",
   "execution_count": 479,
   "metadata": {
    "collapsed": false
   },
   "outputs": [
    {
     "name": "stdout",
     "output_type": "stream",
     "text": [
      "24.4 2.4973923108168328 1\n",
      "15.867495 202.8616 -0.0521455514499 0.130363878625 -0.0521455514499 0.130363878625\n",
      "15.8674516829 202.8616 -0.0521454090962 0.13036352274 -0.0521454090962 0.13036352274\n",
      "15.867451683 202.8616 -0.0521454090966 0.130363522741 -0.0521454090966 0.130363522741\n",
      "15.8674083659 202.8616 -0.0521452667432 0.130363166858 -0.0521452667432 0.130363166858\n",
      "15.8674083661 202.8616 -0.0521452667436 0.130363166859 -0.0521452667436 0.130363166859\n",
      "15.8264026857 202.8616 -0.0520105092525 0.130026273131 -0.0520105092525 0.130026273131\n",
      "15.8264026169 202.8616 -0.0520105090267 0.130026272567 -0.0520105090267 0.130026272567\n",
      "15.7855029753 202.8616 -0.0518761000119 0.12969025003 -0.0518761000119 0.12969025003\n",
      "15.785502838 202.8616 -0.0518760995607 0.129690248902 -0.0518760995607 0.129690248902\n",
      "15.7447088923 202.8616 -0.0517420378961 0.12935509474 -0.0517420378961 0.12935509474\n",
      "15.7447087554 202.8616 -0.0517420374461 0.129355093615 -0.0517420374461 0.129355093615\n",
      "15.5471197345 202.8616 -0.0510926981236 0.127731745309 -0.0510926981236 0.127731745309\n",
      "15.5471184155 202.8616 -0.0510926937889 0.127731734472 -0.0510926937889 0.127731734472\n",
      "15.6063344444 202.8616 -0.0512872961809 0.128218240452 -0.0512872961809 0.128218240452\n",
      "15.6063337917 202.8616 -0.051287294036 0.12821823509 -0.051287294036 0.12821823509\n",
      "15.716935961 202.8616 -0.0516507673572 0.129126918393 -0.0516507673572 0.129126918393\n",
      "15.7169359345 202.8616 -0.0516507672702 0.129126918176 -0.0516507672702 0.129126918176\n",
      "15.6892120714 202.8616 -0.0515596579848 0.128899144962 -0.0515596579848 0.128899144962\n",
      "15.689212098 202.8616 -0.0515596580723 0.128899145181 -0.0515596580723 0.128899145181\n",
      "15.6615371647 202.8616 -0.0514687095857 0.128671773964 -0.0514687095857 0.128671773964\n",
      "15.6615371648 202.8616 -0.0514687095859 0.128671773965 -0.0514687095859 0.128671773965\n",
      "15.6339110487 202.8616 -0.0513779215276 0.128444803819 -0.0513779215276 0.128444803819\n",
      "15.6339110487 202.8616 -0.0513779215278 0.12844480382 -0.0513779215278 0.12844480382\n",
      "15.5788049233 202.8616 -0.0511968255641 0.12799206391 -0.0511968255641 0.12799206391\n",
      "15.5788049236 202.8616 -0.0511968255651 0.127992063913 -0.0511968255651 0.127992063913\n",
      "15.5238930356 202.8616 -0.0510163679265 0.127540919816 -0.0510163679265 0.127540919816\n",
      "15.5238930355 202.8616 -0.051016367926 0.127540919815 -0.051016367926 0.127540919815\n",
      "15.4691747 202.8616 -0.0508365463613 0.127091365903 -0.0508365463613 0.127091365903\n",
      "15.4691746998 202.8616 -0.0508365463608 0.127091365902 -0.0508365463608 0.127091365902\n",
      "15.4146492344 202.8616 -0.0506573586274 0.126643396569 -0.0506573586274 0.126643396569\n",
      "15.4146492344 202.8616 -0.0506573586274 0.126643396569 -0.0506573586274 0.126643396569\n",
      "15.3603159593 202.8616 -0.0504788024917 0.126197006229 -0.0504788024917 0.126197006229\n",
      "15.3603159593 202.8616 -0.0504788024917 0.126197006229 -0.0504788024917 0.126197006229\n",
      "14.8274058262 202.8616 -0.0487274931158 0.12181873279 -0.0487274931158 0.12181873279\n",
      "14.8274058176 202.8616 -0.0487274930875 0.121818732719 -0.0487274930875 0.121818732719\n",
      "14.312984458 202.8616 -0.0470369436041 0.11759235901 -0.0470369436041 0.11759235901\n",
      "14.3129844413 202.8616 -0.0470369435494 0.117592358873 -0.0470369435494 0.117592358873\n",
      "13.8164103441 202.8616 -0.0454050457524 0.113512614381 -0.0454050457524 0.113512614381\n",
      "13.8164103777 202.8616 -0.0454050458629 0.113512614657 -0.0454050458629 0.113512614657\n",
      "13.337064416 202.8616 -0.0438297651075 0.109574412769 -0.0438297651075 0.109574412769\n",
      "13.3370644321 202.8616 -0.0438297651603 0.109574412901 -0.0438297651603 0.109574412901\n",
      "12.8743488844 202.8616 -0.0423091371471 0.105772842868 -0.0423091371471 0.105772842868\n",
      "12.8743488941 202.8616 -0.0423091371788 0.105772842947 -0.0423091371788 0.105772842947\n",
      "12.4276867797 202.8616 -0.0408412657685 0.102103164421 -0.0408412657685 0.102103164421\n",
      "12.4276867891 202.8616 -0.0408412657991 0.102103164498 -0.0408412657991 0.102103164498\n",
      "11.3297809923 202.8616 -0.0372332039589 0.0930830098973 -0.0372332039589 0.0930830098973\n",
      "11.3297812703 202.8616 -0.0372332048722 0.0930830121806 -0.0372332048722 0.0930830121806\n",
      "10.3288676434 202.8616 -0.0339438896383 0.0848597240958 -0.0339438896383 0.0848597240958\n",
      "10.3288685113 202.8616 -0.0339438924906 0.0848597312265 -0.0339438924906 0.0848597312265\n",
      "9.41638074888 202.8616 -0.0309451723043 0.0773629307607 -0.0309451723043 0.0773629307607\n",
      "9.4163798328 202.8616 -0.0309451692938 0.0773629232344 -0.0309451692938 0.0773629232344\n",
      "8.58450450675 202.8616 -0.0282113667865 0.0705284169663 -0.0282113667865 0.0705284169663\n",
      "8.58450370156 202.8616 -0.0282113641404 0.0705284103511 -0.0282113641404 0.0705284103511\n",
      "7.8261186624 202.8616 -0.0257190737015 0.0642976842537 -0.0257190737015 0.0642976842537\n",
      "7.82611844758 202.8616 -0.0257190729955 0.0642976824888 -0.0257190729955 0.0642976824888\n",
      "7.13473180921 202.8616 -0.0234469602567 0.0586174006417 -0.0234469602567 0.0586174006417\n",
      "7.13473160089 202.8616 -0.0234469595721 0.0586173989302 -0.0234469595721 0.0586173989302\n",
      "6.5044244622 202.8616 -0.0213755731731 0.0534389329326 -0.0213755731731 0.0534389329326\n",
      "6.50442430252 202.8616 -0.0213755726483 0.0534389316207 -0.0213755726483 0.0534389316207\n",
      "5.74241259042 202.8616 -0.0188713638278 0.0471784095694 -0.0188713638278 0.0471784095694\n",
      "5.74241214288 202.8616 -0.018871362357 0.0471784058925 -0.018871362357 0.0471784058925\n",
      "5.06967311131 202.8616 -0.0166605314865 0.0416513287163 -0.0166605314865 0.0416513287163\n",
      "5.06967190289 202.8616 -0.0166605275153 0.0416513187882 -0.0166605275153 0.0416513187882\n",
      "Pfinal= 8.00160074672 atm, tfinal= 31.6 min\n",
      "[  4.98945436e-01   2.49872487e+00   8.10762196e+02] 0.0348 1 810.762195661\n"
     ]
    },
    {
     "data": {
      "image/png": "[encoded data removed]",
      "text/plain": [
       "<matplotlib.figure.Figure at 0x3dd5a33f98>"
      ]
     },
     "metadata": {},
     "output_type": "display_data"
    }
   ],
   "source": [
    "Po = 5 #atm\n",
    "Po = Po*101.325 #kPa\n",
    "R = 8.314 #kPa.L/mol.K\n",
    "Vo = 1 #L\n",
    "Nto = Po*V/(R*T)\n",
    "#Nto = 10 #mol\n",
    "NAo = 3/5*Nto\n",
    "NRo = 0\n",
    "print(T, Nto, Vo)\n",
    "\n",
    "\n",
    "tfinal = 31.6 #min\n",
    "tspan = linspace(0, tfinal)\n",
    "\n",
    "def ri(var):\n",
    "    NA, NR, P = var\n",
    "    rA = -k*(NA/Vo)**n\n",
    "    rR = -2.5*rA\n",
    "    return [rA, rR]\n",
    "\n",
    "def diffs(var, t):\n",
    "    NA, NR, P = var\n",
    "    rA, rR = ri(var)\n",
    "    dNAdt = rA*Vo\n",
    "    dNRdt = rR*Vo\n",
    "    dPdt = (Po/Nto)*(dNAdt+dNRdt)\n",
    "    print(dPdt, Po/Nto, dNAdt, dNRdt, rA, rR)\n",
    "    return [dNAdt, dNRdt, dPdt]\n",
    "\n",
    "var = odeint(diffs, [NAo, NRo, Po], tspan)\n",
    "\n",
    "plt.plot(tspan, var[:, 0:2], tspan, var[:, 2]/101.325)\n",
    "plt.legend(['A', 'R', 'P'])\n",
    "\n",
    "print('Pfinal=', var[-1, 2]/101.325, 'atm,', 'tfinal=', tfinal, 'min')\n",
    "print(var[-1, :], k, n, (Po/Nto)*(var[-1, 0]+var[-1,1]+(Nto*2/5)))"
   ]
  },
  {
   "cell_type": "markdown",
   "metadata": {},
   "source": [
    "## Continuous flow reactors\n",
    "\n",
    "Continuous flow reactors are similar to batch reactors, HOWEVER in this case the ideal gas law needs to be written in terms of flow rates:\n",
    "$$ PQ = FRT $$\n",
    "\n",
    "This modified ideal gas law introduces the concept of time on both sides, with Q the volumetric flow (volume per time through the reactor) and F the molar flow (moles per time through the reactor)."
   ]
  },
  {
   "cell_type": "markdown",
   "metadata": {},
   "source": [
    "Another major difference between the batch reactor and continuous flow (CSTR/PFR/PBR) is that the pressure in this reactor is ***ONLY*** a function of friction in the reactor and does not change as a result of molar expansion (more molecules produced in the reaction). In this subject (CKN321) the momentum balance (pressure drop) is not considered and therefore we assume pressure drop to be negligible. This will be considered in the following subject (CRO410)."
   ]
  },
  {
   "cell_type": "markdown",
   "metadata": {},
   "source": [
    "The implication of the previous point is that ***ONLY*** a single parameter, the volumetric flowrate Q, will be influenced by the molecular expansion in the case of gas phase reactions. Therefore, for **isothermal** reactions with **negligible pressure** drop the following equation can be derived:\n",
    "$$ \\frac{Q_2}{Q_1} = \\frac{F_2}{F_1} $$"
   ]
  },
  {
   "cell_type": "markdown",
   "metadata": {},
   "source": [
    "This equation simplifies the solution of gas phase reactions significantly as long a the conditions at some point in the reactor is known (note it does not necessarily have to be the inlet conditions)."
   ]
  },
  {
   "cell_type": "markdown",
   "metadata": {},
   "source": [
    "Let's consider an example problem:\n",
    "A high molecular weight hydrocarbon gas A is fed continuously to a heated high temperature mixed reactor where it thermally cracks (homogeneous gas reaction) into lower molecular weight materials, collectively called R, by a stoichiometry approximated by \n",
    "\n",
    "$$A \\to 5R. $$\n",
    "\n",
    "By changing the feed rate, different extents of cracking are obtained as follows:\n",
    "\n",
    "|$F_A0$, millimol/hr |300| 1000| 3000| 5000|\n",
    "|---|---|---|---|---|\n",
    "|$C_{A,out}$ millimol/l| 16| 30| 50| 60|\n",
    "\n",
    "The internal void volume of the reactor is V = 0,1 l, and at the temperature of the reactor, the feed concentration is $C_{A0} = 100 millimol/l$. Find a rate equation to represent the cracking reaction."
   ]
  },
  {
   "cell_type": "markdown",
   "metadata": {
    "collapsed": true
   },
   "source": [
    "In this case we have a CSTR operated at various conditions:\n",
    "\n",
    "The CSTR mole balance is:\n",
    "\n",
    "$$ F_{Ao} - F_A = -r_AV $$\n",
    "\n",
    "We know that in all cases the inlet concentration is $C_{Ao}$ = 100 mmol/l. This means we can get the volumetric flowrates into the reactor using:\n",
    "\n",
    "$$ Q_o = F_{Ao}/C_{Ao} $$\n",
    "\n",
    "We also know the outlet concentrations can be expressed as:\n",
    "$$ C_{A,out} = \\frac{F_{A,out}}{Q_{out}} $$\n",
    "\n",
    "This leads back to the ideal gas law:\n",
    "\n",
    "$$ PQ = FRT $$\n",
    "\n",
    "or\n",
    "\n",
    "$$ \\frac{F_t}{F_{to}} = \\frac{Q}{Q_o} $$\n",
    "\n",
    "or \n",
    "\n",
    "$$ Q_out = Q_o \\frac{F_t}{F_{to}} $$\n",
    "$$F_t = F_A+5(F_{Ao}-F_A)$$\n",
    "\n",
    "This rewrites the entire mole balance as a function of $F_A$\n"
   ]
  },
  {
   "cell_type": "code",
   "execution_count": 400,
   "metadata": {
    "collapsed": false
   },
   "outputs": [
    {
     "data": {
      "text/plain": [
       "[<matplotlib.lines.Line2D at 0x3dd25de668>,\n",
       " <matplotlib.lines.Line2D at 0x3dd25de7f0>]"
      ]
     },
     "execution_count": 400,
     "metadata": {},
     "output_type": "execute_result"
    },
    {
     "data": {
      "image/png": "[encoded data removed]",
      "text/plain": [
       "<matplotlib.figure.Figure at 0x3dcfa484a8>"
      ]
     },
     "metadata": {},
     "output_type": "display_data"
    }
   ],
   "source": [
    "from scipy.optimize import fsolve\n",
    "from numpy import append\n",
    "def r(FA):\n",
    "    Ft = FA+5*(FAo-FA)\n",
    "    Q = Qo*(Ft/FAo)\n",
    "    CA = FA/Q\n",
    "    return -k*CA**n\n",
    "\n",
    "\n",
    "def func(FA):\n",
    "    rA = r(FA)\n",
    "    func1 = FAo-FA+rA*V\n",
    "    return func1\n",
    "\n",
    "FAe = array([])\n",
    "CAo = 100 #mmol/L\n",
    "k = 100\n",
    "n = 1\n",
    "V = 0.1 #L\n",
    "FAoe = linspace(0.1, 5000, 100)\n",
    "\n",
    "for FAo in FAoe:\n",
    "    Qo = FAo/CAo\n",
    "    FAe = append(FAe, fsolve(func, FAo/2))\n",
    "\n",
    "Fte = FAe+5*(FAoe-FAe)\n",
    "Qe = Qo*(Fte/FAo)\n",
    "CAe = FAe/Qe\n",
    "    \n",
    "plt.plot(FAoe, CAe,  [300, 1000, 3000, 5000], [16, 30, 50, 60], 'o')\n",
    "    \n",
    "    \n",
    "    "
   ]
  },
  {
   "cell_type": "markdown",
   "metadata": {},
   "source": [
    "# Tutorial:\n",
    "\n",
    "## Question 1\n",
    "The following gas phase reaction occurs in a piston reactor (constant pressure batch):\n",
    "$$2A+B \\to 4C $$\n",
    "The initial mixture consists out of a mixture of A:B:inerts of 30:40:20.\n",
    "1. Assuming $r_A = -kC_AC_B$ derive a set of equations to determine how the concentration of A changes with time. Leave the answers in differential equation form. [7]\n",
    "2. If the reaction is performed at 25°C and 1 bar at what time will the piston be moving the fastest? [4]\n",
    "3. If the initial feed were fed to a constant volume reactor (same pressure and temperature) will the conversion of A at a certain time be higher or lower than that of the piston reactor? Show graphs to answer this question. [4]"
   ]
  },
  {
   "cell_type": "markdown",
   "metadata": {},
   "source": [
    "## Question 2\n",
    "\n",
    "The following homogeneous **first order** gas phase reaction:\n",
    "$$ A \\to 12B $$\n",
    "occurs in a constant pressure batch reactor. At 200°C and 20 bar it takes 3.5 minutes to\n",
    "convert 80% of a pure A feed. If the reaction is performed in a constant volume reactor\n",
    "(starting with pure A at 200°C and 20 bar), how long will it take to convert 90% of A."
   ]
  },
  {
   "cell_type": "code",
   "execution_count": 401,
   "metadata": {
    "collapsed": false
   },
   "outputs": [
    {
     "name": "stdout",
     "output_type": "stream",
     "text": [
      "0.508418249561216\n",
      "0.800112394507\n"
     ]
    },
    {
     "data": {
      "image/png": "[encoded data removed]",
      "text/plain": [
       "<matplotlib.figure.Figure at 0x3dcfae4240>"
      ]
     },
     "metadata": {},
     "output_type": "display_data"
    }
   ],
   "source": [
    "from scipy.integrate import odeint\n",
    "from numpy import linspace\n",
    "import matplotlib.pyplot as plt\n",
    "% matplotlib inline\n",
    "\n",
    "T = 200 #C\n",
    "T = T+273.15 #K\n",
    "P = 20 #bar\n",
    "P = P*100 #kPa\n",
    "t = 3.5 #min\n",
    "x = 0.8 \n",
    "Vo = 1 #L chosen base\n",
    "R = 8.314 #kPa.L/mol.K\n",
    "Nto = P*Vo/(R*T)\n",
    "NAo = Nto\n",
    "print(NAo)\n",
    "tspan = linspace(0, 3.5)\n",
    "\n",
    "def ri(var):\n",
    "    NA, NB, V = var\n",
    "    rA = -k*(NA/V)\n",
    "    rB = -12*rA\n",
    "    return [rA, rB]\n",
    "\n",
    "def diffs(var, t):\n",
    "    NA, NB, V = var\n",
    "    rA, rB = ri(var)\n",
    "    dNAdt = rA*V\n",
    "    dNBdt = rB*V\n",
    "    dVdt = Vo/Nto*(dNAdt+dNBdt)\n",
    "    \n",
    "    return [dNAdt, dNBdt, dVdt]\n",
    "k = 0.46 #1/min\n",
    "var = odeint(diffs, [NAo, NBo, Vo], tspan)\n",
    "NA1 = var[:, 0]\n",
    "plt.plot(tspan, var)\n",
    "print((NAo-NA1[-1])/NAo)"
   ]
  },
  {
   "cell_type": "code",
   "execution_count": 402,
   "metadata": {
    "collapsed": false
   },
   "outputs": [
    {
     "name": "stdout",
     "output_type": "stream",
     "text": [
      "0.899741156435\n"
     ]
    },
    {
     "data": {
      "image/png": "[encoded data removed]",
      "text/plain": [
       "<matplotlib.figure.Figure at 0x3dd249d208>"
      ]
     },
     "metadata": {},
     "output_type": "display_data"
    }
   ],
   "source": [
    "def ri(var):\n",
    "    NA, NB, P = var\n",
    "    rA = -k*(NA/V)\n",
    "    rB = -12*rA\n",
    "    return [rA, rB]\n",
    "\n",
    "def diffs(var, t):\n",
    "    NA, NB, P = var\n",
    "    rA, rB = ri(var)\n",
    "    dNAdt = rA*V\n",
    "    dNBdt = rB*V\n",
    "    dPdt = Po/Nto*(dNAdt+dNBdt)\n",
    "    \n",
    "    return [dNAdt, dNBdt, dPdt]\n",
    "\n",
    "T = 200 #C\n",
    "T = T+273.15 #K\n",
    "Po = 20 #bar\n",
    "Po = Po*100 #kPa\n",
    "t = 3.5 #min\n",
    "x = 0.8 \n",
    "V = 1 #L chosen base\n",
    "R = 8.314 #kPa.L/mol.K\n",
    "Nto = Po*V/(R*T)\n",
    "NAo = Nto\n",
    "tspan = linspace(0, 5)\n",
    "\n",
    "k = 0.46 #1/min\n",
    "var = odeint(diffs, [NAo, NBo, Po], tspan)\n",
    "NA2 = var[:, 0]\n",
    "plt.plot(tspan, var[:, 0:2], tspan, var[:, 2]/1000)\n",
    "plt.legend(['A', 'B', 'P'])\n",
    "print((NAo-NA2[-1])/NAo)"
   ]
  },
  {
   "cell_type": "code",
   "execution_count": 403,
   "metadata": {
    "collapsed": false
   },
   "outputs": [
    {
     "data": {
      "text/plain": [
       "[<matplotlib.lines.Line2D at 0x3dd2713518>]"
      ]
     },
     "execution_count": 403,
     "metadata": {},
     "output_type": "execute_result"
    },
    {
     "data": {
      "image/png": "[encoded data removed]",
      "text/plain": [
       "<matplotlib.figure.Figure at 0x3dcfd8dc18>"
      ]
     },
     "metadata": {},
     "output_type": "display_data"
    }
   ],
   "source": [
    "plt.plot(NA1, NA2)"
   ]
  },
  {
   "cell_type": "markdown",
   "metadata": {},
   "source": [
    "## Question 3\n",
    "\n",
    "The following gas phase reaction is performed at 25°C,\n",
    "$$ C\\to 4D $$\n",
    "Three runs were done in different sized CSTR’s with different feeds. The following data\n",
    "were obtained:\n",
    "\n",
    "|$Q_o $(l/h)|Pressure (kPaa)|Fraction C in feed|Conversion percent| Volume (L)|\n",
    "|---|---|---|---|---|\n",
    "|1|200|0.8|70|0.7|\n",
    "|2|250|0.4|50|6.3|\n",
    "|1.5|160|0.5|64|2.4|\n",
    "\n",
    "What size CSTR should be used to obtain the following:\n",
    "\n",
    "|$Q_o $(l/h)|Pressure (kPaa)|Fraction C in feed|Conversion percent|\n",
    "|---|---|---|---|\n",
    "|4|80|0.6|37.5|"
   ]
  },
  {
   "cell_type": "markdown",
   "metadata": {},
   "source": [
    "Mole balance:\n",
    "$$ F_{Co}-F_C=-r_CV$$\n",
    "$$ r_C = \\frac{F_C-F_{Co}}{V} $$\n",
    "\n",
    "What is $r_C = f(C_C)$?\n",
    "\n",
    "$$PQ = F_{to}RT$$\n",
    "\n",
    "$$F_{to} = \\frac{PQ}{RT} $$\n",
    "\n",
    "$$F_{Co} = y_{Co}F_{to} $$\n",
    "\n",
    "$$ F_C = x_CF_{Co} $$\n",
    "\n",
    "$$ C_C = \\frac{F_C}{Q}$$\n",
    "\n",
    "$$ Q = Q_o\\frac{F_t}{F_{to}}$$\n",
    "\n",
    "$$ F_t  = F_C + F_D$$\n",
    "\n",
    "$$ F_D = F_{Do}+4(F_{Co}-F_C) $$\n",
    "\n",
    "$$ln(-r_C) = nln(C_C)+ln(k)$$\n",
    "$$y = mx+c$$\n",
    "\n",
    "\n"
   ]
  },
  {
   "cell_type": "code",
   "execution_count": 414,
   "metadata": {
    "collapsed": false
   },
   "outputs": [
    {
     "name": "stdout",
     "output_type": "stream",
     "text": [
      "[-0.01411963 -0.03667435 -0.0091125 ] [ 0.0072254   0.01260681  0.00592777]\n",
      "[ 1.81691696  4.65245573] k= 104.842133466 n= 1.81691696486\n"
     ]
    },
    {
     "data": {
      "text/plain": [
       "[<matplotlib.lines.Line2D at 0x3dd3b44278>,\n",
       " <matplotlib.lines.Line2D at 0x3dd3b44c50>]"
      ]
     },
     "execution_count": 414,
     "metadata": {},
     "output_type": "execute_result"
    },
    {
     "data": {
      "image/png": "[encoded data removed]",
      "text/plain": [
       "<matplotlib.figure.Figure at 0x3dd275f128>"
      ]
     },
     "metadata": {},
     "output_type": "display_data"
    }
   ],
   "source": [
    "from numpy import array, append, log, polyfit, linspace, exp\n",
    "\n",
    "Qo = array([1, 2, 1.5])\n",
    "P = array([200, 250, 160]) #kPa\n",
    "yCo = array([0.8, 0.4, 0.5])\n",
    "xC = array([0.7, 0.5, 0.64])\n",
    "V = array([3.2, 1.1, 3.4]) #L\n",
    "\n",
    "R = 8.314\n",
    "T = 25 #C\n",
    "T = T+273.15 #K\n",
    "\n",
    "Fto = array([])\n",
    "FCo = array([])\n",
    "FDo = array([])\n",
    "FC = array([])\n",
    "FD = array([])\n",
    "rC = array([])\n",
    "Q = array([])\n",
    "CC = array([])\n",
    "\n",
    "for i in range(3):\n",
    "    Fto = append(Fto, P[i]*Qo[i]/(R*T))\n",
    "    FCo = append(FCo, yCo[i]*Fto[i])\n",
    "    FDo = append(FDo, (1-yCo[i])*Fto[i])\n",
    "    FC = append(FC, FCo[i]*(1-xC[i]))\n",
    "    rC = append(rC, (FC[i]-FCo[i])/V[i])\n",
    "    FD = append(FD, FDo[i]+4*(FCo[i]-FC[i]))\n",
    "    Q = append(Q, Qo[i]*(FC[i]+FD[i])/Fto[i])\n",
    "    CC = append(CC, FC[i]/Q[i])\n",
    "    \n",
    "#print([Fto, FCo, FDo, FC, rC, FD, Q, CC])\n",
    "print(rC, CC)\n",
    "\n",
    "z = polyfit(log(CC), log(-rC), 1)\n",
    "print (z, 'k=', exp(z[1]), 'n=', z[0])\n",
    "logCspan = linspace(-6, -3.5)\n",
    "plt.plot(log(CC), log(-rC), 'o', logCspan, z[0]*logCspan+z[1])"
   ]
  },
  {
   "cell_type": "markdown",
   "metadata": {},
   "source": [
    "This means the function is:\n",
    "$$r_C = 104C_A^{1.8}$$\n",
    "\n",
    "Check fit:"
   ]
  },
  {
   "cell_type": "code",
   "execution_count": 415,
   "metadata": {
    "collapsed": false
   },
   "outputs": [
    {
     "data": {
      "text/plain": [
       "[<matplotlib.lines.Line2D at 0x3dd3ba44a8>,\n",
       " <matplotlib.lines.Line2D at 0x3dd3ba4e80>]"
      ]
     },
     "execution_count": 415,
     "metadata": {},
     "output_type": "execute_result"
    },
    {
     "data": {
      "image/png": "[encoded data removed]",
      "text/plain": [
       "<matplotlib.figure.Figure at 0x3dd27bde10>"
      ]
     },
     "metadata": {},
     "output_type": "display_data"
    }
   ],
   "source": [
    "Cspan = linspace(0, 0.03)\n",
    "k = 104\n",
    "n = 1.8\n",
    "plt.plot(CC, -rC, 'o', Cspan, k*Cspan**n)\n"
   ]
  },
  {
   "cell_type": "markdown",
   "metadata": {},
   "source": [
    "Now calculate the volume from the kinetic expression"
   ]
  },
  {
   "cell_type": "code",
   "execution_count": 416,
   "metadata": {
    "collapsed": false
   },
   "outputs": [
    {
     "name": "stdout",
     "output_type": "stream",
     "text": [
      "[0.1290937285419497, 0.07745623712516982, 0.05163749141677988, 0.04841014820323113, 0.16782184710453463, 6.700000000000001, 0.007225395254213601]\n",
      "V= 1.995737538490755 L\n"
     ]
    }
   ],
   "source": [
    "Qo = 4\n",
    "P = 80 #kPa\n",
    "yCo = 0.6\n",
    "xC = 0.375\n",
    "\n",
    "R = 8.314\n",
    "T = 25 #C\n",
    "T = T+273.15 #K\n",
    "\n",
    "Fto = P*Qo/(R*T)\n",
    "FCo = yCo*Fto\n",
    "FDo = (1-yCo)*Fto\n",
    "FC = FCo*(1-xC)\n",
    "FD = FDo+4*(FCo-FC)\n",
    "Q  = Qo*(FC+FD)/Fto\n",
    "CC = FC/Q\n",
    "rC = -k*CC**n\n",
    "\n",
    "print([Fto, FCo, FDo, FC, FD, Q, CC])\n",
    "#print(rC, CC)\n",
    "V = (FCo-FC)/-rC\n",
    "print('V=', V, 'L')"
   ]
  },
  {
   "cell_type": "markdown",
   "metadata": {},
   "source": [
    "## Question 4\n",
    "\n",
    "The following irreversible gas phase reaction\n",
    "$$ A\\to2B$$\n",
    "was studied using a packed bed of catalyst particles. Different runs were performed over the same catalyst bed, using different feed flowrates and different inlet compositions – see table below. All runs were performed at 60°C. Assuming that plug flow behaviour applies in the fixed bed reactor, determine how much of the catalyst will be required in a CSTR (catalyst in spinning basket) that converts 90% of a pure A stream of 20 mol/min. Assume power law kinetics apply  \n",
    "($-r_A = kC_A^n$)\n",
    "\n",
    "|Run|Inlet flowrate (l/min)|Percent A in inlet|Percent B in inlet|Pressure (bar)|Conversion of A|\n",
    "|---|---|---|---|---|---|\n",
    "|1 |30 |100 |0 |20 |80.7|\n",
    "|2 |40 |80 |20 |20 |76.8|\n",
    "|3 |50 |50 |50 |20 |68.8|\n",
    "\n",
    "The following information is available:\n",
    "\n",
    "- Mass of catalyst used - 20g\n",
    "\n",
    "- Pressure of all runs (including CSTR) – 20 bar\n",
    "\n",
    "- Packing density of the catalyst – 800g/l"
   ]
  },
  {
   "cell_type": "markdown",
   "metadata": {},
   "source": [
    "Mole balance:\n",
    "$$\\frac{dF_i}{dW} = r_i' $$\n",
    "\n",
    "Rates:\n",
    "$$ r_A = -kC_A^n = -k\\left(\\frac{F_A}{Q}\\right)^n$$\n",
    "\n",
    "Ideal gas law:\n",
    "$$PQ = FRT$$\n",
    "$$ \\frac{dQ}{dW} = \\frac{RT}{P}\\sum{\\frac{dF_i}{dW}}$$\n",
    "\n",
    "Information:\n",
    "\n",
    "W = 20 g\n",
    "\n",
    "P = 20 bar\n",
    "\n",
    "$\\rho_B$ = 800 g/L\n",
    "\n",
    "\n",
    "\n"
   ]
  },
  {
   "cell_type": "code",
   "execution_count": 424,
   "metadata": {
    "collapsed": false
   },
   "outputs": [
    {
     "data": {
      "text/plain": [
       "[<matplotlib.lines.Line2D at 0x3dcfc1fd68>,\n",
       " <matplotlib.lines.Line2D at 0x3dcfc1f320>,\n",
       " <matplotlib.lines.Line2D at 0x3dcfc24eb8>,\n",
       " <matplotlib.lines.Line2D at 0x3dcfc24978>,\n",
       " <matplotlib.lines.Line2D at 0x3dcfcc2b00>,\n",
       " <matplotlib.lines.Line2D at 0x3dcfcc21d0>,\n",
       " <matplotlib.lines.Line2D at 0x3dcfb73e80>,\n",
       " <matplotlib.lines.Line2D at 0x3dcfb735f8>,\n",
       " <matplotlib.lines.Line2D at 0x3dcfc69d68>,\n",
       " <matplotlib.lines.Line2D at 0x3dcf77ae48>]"
      ]
     },
     "execution_count": 424,
     "metadata": {},
     "output_type": "execute_result"
    },
    {
     "data": {
      "image/png": "[encoded data removed]",
      "text/plain": [
       "<matplotlib.figure.Figure at 0x3dcfb00da0>"
      ]
     },
     "metadata": {},
     "output_type": "display_data"
    }
   ],
   "source": [
    "from numpy import array, append, linspace\n",
    "import matplotlib.pyplot as plt\n",
    "% matplotlib inline\n",
    "\n",
    "Qo = array([30, 40, 50])\n",
    "yAo = array([100, 80, 50])/100\n",
    "yBo = array([0, 20, 50])/100\n",
    "xA = array([80.7, 76.8, 68.8])/100\n",
    "R = 8.314 #kPa.L/mol.K\n",
    "T = 60 #C\n",
    "T = T+273.15 #K\n",
    "P = 20 #bar\n",
    "P = P*100\n",
    "W = 20 #g\n",
    "Wspan = linspace(0, W)\n",
    "\n",
    "def ri(var):\n",
    "    FA, FB, Q = var\n",
    "    rA = -k*(FA/Q)**n\n",
    "    rB = -2*rA\n",
    "    return [rA, rB]\n",
    "\n",
    "def diffs(var, W):\n",
    "    FA, FB, Q = var\n",
    "    rA, rB = ri(var)\n",
    "    dFAdW = rA\n",
    "    dFBdW = rB\n",
    "    dQdW = Qoi/Ftoi*(dFAdW+dFBdW)\n",
    "    return [dFAdW, dFBdW, dQdW]\n",
    "\n",
    "Fto = array([])\n",
    "FAo = array([])\n",
    "FBo = array([])\n",
    "FA = array([])\n",
    "FB = array([])\n",
    "Q = array([])\n",
    "\n",
    "for i in range(3):\n",
    "    Fto = append(Fto, P*Qo[i]/(R*T))\n",
    "    FAo = append(FAo, yAo[i]*Fto[i])\n",
    "    FBo = append(FBo, yBo[i]*Fto[i])\n",
    "    FA = append(FA, (1-xA[i])*FAo[i])\n",
    "    FB = append(FB, FBo[i]+2*(FAo[i]-FA[i]))\n",
    "    Q = append(Q, Qo[i]*(FA[i]+FB[i])/Fto[i])\n",
    "\n",
    "k = 3.7\n",
    "n = 1\n",
    "\n",
    "Qoi = Qo[0]\n",
    "Ftoi = Fto[0]\n",
    "var1 = odeint(diffs, [FAo[0], FBo[0], Qo[0]], Wspan)\n",
    "FA1 = var1[:, 0]\n",
    "FB1 = var1[:, 1]\n",
    "Q1 = var1[:, 2]\n",
    "\n",
    "Qoi = Qo[1]\n",
    "Ftoi = Fto[1]\n",
    "var2 = odeint(diffs, [FAo[1], FBo[1], Qo[1]], Wspan)    \n",
    "FA2 = var2[:, 0]\n",
    "FB2 = var2[:, 1]\n",
    "Q2 = var2[:, 2]\n",
    "\n",
    "Qoi = Qo[2]\n",
    "Ftoi = Fto[2]\n",
    "var3 = odeint(diffs, [FAo[2], FBo[2], Qo[2]], Wspan)    \n",
    "FA3 = var3[:, 0]\n",
    "FB3 = var3[:, 1]\n",
    "Q3 = var3[:, 2]\n",
    "\n",
    "plt.plot([0, 70], [0, 70], FA1[-1], FA[0], 'o', FA2[-1], FA[1], 'o', FA3[-1], FA[2], 'o', FB1[-1], FB[0], '.', FB2[-1], FB[1], '.', FB3[-1], FB[2], '.', Q1[-1], Q[0], 'p', Q2[-1], Q[1], 'p', Q3[-1], Q[2], 'p')\n",
    "\n",
    "#print([FA1[-1], FA[0]], [FA2[-1], FA[1]], [FA3[-1], FA[2]])\n",
    "#print([FB1[-1], FB[0]], [FB2[-1], FB[1]], [FB3[-1], FB[2]])\n",
    "#print([Q1[-1], Q[0]], [Q2[-1], Q[1]], [Q3[-1], Q[2]])\n",
    "    "
   ]
  },
  {
   "cell_type": "markdown",
   "metadata": {},
   "source": [
    "The reaction rate can therefore be described by:\n",
    "$$ r_A = -3.7C_A $$"
   ]
  },
  {
   "cell_type": "markdown",
   "metadata": {},
   "source": [
    "CSTR mole balance:\n",
    "\n",
    "Mole balances:\n",
    "$$ F_{Ao}-F_A = -r_A'W $$\n",
    "$$ F_B = F_{Bo}+2(F_{Ao}-F_A)$$\n",
    "\n",
    "rates:\n",
    "$$r_A = -3.7C_A = -3.7\\left(\\frac{F_A}{Q}\\right) $$\n",
    "\n",
    "Ideal gas law:\n",
    "$$Q = Q_o\\frac{F_A+F_B}{F_{to}}$$"
   ]
  },
  {
   "cell_type": "code",
   "execution_count": 337,
   "metadata": {
    "collapsed": false
   },
   "outputs": [
    {
     "name": "stdout",
     "output_type": "stream",
     "text": [
      "W = 128.01009624324325 g\n"
     ]
    }
   ],
   "source": [
    "FAo = 20 #mol/min\n",
    "FBo = 0\n",
    "FA = FAo*(1-0.9) #mol/min\n",
    "FB = FBo+2*(FAo-FA)\n",
    "Fto = FAo+FBo\n",
    "R = 8.314 #kPa.L/mol.K\n",
    "T = 60 #C\n",
    "T = T+273.15 #K\n",
    "P = 20 #bar\n",
    "P = P*100 #kPa\n",
    "Qo = Fto*R*T/P #L/min\n",
    "Q = Qo*(FA+FB)/Fto\n",
    "rA = -3.7*(FA/Q)\n",
    "W = (FAo-FA)/-rA\n",
    "print ('W =', W, 'g')"
   ]
  }
 ],
 "metadata": {
  "anaconda-cloud": {},
  "kernelspec": {
   "display_name": "Python [Root]",
   "language": "python",
   "name": "Python [Root]"
  },
  "language_info": {
   "codemirror_mode": {
    "name": "ipython",
    "version": 3
   },
   "file_extension": ".py",
   "mimetype": "text/x-python",
   "name": "python",
   "nbconvert_exporter": "python",
   "pygments_lexer": "ipython3",
   "version": "3.5.2"
  }
 },
 "nbformat": 4,
 "nbformat_minor": 0
}
