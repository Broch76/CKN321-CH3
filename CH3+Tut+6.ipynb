{
 "cells": [
  {
   "cell_type": "markdown",
   "metadata": {},
   "source": [
    "# 6\n",
    "The following catalysed reaction is studied in a constant volume batch reactor:\n",
    "$$ A+2B \\to C$$\n",
    "The initial concentration of A is 2 mol/l and the initial concentration of B is 5 mol/L. The catalyst concentration is 2 g/L. The following experimental results were obtained:\n",
    "\n",
    "|t (min)|$C_A$ (mol/L)|\n",
    "|---|---|\n",
    "|0|2.00|\n",
    "|1|1.34|\n",
    "|2|0.91|\n",
    "|3|0.74|\n",
    "|4|0.56|\n",
    "|5|0.45|\n",
    "|6|0.40|\n",
    "|7|0.33|\n",
    "|8|0.27|\n",
    "|9|0.23|\n",
    "|10|0.21|\n",
    "What is the rate expression in terms of the mass of catalyst? (k=0.1 L/mol/min)"
   ]
  },
  {
   "cell_type": "code",
   "execution_count": 32,
   "metadata": {},
   "outputs": [],
   "source": [
    "import numpy \n",
    "from numpy import log, array, exp, linspace\n",
    "from matplotlib import pyplot as plt\n",
    "from scipy.integrate import odeint\n",
    "% matplotlib inline"
   ]
  },
  {
   "cell_type": "code",
   "execution_count": 27,
   "metadata": {
    "collapsed": true
   },
   "outputs": [],
   "source": [
    "CAo = 2 #mol/L\n",
    "CBo = 5 #mol/L\n",
    "CCo = 0 #mol/L assumed\n",
    "V = 1 #L  constant so value is an assumption\n",
    "NAo = CAo*V\n",
    "NBo = CBo*V\n",
    "NCo = CCo*V\n",
    "w = 2 #g/L catalyst concentration"
   ]
  },
  {
   "cell_type": "code",
   "execution_count": 44,
   "metadata": {},
   "outputs": [],
   "source": [
    "data = numpy.array([[0,2],\n",
    "                    [1,1.34],\n",
    "                    [2,0.91],\n",
    "                    [3,0.74],\n",
    "                    [4,0.56],\n",
    "                    [5,0.45],\n",
    "                    [6,0.4],\n",
    "                    [7,0.33],\n",
    "                    [8,0.27],\n",
    "                    [9,0.23],\n",
    "                    [10,0.21]])\n",
    "te = data[:,0]\n",
    "NAe = data[:,1]\n"
   ]
  },
  {
   "cell_type": "code",
   "execution_count": 41,
   "metadata": {
    "collapsed": true
   },
   "outputs": [],
   "source": [
    "k,m,n = 0.1, 1, 1\n",
    "No = [2,5,0]\n",
    "tspan = numpy.linspace(0,10,1000)"
   ]
  },
  {
   "cell_type": "code",
   "execution_count": 45,
   "metadata": {},
   "outputs": [
    {
     "data": {
      "image/png": "[encoded data removed]",
      "text/plain": [
       "<matplotlib.figure.Figure at 0x231da9fa978>"
      ]
     },
     "metadata": {},
     "output_type": "display_data"
    },
    {
     "name": "stdout",
     "output_type": "stream",
     "text": [
      "k= 0.1 m= 1 n= 1\n"
     ]
    }
   ],
   "source": [
    "def diffs(N,t):\n",
    "    NA, NB, NC = N\n",
    "    rAprime = -k*((NA/V)**m)*((NB/V)**n)*(V/w)\n",
    "    rBprime = 2*rAprime\n",
    "    rCprime = -rAprime\n",
    "    dNAdt = rAprime*w\n",
    "    dNBdt = rBprime*w\n",
    "    dNCdt = rCprime*w\n",
    "    return [dNAdt,dNBdt,dNCdt]\n",
    "\n",
    "vals = odeint(diffs,No,tspan)\n",
    "NA1 = vals[:,0]\n",
    "\n",
    "plt.plot(tspan,NA1,'-',te,NAe,'o')\n",
    "plt.show()\n",
    "print ('k=',k, 'm=',m, 'n=',n)"
   ]
  },
  {
   "cell_type": "code",
   "execution_count": 46,
   "metadata": {
    "collapsed": true
   },
   "outputs": [],
   "source": [
    "# rA' = -k*CA*CB*(V/w) therefore, k units are L/mol.min"
   ]
  },
  {
   "cell_type": "code",
   "execution_count": null,
   "metadata": {
    "collapsed": true
   },
   "outputs": [],
   "source": []
  }
 ],
 "metadata": {
  "kernelspec": {
   "display_name": "Python 3",
   "language": "python",
   "name": "python3"
  },
  "language_info": {
   "codemirror_mode": {
    "name": "ipython",
    "version": 3
   },
   "file_extension": ".py",
   "mimetype": "text/x-python",
   "name": "python",
   "nbconvert_exporter": "python",
   "pygments_lexer": "ipython3",
   "version": "3.6.1"
  }
 },
 "nbformat": 4,
 "nbformat_minor": 2
}
