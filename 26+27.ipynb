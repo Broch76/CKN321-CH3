{
 "cells": [
  {
   "cell_type": "markdown",
   "metadata": {},
   "source": [
    "# 26\n",
    "\n",
    "The aqueous decomposition of A is studied in an experimental mixed reactor. The results in the table are obtained in steady-state runs. To obtain 75% conversion of reactant in a feed with CA0 = 0,8 mol/l, what residence time is required:\n",
    "\n",
    "a) in a plug flow reactor [300 s]\n",
    "\n",
    "b) in a mixed flow reactor [1200 s]\n",
    "\n",
    "|Concentration of A, mol/l|Concentration of A, mol/|Residence time, sec|\n",
    "|---|---|---|\n",
    "|In Feed|In Exit||\n",
    "|2.00|0.65|300|\n",
    "|2.00|0.92|240|\n",
    "|2.00|1.00|250|\n",
    "|1.00|0.56|110|\n",
    "|1.00|0.37|360|\n",
    "|0.48|0.42|24|\n",
    "|0.48|0.28|200|\n",
    "|0.48|0.2|560|\n"
   ]
  },
  {
   "cell_type": "markdown",
   "metadata": {},
   "source": [
    "$$ r_A = \\frac{C_{Ao}-C_A}{\\tau} $$\n",
    "\n",
    "<img src=\"tut 26.png\">"
   ]
  },
  {
   "cell_type": "markdown",
   "metadata": {},
   "source": [
    "Emperical expression that will work for a reactor with the conditions within the bounds of this expression: $0.2<C_A<1$\n",
    "\n",
    "$$ r_A = -0.0226C_A^3+0.0281C_A^2-0.0014CA-0.0003 $$\n",
    "\n",
    "The required PRF and CSTR need to operate between 0.8 mol/L and 0.2 mol/L\n",
    "\n"
   ]
  },
  {
   "cell_type": "markdown",
   "metadata": {},
   "source": [
    "The CSTR is easy, it operates at the outlet conditions:\n",
    "\n",
    "$$C_A = 0.2 mol/L $$\n",
    "\n",
    "$$ C_{Ao} = 0.8 mol/L$$\n",
    "\n",
    "$$ -r_A = (-0.0226(0.2)^3)+0.0281(0.2)^2-0.0014(0.2)-0.0003 $$\n",
    "\n",
    "$$ \\tau = \\frac{C_{Ao}-C_A}{-r_A} $$"
   ]
  },
  {
   "cell_type": "code",
   "execution_count": 3,
   "metadata": {
    "collapsed": false
   },
   "outputs": [
    {
     "name": "stdout",
     "output_type": "stream",
     "text": [
      "rA= -0.0003632000000000001 τ= 1651.9823788546253\n"
     ]
    }
   ],
   "source": [
    "CA = 0.2\n",
    "CAo = 0.8\n",
    "rA = -(-0.0226*CA**3+0.0281*CA**2-0.0014*CA-0.0003)\n",
    "τ= (CAo-CA)/(-rA)\n",
    "\n",
    "print('rA=', rA, 'τ=', τ)"
   ]
  },
  {
   "cell_type": "markdown",
   "metadata": {},
   "source": [
    "Alternatively you could use the $r_A=-0.0005 \\frac{mol}{L.s}$ as calculated originally at $C_A = 0.2 mol/L$"
   ]
  },
  {
   "cell_type": "code",
   "execution_count": 5,
   "metadata": {
    "collapsed": false
   },
   "outputs": [
    {
     "name": "stdout",
     "output_type": "stream",
     "text": [
      "rA= -0.0005 τ= 1200.0000000000002\n"
     ]
    }
   ],
   "source": [
    "CA = 0.2\n",
    "CAo = 0.8\n",
    "rA = -0.0005\n",
    "τ= (CAo-CA)/(-rA)\n",
    "\n",
    "print('rA=', rA, 'τ=', τ)"
   ]
  },
  {
   "cell_type": "markdown",
   "metadata": {},
   "source": [
    "Both methods would be acceptable, as long as you clearly show how you got the answer."
   ]
  },
  {
   "cell_type": "markdown",
   "metadata": {},
   "source": [
    "The PFR is a bit more complicated, you need to know the rate at each point along the curve describing the $-r_A(C_A)$\n",
    "\n",
    "The PFR mole balance:\n",
    "\n",
    "$$ \\frac{dF_A}{dV} = r_A $$\n",
    "\n",
    "Which can be rewritten in terms of $C_A$ as (liquid phase!!):\n",
    "\n",
    "$$ \\frac{dC_A}{d\\tau} = r_A $$"
   ]
  },
  {
   "cell_type": "code",
   "execution_count": 24,
   "metadata": {
    "collapsed": false
   },
   "outputs": [
    {
     "name": "stdout",
     "output_type": "stream",
     "text": [
      "[ 0.20028954]\n"
     ]
    },
    {
     "data": {
      "text/plain": [
       "<matplotlib.text.Text at 0x253576cf6a0>"
      ]
     },
     "execution_count": 24,
     "metadata": {},
     "output_type": "execute_result"
    },
    {
     "data": {
      "image/png": "[encoded data removed]",
      "text/plain": [
       "<matplotlib.figure.Figure at 0x253562b4518>"
      ]
     },
     "metadata": {},
     "output_type": "display_data"
    }
   ],
   "source": [
    "def r(CA):\n",
    "    rA = -(-0.0226*CA**3+0.0281*CA**2-0.0014*CA-0.0003)\n",
    "    return rA\n",
    "\n",
    "def PFR(CA, τ):\n",
    "    dCAdτ = r(CA)\n",
    "    return dCAdτ\n",
    "\n",
    "from numpy import linspace\n",
    "from scipy.integrate import odeint\n",
    "import matplotlib.pyplot as plt\n",
    "% matplotlib inline\n",
    "\n",
    "τsolve = 315\n",
    "τspan = linspace(0, τsolve)\n",
    "\n",
    "CAout = odeint(PFR, 0.8, τspan)\n",
    "print(CAout[-1])\n",
    "plt.plot(τspan, CAout)\n",
    "plt.ylabel('CA')\n",
    "plt.xlabel('tau')"
   ]
  },
  {
   "cell_type": "markdown",
   "metadata": {},
   "source": [
    "The PFR residence time is 315 s and the CSTR residence time is 1200 (1600) s"
   ]
  },
  {
   "cell_type": "markdown",
   "metadata": {},
   "source": [
    "## 27\n",
    "\n",
    "This problem is similar to 26, in this case it seems like some weird kinetics apply yet again...\n",
    "\n",
    "Let's start by looking at the keywords:\n",
    "\n",
    "### Liquid phase\n",
    "\n",
    "### Batch reactor\n",
    "\n",
    "### $A\\to B$\n",
    "\n",
    "### 7 g/L Catalyst (catalysed reaction)\n",
    "\n",
    "### Profile:\n",
    "\n",
    "<img src=\"Tut5_9.png\" width=\"600\" />"
   ]
  },
  {
   "cell_type": "markdown",
   "metadata": {},
   "source": [
    "### a) \n",
    "\n",
    "Can we fit a powerlaw fit to the data? Well how would a powerlaw fit look? \n",
    "\n",
    "Generally the powerlaw fit would have an initial quick drop which slowed down as $C_A$ decreased. This curve has a characteristic S-shape.\n",
    "\n",
    "This shape is usually known to correspond to an autocatalytic system, but can also describe systems that experience inhibition, systems that heat up over time (exothermic) etc. This makes it difficult to determine exactly the model that can be used to describe the kinetics.\n",
    "\n",
    "Therefore, there is not enough information to fit the kinetics of the system."
   ]
  },
  {
   "cell_type": "markdown",
   "metadata": {},
   "source": [
    "### b)\n",
    "\n",
    "Now we need to determine the amount of catalyst that a CSTR would require to convert 50% of a 0.5 L/h stream with a $C_{Ao}= 2.5 mol/L$ ($C_{Ao,batch, t=0}$).\n",
    "\n",
    "This means we need W. Let's see what we do have...\n",
    "* First we have the the CSTR equation: \n",
    "$$ C_{Ao}-C_A=-r_A\\tau$$\n",
    "* Then we know the $C_{Ao}$ and $C_A$ and Q\n",
    "* Finally we can determine the $-r_A$-value from the figure...HOW?"
   ]
  },
  {
   "cell_type": "markdown",
   "metadata": {},
   "source": [
    "Remember that the mole balance in a catalysed batch reactor can be described by:\n",
    "$$ \\frac{dC_A}{dt} = r_A'\\frac{W}{V} $$\n",
    "\n",
    "We are given $\\frac{W}{V}=7\\:g/L$. This means that the slope of the $C_A$ vs. t graph (given) at a certain $C_A$, divided by the catalyst concentration would yield the $r_A$ at that $C_A$. \n",
    "\n",
    "From the figure is seems that the slope give a straight line around 50% conversion ($C_A = 1.25 mol/L$), but there is a free tool online (curvesnap) I will use to extract the data from the plot."
   ]
  },
  {
   "cell_type": "code",
   "execution_count": 26,
   "metadata": {
    "collapsed": false
   },
   "outputs": [
    {
     "data": {
      "text/plain": [
       "[<matplotlib.lines.Line2D at 0x253578290b8>]"
      ]
     },
     "execution_count": 26,
     "metadata": {},
     "output_type": "execute_result"
    },
    {
     "data": {
      "image/png": "[encoded data removed]",
      "text/plain": [
       "<matplotlib.figure.Figure at 0x25357762eb8>"
      ]
     },
     "metadata": {},
     "output_type": "display_data"
    }
   ],
   "source": [
    "from numpy import array\n",
    "Data = array([[0,2.50146],\n",
    "[2.47475,2.41399],\n",
    "[4.89899,2.2828],\n",
    "[7.42424,2.0379],\n",
    "[9.84848,1.72303],\n",
    "[12.2727,1.33819],\n",
    "[14.798,0.918367],\n",
    "[17.1212,0.586006],\n",
    "[19.6465,0.332362],\n",
    "[22.0202,0.19242]])\n",
    "\n",
    "plt.plot(Data[:, 0], Data[:, 1], 'o')"
   ]
  },
  {
   "cell_type": "markdown",
   "metadata": {},
   "source": [
    "Now we can estimate the $r_A$ by finding the slope between points"
   ]
  },
  {
   "cell_type": "code",
   "execution_count": 28,
   "metadata": {
    "collapsed": false
   },
   "outputs": [
    {
     "name": "stdout",
     "output_type": "stream",
     "text": [
      "[-0.00504928 -0.00773085 -0.01385436 -0.01855486 -0.02267828 -0.02374954\n",
      " -0.02043739 -0.01434873 -0.00842217] [2.4577249999999999, 2.348395, 2.1603500000000002, 1.8804650000000001, 1.53061, 1.1282785, 0.75218650000000009, 0.45918400000000004, 0.26239099999999999]\n"
     ]
    },
    {
     "data": {
      "text/plain": [
       "<matplotlib.text.Text at 0x253577fb0b8>"
      ]
     },
     "execution_count": 28,
     "metadata": {},
     "output_type": "execute_result"
    },
    {
     "data": {
      "image/png": "[encoded data removed]",
      "text/plain": [
       "<matplotlib.figure.Figure at 0x25357a7edd8>"
      ]
     },
     "metadata": {},
     "output_type": "display_data"
    }
   ],
   "source": [
    "rA = array([(Data[i, 1]-Data[i-1, 1])/(Data[i, 0]-Data[i-1, 0]) for i in range(1, len(Data[:, 0]))])/7\n",
    "CAmid = [(Data[i, 1]+Data[i-1, 1])/2 for i in range(1, len(Data[:, 0]))]\n",
    "print (rA, CAmid)\n",
    "plt.plot(CAmid, -rA, 'o')\n",
    "plt.xlabel('$C_A$')\n",
    "plt.ylabel('$-r_A$')"
   ]
  },
  {
   "cell_type": "markdown",
   "metadata": {},
   "source": [
    "This curve is clearly a parabolic shapre which we can fit fastest using excel\n",
    "\n",
    "<img src=\"Tut 27.png\">"
   ]
  },
  {
   "cell_type": "markdown",
   "metadata": {},
   "source": [
    "This should give you guys enough of a start to complete the question..."
   ]
  }
 ],
 "metadata": {
  "kernelspec": {
   "display_name": "Python [Root]",
   "language": "python",
   "name": "Python [Root]"
  },
  "language_info": {
   "codemirror_mode": {
    "name": "ipython",
    "version": 3
   },
   "file_extension": ".py",
   "mimetype": "text/x-python",
   "name": "python",
   "nbconvert_exporter": "python",
   "pygments_lexer": "ipython3",
   "version": "3.5.2"
  }
 },
 "nbformat": 4,
 "nbformat_minor": 0
}
