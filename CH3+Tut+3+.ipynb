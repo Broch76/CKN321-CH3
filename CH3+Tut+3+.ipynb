{
 "cells": [
  {
   "cell_type": "markdown",
   "metadata": {},
   "source": [
    "### 3\n",
    "The following catalysed liquid reaction occurs in a constant volume batch reactor:\n",
    "$$A \\to B+3C$$\n",
    "The rate constant at 100°C is gives as 0.2 $l.gCat^{-1}min^{-1}$. The initial concentration (t=0) of A is 12 mol/l.\n",
    "\n",
    "    a) If 2 gram of catalyst is added to 3l of reaction mixture, how long will it take to convert 50% of A. [5.2 min]\n",
    "    b) How long will it take to convert 50% if 4 gram of catalyst is used? [2.6 min]\n",
    "    c) How long will it take to convert 100% of A?\n",
    "    d) If A is diluted with water so that the initial concentration of A is 6 mol/l, what conversion will be obtained after 2.6 minutes (using 4 gram of catalyst)? [50%]\n",
    "    e) If the reaction was second order with the same value rate constant, what will the units of the rate constant be?, what will be the answer to (b)?, what will be the answer to (d) if you use 0.31 min instead of 2.6 min? [l2mol-1g-1min-1 , 0.31 min , 33%]\n",
    "    f) For problem (a), what is the expression of –rA (liter based rate)? [$-r_A = 0.133C_A$]\n",
    "\n",
    "**Make sure you have made the following observation:**\n",
    "\n",
    "Conversion of a first order reaction is independent of the initial reactant concentration. This is not the case for a second order reaction!"
   ]
  },
  {
   "cell_type": "code",
   "execution_count": 37,
   "metadata": {
    "collapsed": true
   },
   "outputs": [],
   "source": [
    "from numpy import linspace, exp, log\n",
    "from scipy.integrate import odeint\n",
    "import matplotlib.pyplot as plt\n"
   ]
  },
  {
   "cell_type": "markdown",
   "metadata": {},
   "source": [
    "a) If 2 gram of catalyst is added to 3L of reaction mixture, how long will it take to convert 50% of A. [5.2 min]"
   ]
  },
  {
   "cell_type": "code",
   "execution_count": 38,
   "metadata": {},
   "outputs": [],
   "source": [
    "T = 100 + 273.15 #kelvin\n",
    "R = 8.314 #J/kmol.K\n",
    "CA0 = 12 # mol/L\n",
    "V = 3 #L basis\n",
    "kprime = 0.2 # L/gCat.min\n",
    "Nao= 1 # arbitrary for now\n",
    "Na = 0.5 #for 50% conversion\n",
    "w = 2 #grams of catalyst"
   ]
  },
  {
   "cell_type": "code",
   "execution_count": 39,
   "metadata": {},
   "outputs": [],
   "source": [
    "# rate mass-based is ra' = -k'Ca\n",
    "# dNadt = ra'w = -k'Caw =-k'(Na/V)w\n",
    "# multiple both sides by 1/Na and integrate both sides:\n",
    "# ln(Na/Nao) = -k'(w/V)t\n",
    "# therefore t= -(V/(k'*w))ln(Na/Nao)"
   ]
  },
  {
   "cell_type": "code",
   "execution_count": 40,
   "metadata": {},
   "outputs": [
    {
     "data": {
      "text/plain": [
       "5.1986038541995896"
      ]
     },
     "execution_count": 40,
     "metadata": {},
     "output_type": "execute_result"
    }
   ],
   "source": [
    "t = -(V/(kprime*w))*log(Na/Nao)\n",
    "t #min"
   ]
  },
  {
   "cell_type": "markdown",
   "metadata": {},
   "source": [
    "b) How long will it take to convert 50% if 4 gram of catalyst is used? [2.6 min]"
   ]
  },
  {
   "cell_type": "code",
   "execution_count": 41,
   "metadata": {
    "collapsed": true
   },
   "outputs": [],
   "source": [
    "w1 = 4"
   ]
  },
  {
   "cell_type": "code",
   "execution_count": 42,
   "metadata": {},
   "outputs": [
    {
     "data": {
      "text/plain": [
       "2.5993019270997948"
      ]
     },
     "execution_count": 42,
     "metadata": {},
     "output_type": "execute_result"
    }
   ],
   "source": [
    "t = -(V/(kprime*w1))*log(Na/Nao)\n",
    "t #min"
   ]
  },
  {
   "cell_type": "markdown",
   "metadata": {},
   "source": [
    "c) How long will it take to convert 100% of A?"
   ]
  },
  {
   "cell_type": "code",
   "execution_count": 43,
   "metadata": {},
   "outputs": [
    {
     "data": {
      "text/plain": [
       "29.340172540711094"
      ]
     },
     "execution_count": 43,
     "metadata": {},
     "output_type": "execute_result"
    }
   ],
   "source": [
    "#let's say 98% conversion is close enough\n",
    "t = -(V/(kprime*w))*log(0.02)\n",
    "t #min"
   ]
  },
  {
   "cell_type": "markdown",
   "metadata": {},
   "source": [
    "d) If A is diluted with water so that the initial concentration of A is 6 mol/l, what conversion will be obtained after 2.6 minutes (using 4 gram of catalyst)? [50%]"
   ]
  },
  {
   "cell_type": "code",
   "execution_count": 44,
   "metadata": {},
   "outputs": [
    {
     "data": {
      "text/plain": [
       "36"
      ]
     },
     "execution_count": 44,
     "metadata": {},
     "output_type": "execute_result"
    }
   ],
   "source": [
    "Cao = 12 #mol/L\n",
    "Nao = Cao * V\n",
    "Nao"
   ]
  },
  {
   "cell_type": "code",
   "execution_count": 45,
   "metadata": {},
   "outputs": [
    {
     "data": {
      "text/plain": [
       "6.0"
      ]
     },
     "execution_count": 45,
     "metadata": {},
     "output_type": "execute_result"
    }
   ],
   "source": [
    "Caonew = 6 #mol/L\n",
    "Vnew = Nao/Caonew\n",
    "Vnew"
   ]
  },
  {
   "cell_type": "code",
   "execution_count": 46,
   "metadata": {
    "collapsed": true
   },
   "outputs": [],
   "source": [
    "tnew = 2.6 #min"
   ]
  },
  {
   "cell_type": "code",
   "execution_count": 47,
   "metadata": {},
   "outputs": [
    {
     "data": {
      "text/plain": [
       "0.49990693227598221"
      ]
     },
     "execution_count": 47,
     "metadata": {},
     "output_type": "execute_result"
    }
   ],
   "source": [
    "Conversion = exp(-(kprime*w1/V)*tnew)\n",
    "Conversion  #the volume has to increase as water is added, so given answer might not be correct\n"
   ]
  },
  {
   "cell_type": "markdown",
   "metadata": {},
   "source": [
    "e) If the reaction was second order with the same value rate constant, what will the units of the rate constant be?, what will be the answer to (b)?, what will be the answer to (d) if you use 0.31 min instead of 2.6 min? [l2mol-1g-1min-1 , 0.31 min , 33%]"
   ]
  },
  {
   "cell_type": "code",
   "execution_count": 48,
   "metadata": {
    "collapsed": true
   },
   "outputs": [],
   "source": [
    "# kprime units would need to be L^2/mol.gCat.min"
   ]
  },
  {
   "cell_type": "code",
   "execution_count": 49,
   "metadata": {
    "collapsed": true
   },
   "outputs": [],
   "source": [
    "#new equation would be:\n",
    "# (-1/Na)-(-1/Nao) = -kprime*w*t/V^2"
   ]
  },
  {
   "cell_type": "code",
   "execution_count": 66,
   "metadata": {},
   "outputs": [
    {
     "data": {
      "text/plain": [
       "36"
      ]
     },
     "execution_count": 66,
     "metadata": {},
     "output_type": "execute_result"
    }
   ],
   "source": [
    "Nao = CA0 * V\n",
    "Nao"
   ]
  },
  {
   "cell_type": "code",
   "execution_count": 51,
   "metadata": {},
   "outputs": [
    {
     "data": {
      "text/plain": [
       "18.0"
      ]
     },
     "execution_count": 51,
     "metadata": {},
     "output_type": "execute_result"
    }
   ],
   "source": [
    "Na = Nao*0.5\n",
    "Na"
   ]
  },
  {
   "cell_type": "code",
   "execution_count": 52,
   "metadata": {},
   "outputs": [
    {
     "data": {
      "text/plain": [
       "0.3125"
      ]
     },
     "execution_count": 52,
     "metadata": {},
     "output_type": "execute_result"
    }
   ],
   "source": [
    "t = (((-1/Na)-(-1/Nao))*(V**2))/(-kprime*w1)\n",
    "t"
   ]
  },
  {
   "cell_type": "code",
   "execution_count": 71,
   "metadata": {
    "collapsed": true
   },
   "outputs": [],
   "source": [
    "tnew1 = 0.31\n",
    "V1 = V**2\n",
    "Naonew = Caonew * V"
   ]
  },
  {
   "cell_type": "code",
   "execution_count": 72,
   "metadata": {},
   "outputs": [
    {
     "data": {
      "text/plain": [
       "12.032085561497327"
      ]
     },
     "execution_count": 72,
     "metadata": {},
     "output_type": "execute_result"
    }
   ],
   "source": [
    "Nanew = ((kprime*w1*tnew1/V1)+(1/Naonew))**(-1)\n",
    "Nanew"
   ]
  },
  {
   "cell_type": "code",
   "execution_count": 73,
   "metadata": {},
   "outputs": [
    {
     "data": {
      "text/plain": [
       "0.3342245989304813"
      ]
     },
     "execution_count": 73,
     "metadata": {},
     "output_type": "execute_result"
    }
   ],
   "source": [
    "Conversion1 = Nanew/Nao\n",
    "Conversion1"
   ]
  },
  {
   "cell_type": "markdown",
   "metadata": {},
   "source": [
    "f) For problem (a), what is the expression of –rA (liter based rate)? [$-r_A = 0.133C_A$]"
   ]
  },
  {
   "cell_type": "code",
   "execution_count": 75,
   "metadata": {
    "collapsed": true
   },
   "outputs": [],
   "source": [
    "#rAV = rA'w\n",
    "#rA = ra'w/V\n",
    "#ra = -k'Ca * (w/V)  # units = [mol/m3.min]\n",
    "#k = k'*w/V  # units = [L/gCat.min]*[gCat/m3] = [L/m3.min]"
   ]
  },
  {
   "cell_type": "code",
   "execution_count": 74,
   "metadata": {},
   "outputs": [
    {
     "data": {
      "text/plain": [
       "0.13333333333333333"
      ]
     },
     "execution_count": 74,
     "metadata": {},
     "output_type": "execute_result"
    }
   ],
   "source": [
    "k = kprime * w/V\n",
    "k"
   ]
  },
  {
   "cell_type": "code",
   "execution_count": null,
   "metadata": {
    "collapsed": true
   },
   "outputs": [],
   "source": []
  }
 ],
 "metadata": {
  "kernelspec": {
   "display_name": "Python 3",
   "language": "python",
   "name": "python3"
  },
  "language_info": {
   "codemirror_mode": {
    "name": "ipython",
    "version": 3
   },
   "file_extension": ".py",
   "mimetype": "text/x-python",
   "name": "python",
   "nbconvert_exporter": "python",
   "pygments_lexer": "ipython3",
   "version": "3.6.1"
  }
 },
 "nbformat": 4,
 "nbformat_minor": 2
}
