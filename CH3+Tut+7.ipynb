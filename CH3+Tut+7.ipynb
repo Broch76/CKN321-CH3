{
 "cells": [
  {
   "cell_type": "markdown",
   "metadata": {},
   "source": [
    "# 7\n",
    "\n",
    "For the following gas phase reaction in a constant volume batch reactor:\n",
    "$$ A + 3B \\rightarrow 4P + 6R $$\n",
    "The initial pressure is 3 bar with 20% A, 50% B and 30% inert.\n",
    "a) Will you define conversion with respect to A or B, why?\n",
    "b) What is the total pressure in the reactor at 40% conversion of B? [4.2 bar]\n",
    "c) What is the partial pressure of A at a 30% conversion of B? [0.45 bar]"
   ]
  },
  {
   "cell_type": "markdown",
   "metadata": {},
   "source": [
    "a) Will you define conversion with respect to A or B, why?"
   ]
  },
  {
   "cell_type": "markdown",
   "metadata": {},
   "source": [
    "$B$ is the limiting reagent, therefore the conversion should be defined with respect to $B$."
   ]
  },
  {
   "cell_type": "markdown",
   "metadata": {},
   "source": [
    "b) What is the total pressure in the reactor at 40% conversion of B? [4.2 bar] "
   ]
  },
  {
   "cell_type": "code",
   "execution_count": 20,
   "metadata": {
    "collapsed": true
   },
   "outputs": [],
   "source": [
    "import numpy\n",
    "from numpy import log, array, exp, linspace\n",
    "from scipy.integrate import odeint\n",
    "from scipy.stats import linregress \n",
    "import matplotlib.pyplot as plt\n",
    "%matplotlib inline"
   ]
  },
  {
   "cell_type": "code",
   "execution_count": 21,
   "metadata": {
    "collapsed": true
   },
   "outputs": [],
   "source": [
    "#PV=NtRT\n",
    "#given, Po = 300 KPa\n",
    "V = 1 #L constant volume given\n",
    "R = 8.134 #J/mol.K\n",
    "Po = 300 #Kpa\n",
    "T = 298.15 # chosen arbitrarily\n",
    "yA = 0.2\n",
    "yB = 0.5\n",
    "yI = 0.3\n",
    "Nto = (Po * V)/(R * T)\n",
    "NAo = yA * Nto\n",
    "NBo = yB * Nto\n",
    "NPo = 0\n",
    "NRo = 0\n",
    "NI = yI * Nto"
   ]
  },
  {
   "cell_type": "code",
   "execution_count": 22,
   "metadata": {},
   "outputs": [
    {
     "name": "stdout",
     "output_type": "stream",
     "text": [
      "P= 4.2 bar\n"
     ]
    }
   ],
   "source": [
    "conv = 0.4 * NBo\n",
    "NA = NAo - (1/3)*conv\n",
    "NB = NBo - conv\n",
    "NP = NPo + (4/3)*conv\n",
    "NR = NRo + (6/3)*conv\n",
    "\n",
    "NT = NA + NB + NP + NR + NI\n",
    "\n",
    "P = (NT * R * T)/V #in KPa\n",
    "\n",
    "print('P=',P/100,'bar')"
   ]
  },
  {
   "cell_type": "markdown",
   "metadata": {},
   "source": [
    "c) What is the partial pressure of A at a 30% conversion of B? [0.45 bar]"
   ]
  },
  {
   "cell_type": "code",
   "execution_count": 24,
   "metadata": {},
   "outputs": [
    {
     "name": "stdout",
     "output_type": "stream",
     "text": [
      "partial pressure of A= 0.45000000000000007 bar\n"
     ]
    }
   ],
   "source": [
    "conv1 = 0.3 * NBo\n",
    "NA1 = NAo - (1/3)*conv1\n",
    "NB1 = NBo - conv\n",
    "NP1 = NPo + (4/3)*conv1\n",
    "NR1 = NRo + (6/3)*conv1\n",
    "\n",
    "NT1 = NA1 + NB1 + NP1 + NR1 + NI\n",
    "\n",
    "P1 = (NT1 * R * T)/V #in KPa\n",
    "\n",
    "yA1 = NA1/NT1\n",
    "pA = yA1*P1\n",
    "print('partial pressure of A=',pA/100,'bar')"
   ]
  },
  {
   "cell_type": "code",
   "execution_count": null,
   "metadata": {
    "collapsed": true
   },
   "outputs": [],
   "source": []
  }
 ],
 "metadata": {
  "kernelspec": {
   "display_name": "Python 3",
   "language": "python",
   "name": "python3"
  },
  "language_info": {
   "codemirror_mode": {
    "name": "ipython",
    "version": 3
   },
   "file_extension": ".py",
   "mimetype": "text/x-python",
   "name": "python",
   "nbconvert_exporter": "python",
   "pygments_lexer": "ipython3",
   "version": "3.6.1"
  }
 },
 "nbformat": 4,
 "nbformat_minor": 2
}
