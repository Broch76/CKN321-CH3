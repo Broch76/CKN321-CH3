{
 "cells": [
  {
   "cell_type": "markdown",
   "metadata": {},
   "source": [
    "# 4\n",
    "The following elementary reaction:\n",
    "$$A+B \\to C $$\n",
    "has a rate constant of 0.1 $l.mol^{-1}hr^{-1}$ and an equimolar initial feed of 5 mol/l of A and 5 mol/l of B.\n",
    "\n",
    "    a) Use Python to obtain the time required to convert 30% of A. [51.4 min]\n",
    "    b) If the initial concentration of A stays 5 mol/l and the initial concentration of B becomes 7.5 mol/l, how long does it take to convert 30% of A? [32 min]"
   ]
  },
  {
   "cell_type": "code",
   "execution_count": 1,
   "metadata": {
    "collapsed": true
   },
   "outputs": [],
   "source": [
    "# given: elementary rxn so we know it's 1st order\n",
    "# rate constant units [L/mol.hour], so we know it is volumetric and not catalysed\n",
    "# Reaction not at SS because asked time to 30% conversion\n",
    "    #so assume it's a batch reaction with equations that go along with it\n",
    "\n"
   ]
  },
  {
   "cell_type": "code",
   "execution_count": 35,
   "metadata": {
    "collapsed": true
   },
   "outputs": [],
   "source": [
    "from scipy.integrate import odeint\n",
    "from matplotlib import pyplot as plt\n",
    "from numpy import linspace, log\n",
    "% matplotlib inline"
   ]
  },
  {
   "cell_type": "code",
   "execution_count": 21,
   "metadata": {
    "collapsed": true
   },
   "outputs": [],
   "source": [
    "CAo = 5 # mol/L\n",
    "CBo = 5 # mol/L\n",
    "CCo = 0 # mol/L\n",
    "R = 8.314 # J/Kmol.K\n",
    "V = 1 # L assume constant volume batch\n",
    "NAo = CAo*V\n",
    "NBo = CBo*V\n",
    "NCo = CCo*V\n",
    "k = 0.1/60 # L/mol.min"
   ]
  },
  {
   "cell_type": "markdown",
   "metadata": {},
   "source": [
    "a) Use Python to obtain the time required to convert 30% of A. [51.4 min]"
   ]
  },
  {
   "cell_type": "code",
   "execution_count": 5,
   "metadata": {
    "collapsed": true
   },
   "outputs": [],
   "source": [
    "# ra = rb = -kCACB  [mol/L.hr] as a first order reaction\n",
    "# dNAdt = raV = -kCA*CB*V \n",
    "# CA=CB= NA/V\n",
    "# dNAdt = -k(NA**2)/V\n",
    "# (-1/NA) - (-1/NAo) =-kt/V \n"
   ]
  },
  {
   "cell_type": "code",
   "execution_count": 24,
   "metadata": {},
   "outputs": [
    {
     "data": {
      "text/plain": [
       "3.5"
      ]
     },
     "execution_count": 24,
     "metadata": {},
     "output_type": "execute_result"
    }
   ],
   "source": [
    "NA = 0.7*NAo\n",
    "NA"
   ]
  },
  {
   "cell_type": "code",
   "execution_count": 25,
   "metadata": {},
   "outputs": [
    {
     "data": {
      "text/plain": [
       "51.42857142857141"
      ]
     },
     "execution_count": 25,
     "metadata": {},
     "output_type": "execute_result"
    }
   ],
   "source": [
    "t = ((1/NA)-(1/NAo))*V/k\n",
    "t #time in mins"
   ]
  },
  {
   "cell_type": "markdown",
   "metadata": {},
   "source": [
    "b) If the initial concentration of A stays 5 mol/l and the initial concentration of B becomes 7.5 mol/l, how long does it take to convert 30% of A? [32 min]"
   ]
  },
  {
   "cell_type": "code",
   "execution_count": 28,
   "metadata": {
    "collapsed": true
   },
   "outputs": [],
   "source": [
    "CAo = 5 # mol/L\n",
    "CBo = 7.5 # mol/L\n",
    "CCo = 0 # mol/L\n",
    "R = 8.314 # J/Kmol.K\n",
    "V = 1 # L assume constant volume batch\n",
    "NAo = CAo*V\n",
    "NBo = CBo*V\n",
    "NCo = CCo*V\n",
    "k = 0.1/60 # L/mol.min"
   ]
  },
  {
   "cell_type": "code",
   "execution_count": 29,
   "metadata": {},
   "outputs": [
    {
     "data": {
      "text/plain": [
       "3.5"
      ]
     },
     "execution_count": 29,
     "metadata": {},
     "output_type": "execute_result"
    }
   ],
   "source": [
    "NA = 0.7*NAo\n",
    "NA"
   ]
  },
  {
   "cell_type": "code",
   "execution_count": 31,
   "metadata": {},
   "outputs": [
    {
     "data": {
      "text/plain": [
       "6.0"
      ]
     },
     "execution_count": 31,
     "metadata": {},
     "output_type": "execute_result"
    }
   ],
   "source": [
    "NB = NBo - 0.3*NAo\n",
    "NB"
   ]
  },
  {
   "cell_type": "code",
   "execution_count": 33,
   "metadata": {
    "collapsed": true
   },
   "outputs": [],
   "source": [
    "#dNA/dt = -k*NA*NB/V \n",
    "#ln(NA/NAo) = -K*NB*t"
   ]
  },
  {
   "cell_type": "code",
   "execution_count": 37,
   "metadata": {},
   "outputs": [
    {
     "data": {
      "text/plain": [
       "35.667494393873241"
      ]
     },
     "execution_count": 37,
     "metadata": {},
     "output_type": "execute_result"
    }
   ],
   "source": [
    "t = (log(NA/NAo))/(-k*NB)\n",
    "t"
   ]
  },
  {
   "cell_type": "code",
   "execution_count": 38,
   "metadata": {
    "collapsed": true
   },
   "outputs": [],
   "source": [
    "# draw"
   ]
  },
  {
   "cell_type": "code",
   "execution_count": 57,
   "metadata": {},
   "outputs": [
    {
     "data": {
      "text/plain": [
       "<matplotlib.legend.Legend at 0x248b410a0f0>"
      ]
     },
     "execution_count": 57,
     "metadata": {},
     "output_type": "execute_result"
    },
    {
     "data": {
      "image/png": "[encoded data removed]",
      "text/plain": [
       "<matplotlib.figure.Figure at 0x248b4167d30>"
      ]
     },
     "metadata": {},
     "output_type": "display_data"
    }
   ],
   "source": [
    "k = 0.1/60 # L/mol.min\n",
    "CAo = 5\n",
    "CBo = 5\n",
    "CCo = 0\n",
    "V = 1 #L\n",
    "NAo = CAo*V\n",
    "NBo = CBo*V\n",
    "NCo = CCo*V\n",
    "def ri(var):\n",
    "    NA, NB, NC = var\n",
    "    \n",
    "    rA = -k*(NA/V)*(NB/V)\n",
    "    rB = rA\n",
    "    rC = -rA\n",
    "        \n",
    "    return [rA, rB, rC]\n",
    "\n",
    "def diffs(var, t):\n",
    "    NA, NB, NC = var\n",
    "    [rA, rB, rC] = ri(var)\n",
    "    \n",
    "    dNAdt = rA*V\n",
    "    dNBdt = rB*V\n",
    "    dNCdt = rC*V\n",
    "     \n",
    "    return [dNAdt, dNBdt, dNCdt]\n",
    "tspan = linspace(0, 100, 1000)\n",
    "var = odeint(diffs, [NAo, NBo, NC0], tspan)\n",
    "    \n",
    "plt.plot(tspan, var)\n",
    "plt.legend(['A', 'B', 'C'])\n"
   ]
  },
  {
   "cell_type": "code",
   "execution_count": null,
   "metadata": {
    "collapsed": true
   },
   "outputs": [],
   "source": []
  }
 ],
 "metadata": {
  "kernelspec": {
   "display_name": "Python 3",
   "language": "python",
   "name": "python3"
  },
  "language_info": {
   "codemirror_mode": {
    "name": "ipython",
    "version": 3
   },
   "file_extension": ".py",
   "mimetype": "text/x-python",
   "name": "python",
   "nbconvert_exporter": "python",
   "pygments_lexer": "ipython3",
   "version": "3.6.1"
  }
 },
 "nbformat": 4,
 "nbformat_minor": 2
}
