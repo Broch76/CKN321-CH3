{
 "cells": [
  {
   "cell_type": "markdown",
   "metadata": {},
   "source": [
    "# 8\n",
    "A small reaction bomb fitted with a sensitive pressure-measuring device is flushed out and filled with a mixture at 76,94% reactant A and 23,06% inert at 1 atm pressure and 14°C, a temperature low enough that the reaction does not proceed to any appreciable extent.\n",
    "\n",
    "|Time, min|Total pressure, atm.|\n",
    "|---|---|\n",
    "|0.5|1.5|\n",
    "|1|1.65|\n",
    "|1.5|1.76|\n",
    "|2|1.84|\n",
    "|2.5|1.90|\n",
    "|3|1.95|\n",
    "|3.5|1.99|\n",
    "|4|2.025|\n",
    "|5|2.08|\n",
    "|6|2.12|\n",
    "|7|2.15|\n",
    "|8|2.175|\n",
    "\n",
    "The temperature is raised rapidly to 100°C, and the readings in the table are obtained. The stoicheometry of the reaction is \n",
    "$$A \\to 2R$$ and after sufficient time the reaction proceeds to completion. Find a rate equation in units of moles, liters and minutes which will satisfactorily fit the data. [$k_1= 2.5 units?$]"
   ]
  },
  {
   "cell_type": "code",
   "execution_count": 41,
   "metadata": {
    "collapsed": true
   },
   "outputs": [],
   "source": [
    "import numpy\n",
    "from numpy import log, array, exp, linspace\n",
    "from scipy.integrate import odeint\n",
    "from scipy.stats import linregress \n",
    "import matplotlib.pyplot as plt\n",
    "%matplotlib inline\n"
   ]
  },
  {
   "cell_type": "code",
   "execution_count": 50,
   "metadata": {},
   "outputs": [
    {
     "data": {
      "text/plain": [
       "[<matplotlib.lines.Line2D at 0x24b6c044160>]"
      ]
     },
     "execution_count": 50,
     "metadata": {},
     "output_type": "execute_result"
    },
    {
     "data": {
      "image/png": "[encoded data removed]",
      "text/plain": [
       "<matplotlib.figure.Figure at 0x24b6bd866a0>"
      ]
     },
     "metadata": {},
     "output_type": "display_data"
    }
   ],
   "source": [
    "from numpy import array\n",
    "from matplotlib import pyplot as plt\n",
    "%matplotlib inline\n",
    "Data = array([[0.5,1.5],\n",
    "                 [1.0,1.65],\n",
    "                 [1.5,1.76],\n",
    "                 [2.0,1.84],\n",
    "                 [2.5,1.90],\n",
    "                 [3.0,1.95],\n",
    "                 [3.5,1.99],\n",
    "                 [4.0,2.025],\n",
    "                 [5.0,2.08],\n",
    "                 [6.0,2.12],\n",
    "                 [7.0,2.15],\n",
    "                 [8.0,2.175]])\n",
    "te = Data[:, 0]\n",
    "Pe = Data[:, 1]\n",
    "plt.plot(te, Pe, 'o')"
   ]
  },
  {
   "cell_type": "markdown",
   "metadata": {},
   "source": [
    "How to solve this???\n",
    "\n",
    "Hints:\n",
    "1. Remember the ideal gas law\n",
    "2. Remember the mole balance\n",
    "3. Remember the pressure at time 0 is important\n",
    "4. Remember to make a link between the pressure in the reactor and the reaction rate... compare apples with apples"
   ]
  },
  {
   "cell_type": "markdown",
   "metadata": {},
   "source": [
    "## My solution\n",
    "\n",
    "Note: This is not the only solution, this just happens to be a solution that I was able to come up with\n",
    "\n",
    "From the data it is clear that we require the initial conditions for the reactor at time 0 in order to determine solve the differential equation which is inherently part of the batch reactor mole balance:\n",
    "\n",
    "$$ \\frac{dNA}{dt} = r_AV $$\n",
    "\n",
    "Ideal gas law:\n",
    "\n",
    "$$ PV=NRT$$\n",
    "\n",
    "In this case we assume the reactor to be a rigid structure with constant volume which would result in an increased pressure as the reaction proceeds to completion. \n",
    "\n",
    "This means the known parameters are:\n",
    "\n",
    "|Parameter|$t_{o,no\\:reaction}$|$t_{o, just\\:before\\:reaction}$|\n",
    "|---|---|---|\n",
    "|Temp ($^o$C)|14|100|\n",
    "|$y_A$|0.7694|0.7694|\n",
    "|$y_I$|0.2306|0.2306|\n",
    "|$P_{tot}$ (atm)|1|?|\n",
    "\n",
    "Considering no change in volume we can convert the ideal gas law by cancelling constant terms:\n",
    "\n",
    "$$ \\frac{P_2V_2=N_2RT_2}{P_1V_1=N_1RT_1} $$\n",
    "\n",
    "reduces to:\n",
    "\n",
    "$$ \\frac{P_2}{P_1}=\\frac{T2}{T1} $$\n",
    "\n",
    "$$ P_2 =P_1\\frac{T_2}{T_1}$$"
   ]
  },
  {
   "cell_type": "code",
   "execution_count": 51,
   "metadata": {},
   "outputs": [
    {
     "name": "stdout",
     "output_type": "stream",
     "text": [
      "Ptoto= 1.2994950374368797 atm\n"
     ]
    }
   ],
   "source": [
    "P1 = 1 #atm\n",
    "\n",
    "Ptoto = P1*(100+273.15)/(14+273.15)\n",
    "\n",
    "print('Ptoto=', Ptoto, 'atm')"
   ]
  },
  {
   "cell_type": "markdown",
   "metadata": {},
   "source": [
    "The basic mole balance can now be used as a starting point:\n",
    "\n",
    "$$ \\frac{dN_A}{dt}=r_AV$$\n",
    "\n",
    "Assume the reaction rate can be described by a power law function:\n",
    "\n",
    "$$ r_A = -kC_A^n = -k\\left(\\frac{N_A}{V}\\right)^n$$\n",
    "\n",
    "We know from the stoichiometric equation that:\n",
    "$$ A\\to2R$$\n",
    "\n",
    "therefore:\n",
    "\n",
    "$$ r_R = -2r_A$$\n",
    "\n",
    "***FOR EVERY ONE A, 2 R IS MADE***\n",
    "\n",
    "\n"
   ]
  },
  {
   "cell_type": "markdown",
   "metadata": {},
   "source": [
    "The ideal gas law for the reaction would be:\n",
    "\n",
    "$$ P_2 = P_1\\frac{\\sum(N_{i,2})}{\\sum(N_{i,1})}=P_1\\frac{N_{A,2}+N_{R,2}+N_{I,2}}{N_{A,1}+N_{R,1}+N_{I,1}} $$"
   ]
  },
  {
   "cell_type": "markdown",
   "metadata": {},
   "source": [
    "This equation would provide the required output of pressure, as the reaction proceeds.\n",
    "\n",
    "All we need is to determine the total number of moles in the reactor initially and as a function of time. This can be done by solving the $N_A(t)$, $N_R(t)$. \n",
    "\n",
    "So the missing bit is the total molecules at time 0. Using the ideal gas law we would require the reactor volume, reactor pressure and reactor temperature. Of these we know the pressure and temperature, which leads us to the question of whether this actually matters?\n",
    "\n",
    "If we use the molecular density $\\left(\\frac{N_{tot}}{V}\\right)$ we can avoid the unknown volume. We could also choose a basis for either the initial molecules or the volume. \n",
    "\n",
    "In this case I will decide on a volume of 1 L...I will show below what the answer would be if I choose 1 mol $N_{tot}$"
   ]
  },
  {
   "cell_type": "markdown",
   "metadata": {},
   "source": [
    "For V = 1L:"
   ]
  },
  {
   "cell_type": "code",
   "execution_count": 44,
   "metadata": {},
   "outputs": [
    {
     "name": "stdout",
     "output_type": "stream",
     "text": [
      "Ptoto= 1.2994950374368797 atm\n"
     ]
    }
   ],
   "source": []
  },
  {
   "cell_type": "code",
   "execution_count": 45,
   "metadata": {},
   "outputs": [
    {
     "name": "stdout",
     "output_type": "stream",
     "text": [
      "Ntoto= 0.042442188670681336 mol\n"
     ]
    }
   ],
   "source": [
    "P = Ptoto*101.325 #kPa\n",
    "V = 1 #L\n",
    "R = 8.314 #kPa.L/mol.K\n",
    "T = 100+273.15 #K\n",
    "\n",
    "Ntoto = P*V/(R*T)\n",
    "\n",
    "print('Ntoto=', Ntoto, 'mol')"
   ]
  },
  {
   "cell_type": "markdown",
   "metadata": {},
   "source": [
    "This means that the initial $N_{Ao}$ and $N_I$ were"
   ]
  },
  {
   "cell_type": "code",
   "execution_count": 46,
   "metadata": {},
   "outputs": [
    {
     "name": "stdout",
     "output_type": "stream",
     "text": [
      "NAo = 0.03265501996322222 mol, NI = 0.009787168707459116 mol, NRo = 0 mol,\n"
     ]
    }
   ],
   "source": [
    "NAo = 0.7694*Ntoto\n",
    "NI = 0.2306*Ntoto\n",
    "NRo = 0\n",
    "\n",
    "print('NAo =', NAo, 'mol,', 'NI =', NI, 'mol,', 'NRo =', NRo, 'mol,')"
   ]
  },
  {
   "cell_type": "markdown",
   "metadata": {},
   "source": [
    "Remember the rate expression:\n",
    "$$ r_A = -kC_A^n = -k\\left(\\frac{N_A}{V}\\right)^n$$\n",
    "\n",
    "Define the differential equations:\n",
    "\n",
    "$$\\frac{dN_A}{dt} = r_AV$$\n",
    "$$\\frac{dN_R}{dt} = -2r_AV$$\n"
   ]
  },
  {
   "cell_type": "code",
   "execution_count": 47,
   "metadata": {
    "collapsed": true
   },
   "outputs": [],
   "source": [
    "def ri(NA):\n",
    "    return -k*(NA/V)**n\n",
    "\n",
    "def diffs(var, t): #remember to describe the dependent variable and then the independent variable   \n",
    "    NA = var[0]\n",
    "    NR = var[1]\n",
    "    rA = ri(NA)\n",
    "    rR = -2*rA\n",
    "    dNAdt = rA*V\n",
    "    dNRdt = rR*V\n",
    "    return [dNAdt, dNRdt]"
   ]
  },
  {
   "cell_type": "code",
   "execution_count": 48,
   "metadata": {},
   "outputs": [
    {
     "data": {
      "text/plain": [
       "<matplotlib.legend.Legend at 0x24b6bdfa8d0>"
      ]
     },
     "execution_count": 48,
     "metadata": {},
     "output_type": "execute_result"
    },
    {
     "data": {
      "image/png": "[encoded data removed]",
      "text/plain": [
       "<matplotlib.figure.Figure at 0x24b6bdfaa58>"
      ]
     },
     "metadata": {},
     "output_type": "display_data"
    }
   ],
   "source": [
    "from scipy.integrate import odeint\n",
    "from numpy import linspace\n",
    "\n",
    "def sol(k, n):\n",
    "    tspan = linspace(0, 8)\n",
    "    var = odeint(diffs, [NAo, NRo], tspan)\n",
    "    return var \n",
    "\n",
    "k = 1\n",
    "n = 1\n",
    "tspan = linspace (0, 8)\n",
    "\n",
    "var = sol(k, n)\n",
    "NA = var[:, 0]\n",
    "NR = var[:, 1]\n",
    "\n",
    "plt.plot(tspan, var)\n",
    "plt.legend(['A', 'R'])"
   ]
  },
  {
   "cell_type": "markdown",
   "metadata": {},
   "source": [
    "Now that we have the $N_A$ and $N_R$ amounts, we can calculate the pressure in the system:"
   ]
  },
  {
   "cell_type": "code",
   "execution_count": 52,
   "metadata": {},
   "outputs": [
    {
     "data": {
      "text/plain": [
       "[<matplotlib.lines.Line2D at 0x24b6c0d0630>,\n",
       " <matplotlib.lines.Line2D at 0x24b6c0d0828>]"
      ]
     },
     "execution_count": 52,
     "metadata": {},
     "output_type": "execute_result"
    },
    {
     "data": {
      "image/png": "[encoded data removed]",
      "text/plain": [
       "<matplotlib.figure.Figure at 0x24b6bf0a4e0>"
      ]
     },
     "metadata": {},
     "output_type": "display_data"
    }
   ],
   "source": [
    "k = 2.5 #\n",
    "n = 1.5 #\n",
    "\n",
    "var = sol(k, n)\n",
    "NA = var[:, 0]\n",
    "NR = var[:, 1]\n",
    "\n",
    "Ptot = Ptoto*(NA+NR+NI)/(Ntoto)\n",
    "plt.plot(tspan, Ptot, '-', te, Pe, 'o')"
   ]
  },
  {
   "cell_type": "markdown",
   "metadata": {},
   "source": [
    "## What if we differentiated the ideal gas law with time??? Solve P(t)..."
   ]
  },
  {
   "cell_type": "markdown",
   "metadata": {},
   "source": [
    "$$ PV = NRT $$\n",
    "\n",
    "$$ \\frac{dP}{dt}=\\frac{RT}{V}\\frac{dN_{tot}}{dt}$$\n",
    "\n",
    "$$=\\frac{RT}{V}\\left[\\frac{dN_A}{dt}+\\frac{dN_R}{dt}\\right]$$\n",
    "\n",
    "$$=\\frac{RT}{V}(r_AV-2r_AV)$$\n",
    "\n",
    "$$\\frac{dP}{dt}=RT(-r_A) $$"
   ]
  },
  {
   "cell_type": "markdown",
   "metadata": {},
   "source": [
    "This means we can solve P as a function of $N_A$, which means we can add this as just another variable in the differential equation function:"
   ]
  },
  {
   "cell_type": "code",
   "execution_count": 53,
   "metadata": {
    "collapsed": true
   },
   "outputs": [],
   "source": [
    "def ri(NA):\n",
    "    return -k*(NA/V)**n\n",
    "\n",
    "def diffs(var, t): #remember to describe the dependent variable and then the independent variable\n",
    "    NA = var[0]\n",
    "    NR = var[1]\n",
    "    P = var[2]\n",
    "    rA = ri(NA)\n",
    "    rR = -2*rA\n",
    "    dNAdt = rA*V\n",
    "    dNRdt = rR*V\n",
    "    dPdt = R*T*-rA\n",
    "    return [dNAdt, dNRdt, dPdt]"
   ]
  },
  {
   "cell_type": "markdown",
   "metadata": {},
   "source": [
    "We still need to choose a base for our system, which I will choose as $N_{tot,o}$=1 mol"
   ]
  },
  {
   "cell_type": "code",
   "execution_count": 54,
   "metadata": {},
   "outputs": [
    {
     "name": "stdout",
     "output_type": "stream",
     "text": [
      "V= 23.561461633358004 L\n"
     ]
    }
   ],
   "source": [
    "P = Ptoto*101.325 #kPa\n",
    "Ntoto = 1 #mol\n",
    "R = 8.314 #kPa.L/mol.K\n",
    "T = 100+273.15 #K\n",
    "\n",
    "V = Ntoto*R*T/(P)\n",
    "\n",
    "print('V=', V, 'L')"
   ]
  },
  {
   "cell_type": "markdown",
   "metadata": {},
   "source": [
    "This means that the initial $N_{Ao}$ and $N_I$ were"
   ]
  },
  {
   "cell_type": "code",
   "execution_count": 55,
   "metadata": {},
   "outputs": [
    {
     "name": "stdout",
     "output_type": "stream",
     "text": [
      "NAo = 0.7694 mol, NI = 0.2306 mol, NRo = 0 mol,\n"
     ]
    }
   ],
   "source": [
    "NAo = 0.7694*Ntoto\n",
    "NI = 0.2306*Ntoto\n",
    "NRo = 0\n",
    "\n",
    "print('NAo =', NAo, 'mol,', 'NI =', NI, 'mol,', 'NRo =', NRo, 'mol,')"
   ]
  },
  {
   "cell_type": "code",
   "execution_count": 56,
   "metadata": {},
   "outputs": [
    {
     "data": {
      "text/plain": [
       "<matplotlib.legend.Legend at 0x24b6bf0acc0>"
      ]
     },
     "execution_count": 56,
     "metadata": {},
     "output_type": "execute_result"
    },
    {
     "data": {
      "image/png": "[encoded data removed]",
      "text/plain": [
       "<matplotlib.figure.Figure at 0x24b6bf0a6d8>"
      ]
     },
     "metadata": {},
     "output_type": "display_data"
    }
   ],
   "source": [
    "from scipy.integrate import odeint\n",
    "from numpy import linspace\n",
    "\n",
    "def sol(k, n):\n",
    "    tspan = linspace(0, 8)\n",
    "    var = odeint(diffs, [NAo, NRo, Ptoto*101.325], tspan)\n",
    "    return var \n",
    "\n",
    "var = sol(1, 1)\n",
    "NA = var[:, 0]\n",
    "NR = var[:, 1]\n",
    "P = var[:, 2]\n",
    "\n",
    "plt.plot(tspan, NA, tspan, NR, tspan, P/101.325)\n",
    "plt.legend(['A', 'R', 'P'])"
   ]
  },
  {
   "cell_type": "markdown",
   "metadata": {},
   "source": [
    "Now that we have the $N_A$ and $N_R$ amounts, we can calculate the pressure in the system:"
   ]
  },
  {
   "cell_type": "code",
   "execution_count": 59,
   "metadata": {},
   "outputs": [
    {
     "data": {
      "text/plain": [
       "[<matplotlib.lines.Line2D at 0x24b6c1102b0>,\n",
       " <matplotlib.lines.Line2D at 0x24b6bb46978>]"
      ]
     },
     "execution_count": 59,
     "metadata": {},
     "output_type": "execute_result"
    },
    {
     "data": {
      "image/png": "[encoded data removed]",
      "text/plain": [
       "<matplotlib.figure.Figure at 0x24b6c1100b8>"
      ]
     },
     "metadata": {},
     "output_type": "display_data"
    }
   ],
   "source": [
    "k = 2.5 #\n",
    "n = 1.5 #\n",
    "\n",
    "var = sol(k, n)\n",
    "NA = var[:, 0]\n",
    "NR = var[:, 1]\n",
    "\n",
    "Ptot = Ptoto*(NA+NR+NI)/(Ntoto)\n",
    "plt.plot(tspan, Ptot, '-', te, Pe, 'o')\n",
    "k = 2.5 #\n",
    "n = 1.5 #\n",
    "\n",
    "var = sol(k, n)\n",
    "NA = var[:, 0]\n",
    "NR = var[:, 1]\n",
    "\n",
    "Ptot = Ptoto*(NA+NR+NI)/(Ntoto)\n",
    "plt.plot(tspan, Ptot, '-', te, Pe, 'o')"
   ]
  },
  {
   "cell_type": "markdown",
   "metadata": {},
   "source": [
    "## Now let's look at a choice of $N_{tot,o}$ = 1 mol"
   ]
  },
  {
   "cell_type": "code",
   "execution_count": 60,
   "metadata": {},
   "outputs": [
    {
     "name": "stdout",
     "output_type": "stream",
     "text": [
      "V= 23.561461633358004 mol\n"
     ]
    }
   ],
   "source": [
    "P = Ptoto*101.325 #kPa\n",
    "Ntoto = 1 #mol\n",
    "R = 8.314 #kPa.L/mol.K\n",
    "T = 100+273.15 #K\n",
    "\n",
    "V = Ntoto*R*T/(P)\n",
    "\n",
    "print('V=', V, 'mol')"
   ]
  },
  {
   "cell_type": "markdown",
   "metadata": {},
   "source": [
    "This means that the initial NAo and NI were"
   ]
  },
  {
   "cell_type": "code",
   "execution_count": 61,
   "metadata": {},
   "outputs": [
    {
     "name": "stdout",
     "output_type": "stream",
     "text": [
      "NAo = 0.7694 mol, NI = 0.2306 mol, NRo = 0 mol,\n"
     ]
    }
   ],
   "source": [
    "NAo = 0.7694*Ntoto\n",
    "NI = 0.2306*Ntoto\n",
    "NRo = 0\n",
    "\n",
    "print('NAo =', NAo, 'mol,', 'NI =', NI, 'mol,', 'NRo =', NRo, 'mol,')"
   ]
  },
  {
   "cell_type": "code",
   "execution_count": 62,
   "metadata": {
    "collapsed": true
   },
   "outputs": [],
   "source": [
    "def ri(NA):\n",
    "    return -k*(NA/V)**n\n",
    "\n",
    "def diffs(var, t): #remember to describe the dependent variable and then the independent variable\n",
    "    NA = var[0]\n",
    "    NR = var[1]\n",
    "    rA = ri(NA)\n",
    "    rR = -2*rA\n",
    "    dNAdt = rA*V\n",
    "    dNRdt = rR*V\n",
    "    return [dNAdt, dNRdt]"
   ]
  },
  {
   "cell_type": "code",
   "execution_count": 63,
   "metadata": {},
   "outputs": [
    {
     "data": {
      "text/plain": [
       "[<matplotlib.lines.Line2D at 0x24b6c143c50>,\n",
       " <matplotlib.lines.Line2D at 0x24b6c143e48>]"
      ]
     },
     "execution_count": 63,
     "metadata": {},
     "output_type": "execute_result"
    },
    {
     "data": {
      "image/png": "[encoded data removed]",
      "text/plain": [
       "<matplotlib.figure.Figure at 0x24b6bcc7e10>"
      ]
     },
     "metadata": {},
     "output_type": "display_data"
    }
   ],
   "source": [
    "from scipy.integrate import odeint\n",
    "from numpy import linspace\n",
    "\n",
    "def sol(k, n):\n",
    "    tspan = linspace(0, 8)\n",
    "    var = odeint(diffs, [NAo, NRo], tspan)\n",
    "    return var \n",
    "\n",
    "var = sol(1, 1)\n",
    "NA = var[:, 0]\n",
    "NR = var[:, 1]\n",
    "plt.plot(tspan, var)"
   ]
  },
  {
   "cell_type": "markdown",
   "metadata": {},
   "source": [
    "Now that we have the NANA and NRNR amounts, we can calculate the pressure in the system:\n"
   ]
  },
  {
   "cell_type": "code",
   "execution_count": 64,
   "metadata": {},
   "outputs": [
    {
     "data": {
      "text/plain": [
       "[<matplotlib.lines.Line2D at 0x24b6c1c6240>,\n",
       " <matplotlib.lines.Line2D at 0x24b6c1c6438>]"
      ]
     },
     "execution_count": 64,
     "metadata": {},
     "output_type": "execute_result"
    },
    {
     "data": {
      "image/png": "[encoded data removed]",
      "text/plain": [
       "<matplotlib.figure.Figure at 0x24b6bcb6c50>"
      ]
     },
     "metadata": {},
     "output_type": "display_data"
    }
   ],
   "source": [
    "k = 2.5 #\n",
    "n = 1.5 #\n",
    "\n",
    "var = sol(k, n)\n",
    "NA = var[:, 0]\n",
    "NR = var[:, 1]\n",
    "\n",
    "Ptot = Ptoto*(NA+NR+NI)/(Ntoto)\n",
    "plt.plot(tspan, Ptot, '-', te, Pe, 'o')"
   ]
  },
  {
   "cell_type": "code",
   "execution_count": null,
   "metadata": {
    "collapsed": true
   },
   "outputs": [],
   "source": []
  }
 ],
 "metadata": {
  "kernelspec": {
   "display_name": "Python 3",
   "language": "python",
   "name": "python3"
  },
  "language_info": {
   "codemirror_mode": {
    "name": "ipython",
    "version": 3
   },
   "file_extension": ".py",
   "mimetype": "text/x-python",
   "name": "python",
   "nbconvert_exporter": "python",
   "pygments_lexer": "ipython3",
   "version": "3.6.1"
  }
 },
 "nbformat": 4,
 "nbformat_minor": 2
}
