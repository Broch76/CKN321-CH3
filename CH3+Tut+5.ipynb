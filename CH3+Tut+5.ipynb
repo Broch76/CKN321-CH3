{
 "cells": [
  {
   "cell_type": "markdown",
   "metadata": {},
   "source": [
    "# 5\n",
    "The following reaction was studied in a laboratory batch reactor:\n",
    "$$A\\to2B$$\n",
    "The initial concentration of A was 2 mol/l and the initial concentration of B was 1 mol/l (for all the experiments). You can assume that the volume of the reaction does not change. Three reactor runs were performed at temperatures of 25°C, 35°C and 45°C (temperature stayed constant throughout the run). The following results were obtained:\n",
    "\n",
    "|Time (minutes)|Conc of B (mol/l) 25°C|Conc of B (mol/l) 35°C|Conc of B (mol/l) 45°C|\n",
    "|---|---|---|---|\n",
    "|0.00|1.00|1.00|1.00|\n",
    "|1.00|1.85|2.20|2.61|\n",
    "|2.00|2.53|3.04|3.57|\n",
    "|3.00|3.05|3.63|4.15|\n",
    "|4.00|3.47|4.04|4.49|\n",
    "|6.00|4.05|4.53|4.82|\n",
    "|10.00|4.64|4.89|4.98|\n",
    "|200|5|5|5|\n",
    "\n",
    "Is the reaction reversible or not? How long will it take to achieve a 50% conversion of A, if the same reactor is operated at 75°C and when we start with 4 mol/l of A and no B. [0.5 min, E=30kJ/mol]"
   ]
  },
  {
   "cell_type": "code",
   "execution_count": 1,
   "metadata": {
    "collapsed": true
   },
   "outputs": [],
   "source": [
    "# batch reactor and constant volume\n",
    "# @200mins all are at 5mol (2 mol A to 4 mol B + 1 mol B present)\n",
    "# therefore conversion is 100% at 200 mins\n",
    "# T is held constant during each run\n",
    "# endothermic"
   ]
  },
  {
   "cell_type": "markdown",
   "metadata": {},
   "source": [
    "Is the reaction reversible or not?"
   ]
  },
  {
   "cell_type": "code",
   "execution_count": 2,
   "metadata": {
    "collapsed": true
   },
   "outputs": [],
   "source": [
    "# irreversible because it goes to completion"
   ]
  },
  {
   "cell_type": "markdown",
   "metadata": {},
   "source": [
    "How long will it take to achieve a 50% conversion of A, if the same reactor is operated at 75°C and when we start with 4 mol/l of A and no B. [0.5 min, E=30kJ/mol]"
   ]
  },
  {
   "cell_type": "code",
   "execution_count": 12,
   "metadata": {},
   "outputs": [],
   "source": [
    "CAo = 2 #mol/L\n",
    "CBo = 1 #mol/L\n",
    "V =1 # L chosen as a basis\n",
    "NAo = CAo*V\n",
    "NBo = CBo*V\n"
   ]
  },
  {
   "cell_type": "code",
   "execution_count": 19,
   "metadata": {
    "collapsed": true
   },
   "outputs": [],
   "source": [
    "from numpy import log, array, exp, linspace\n",
    "from scipy.integrate import odeint\n",
    "from scipy.stats import linregress \n",
    "import matplotlib.pyplot as plt\n",
    "%matplotlib inline"
   ]
  },
  {
   "cell_type": "code",
   "execution_count": 10,
   "metadata": {
    "collapsed": true
   },
   "outputs": [],
   "source": [
    "R = 8.314 #J/kmol.K"
   ]
  },
  {
   "cell_type": "code",
   "execution_count": 54,
   "metadata": {},
   "outputs": [],
   "source": [
    "from numpy import array\n",
    "from matplotlib import pyplot as plt\n",
    "%matplotlib inline\n",
    "Data = array([[0.0, 1.0, 1.0, 1.0],\n",
    "                 [1.0, 1.85, 2.20, 2.61],\n",
    "                 [2.0, 2.53, 3.04, 3.57],\n",
    "                 [3.0, 3.05, 3.63, 4.15],\n",
    "                 [4.0, 3.47, 4.04, 4.49],\n",
    "                 [6.0, 4.05, 4.53, 4.82],\n",
    "                 [10.0,4.64, 4.89, 4.98]])\n",
    "t = Data[:, 0]\n",
    "NB25 = Data[:, 1]\n",
    "NB35 = Data[:, 2]\n",
    "NB45 = Data[:, 3]\n"
   ]
  },
  {
   "cell_type": "code",
   "execution_count": 43,
   "metadata": {},
   "outputs": [
    {
     "data": {
      "text/plain": [
       "[<matplotlib.lines.Line2D at 0x19cd65d2208>,\n",
       " <matplotlib.lines.Line2D at 0x19cd65d2400>]"
      ]
     },
     "execution_count": 43,
     "metadata": {},
     "output_type": "execute_result"
    },
    {
     "data": {
      "image/png": "[encoded data removed]",
      "text/plain": [
       "<matplotlib.figure.Figure at 0x19cd639d898>"
      ]
     },
     "metadata": {},
     "output_type": "display_data"
    }
   ],
   "source": [
    "k25 = 0.235# L/mol.min\n",
    "n = 1\n",
    "def ri(var):\n",
    "    NA, NB = var\n",
    "    \n",
    "    rA = -k25*(NA/V)*n\n",
    "    rB = -2*rA\n",
    "        \n",
    "    return [rA, rB]\n",
    "\n",
    "def diffs(var, t):\n",
    "    NA, NB = var\n",
    "    [rA, rB] = ri(var)\n",
    "    \n",
    "    dNAdt = rA*V\n",
    "    dNBdt = rB*V\n",
    "         \n",
    "    return [dNAdt, dNBdt]\n",
    "tspan = linspace(0, 10, 1000)\n",
    "var = odeint(diffs, [NAo, NBo], tspan)\n",
    "    \n",
    "plt.plot(tspan, var[:,1],'-',t,NB25,'o')"
   ]
  },
  {
   "cell_type": "code",
   "execution_count": 47,
   "metadata": {},
   "outputs": [
    {
     "data": {
      "text/plain": [
       "[<matplotlib.lines.Line2D at 0x19cd782f630>,\n",
       " <matplotlib.lines.Line2D at 0x19cd782f828>]"
      ]
     },
     "execution_count": 47,
     "metadata": {},
     "output_type": "execute_result"
    },
    {
     "data": {
      "image/png": "[encoded data removed]",
      "text/plain": [
       "<matplotlib.figure.Figure at 0x19cd77e3cf8>"
      ]
     },
     "metadata": {},
     "output_type": "display_data"
    }
   ],
   "source": [
    "k35 = 0.35# L/mol.min\n",
    "n = 1\n",
    "def ri(var):\n",
    "    NA, NB = var\n",
    "    \n",
    "    rA = -k35*(NA/V)*n\n",
    "    rB = -2*rA\n",
    "        \n",
    "    return [rA, rB]\n",
    "\n",
    "def diffs(var, t):\n",
    "    NA, NB = var\n",
    "    [rA, rB] = ri(var)\n",
    "    \n",
    "    dNAdt = rA*V\n",
    "    dNBdt = rB*V\n",
    "         \n",
    "    return [dNAdt, dNBdt]\n",
    "tspan = linspace(0, 10, 1000)\n",
    "var = odeint(diffs, [NAo, NBo], tspan)\n",
    "    \n",
    "plt.plot(tspan, var[:,1],'-',t,NB35,'o')"
   ]
  },
  {
   "cell_type": "code",
   "execution_count": 53,
   "metadata": {},
   "outputs": [
    {
     "name": "stdout",
     "output_type": "stream",
     "text": [
      "0.5\n"
     ]
    },
    {
     "data": {
      "image/png": "[encoded data removed]",
      "text/plain": [
       "<matplotlib.figure.Figure at 0x19cd7a335f8>"
      ]
     },
     "metadata": {},
     "output_type": "display_data"
    }
   ],
   "source": [
    "k45 = 0.5# L/mol.min\n",
    "n = 1\n",
    "def ri(var):\n",
    "    NA, NB = var\n",
    "    \n",
    "    rA = -k45*(NA/V)*n\n",
    "    rB = -2*rA\n",
    "        \n",
    "    return [rA, rB]\n",
    "\n",
    "def diffs(var, t):\n",
    "    NA, NB = var\n",
    "    [rA, rB] = ri(var)\n",
    "    \n",
    "    dNAdt = rA*V\n",
    "    dNBdt = rB*V\n",
    "         \n",
    "    return [dNAdt, dNBdt]\n",
    "tspan = linspace(0, 10, 1000)\n",
    "var = odeint(diffs, [NAo, NBo], tspan)\n",
    "    \n",
    "plt.plot(tspan, var[:,1],'-',t,NB45,'o')\n",
    "print (k45)"
   ]
  },
  {
   "cell_type": "code",
   "execution_count": 57,
   "metadata": {},
   "outputs": [
    {
     "name": "stdout",
     "output_type": "stream",
     "text": [
      "k25= 0.235 k35= 0.35 k45= 0.5\n"
     ]
    }
   ],
   "source": [
    "print ('k25=',k25, 'k35=',k35 ,'k45=', k45)"
   ]
  },
  {
   "cell_type": "code",
   "execution_count": 59,
   "metadata": {},
   "outputs": [
    {
     "name": "stdout",
     "output_type": "stream",
     "text": [
      "ko= 38873.7160906 1/s, EA= 29779.2323078 J/mol, r^2= 0.999827832088\n"
     ]
    },
    {
     "data": {
      "text/plain": [
       "<matplotlib.legend.Legend at 0x19cd79f1dd8>"
      ]
     },
     "execution_count": 59,
     "metadata": {},
     "output_type": "execute_result"
    },
    {
     "data": {
      "image/png": "[encoded data removed]",
      "text/plain": [
       "<matplotlib.figure.Figure at 0x19cd7ce2630>"
      ]
     },
     "metadata": {},
     "output_type": "display_data"
    }
   ],
   "source": [
    "k = array([k25, k35, k45])\n",
    "T = array([298.15, 308.15, 318.15])\n",
    "\n",
    "lnk = log(k)\n",
    "\n",
    "slope, intercept, r_value, p_value, std_err = linregress(1/T, lnk)\n",
    "\n",
    "ko = exp(intercept)\n",
    "EA = -slope*8.314\n",
    "print('ko=', ko, '1/s,', 'EA=', EA, 'J/mol,', 'r^2=', r_value**2)\n",
    "\n",
    "Tspan = linspace(298.15, 319)\n",
    "k = ko*exp(-EA/(8.314*Tspan))\n",
    "\n",
    "plt.plot(1/T, lnk, 'o', 1/Tspan, log(k))\n",
    "plt.legend(['Fitted points', 'Model'])"
   ]
  },
  {
   "cell_type": "code",
   "execution_count": 60,
   "metadata": {},
   "outputs": [
    {
     "data": {
      "text/plain": [
       "1.3230353273060118"
      ]
     },
     "execution_count": 60,
     "metadata": {},
     "output_type": "execute_result"
    }
   ],
   "source": [
    "k75 = ko*exp(-EA/(8.314*348.15))\n",
    "k75"
   ]
  },
  {
   "cell_type": "code",
   "execution_count": 61,
   "metadata": {
    "collapsed": true
   },
   "outputs": [],
   "source": [
    "CAo1 = 4 \n",
    "CBo1 = 0\n",
    "NAo1 = CAo1*V\n",
    "NBo1 = CBo1*V"
   ]
  },
  {
   "cell_type": "code",
   "execution_count": 62,
   "metadata": {
    "collapsed": true
   },
   "outputs": [],
   "source": [
    "# dNAdt = rA*V = -k75*CA*V = -k75*NA\n",
    "# ln(NA/NAo) = -k75*t"
   ]
  },
  {
   "cell_type": "code",
   "execution_count": 63,
   "metadata": {},
   "outputs": [
    {
     "data": {
      "text/plain": [
       "0.5239067818176435"
      ]
     },
     "execution_count": 63,
     "metadata": {},
     "output_type": "execute_result"
    }
   ],
   "source": [
    "t75 = -log(0.5)/k75\n",
    "t75 #mins"
   ]
  },
  {
   "cell_type": "code",
   "execution_count": null,
   "metadata": {
    "collapsed": true
   },
   "outputs": [],
   "source": []
  }
 ],
 "metadata": {
  "kernelspec": {
   "display_name": "Python 3",
   "language": "python",
   "name": "python3"
  },
  "language_info": {
   "codemirror_mode": {
    "name": "ipython",
    "version": 3
   },
   "file_extension": ".py",
   "mimetype": "text/x-python",
   "name": "python",
   "nbconvert_exporter": "python",
   "pygments_lexer": "ipython3",
   "version": "3.6.1"
  }
 },
 "nbformat": 4,
 "nbformat_minor": 2
}
