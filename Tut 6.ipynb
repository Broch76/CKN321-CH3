{
 "cells": [
  {
   "cell_type": "code",
   "execution_count": 14,
   "metadata": {
    "collapsed": false
   },
   "outputs": [
    {
     "name": "stdout",
     "output_type": "stream",
     "text": [
      "[ 152.46860736    0.89296607]\n"
     ]
    }
   ],
   "source": [
    "from __future__ import division\n",
    "import sympy\n",
    "import numpy \n",
    "%matplotlib inline\n",
    "from scipy.integrate import odeint\n",
    "from matplotlib import pyplot as plot\n",
    "sympy.init_printing(use_latex='mathjax')\n",
    "from scipy.optimize import fsolve\n",
    "from IPython.html.widgets import interact\n",
    "\n",
    "Fao1=300\n",
    "Fao2=1000\n",
    "Fao3=3000\n",
    "Fao4=5000\n",
    "Qo1=3\n",
    "Qo2=10\n",
    "Qo3=30\n",
    "Qo4=50\n",
    "V=0.1\n",
    "x1=0.512\n",
    "x2=0.318\n",
    "x3=0.167\n",
    "x4=0.118\n",
    "\n",
    "def F(X):\n",
    "    return (((X[0]*((Fao3*(1-x3))/(Qo3*(1+4*x3)))**(X[1]))*V)-(Fao3*x3),\n",
    "            (X[0]*((Fao2*(1-x2))/(Qo2*(1+4*x2)))**(X[1]))*V-(Fao2*x2))\n",
    "            \n",
    "            \n",
    "Ans=fsolve(F,[50,1])\n",
    "print (Ans)"
   ]
  },
  {
   "cell_type": "code",
   "execution_count": null,
   "metadata": {
    "collapsed": true
   },
   "outputs": [],
   "source": []
  }
 ],
 "metadata": {
  "kernelspec": {
   "display_name": "Python 3",
   "language": "python",
   "name": "python3"
  },
  "language_info": {
   "codemirror_mode": {
    "name": "ipython",
    "version": 3
   },
   "file_extension": ".py",
   "mimetype": "text/x-python",
   "name": "python",
   "nbconvert_exporter": "python",
   "pygments_lexer": "ipython3",
   "version": "3.5.1"
  }
 },
 "nbformat": 4,
 "nbformat_minor": 0
}
