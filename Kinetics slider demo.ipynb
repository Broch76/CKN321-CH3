{
 "cells": [
  {
   "cell_type": "code",
   "execution_count": 7,
   "metadata": {
    "collapsed": false
   },
   "outputs": [
    {
     "name": "stdout",
     "output_type": "stream",
     "text": [
      "Populating the interactive namespace from numpy and matplotlib\n"
     ]
    }
   ],
   "source": [
    "from __future__ import division\n",
    "%pylab inline\n",
    "from scipy.integrate import odeint"
   ]
  },
  {
   "cell_type": "code",
   "execution_count": 8,
   "metadata": {
    "collapsed": false
   },
   "outputs": [],
   "source": [
    "Cae = array([2.000, 1.3286, 1.0812, 0.8880, 0.6908, 0.5904, 0.5497, 0.4801], dtype=float)\n",
    "traw = array([0, 2, 4, 6, 9, 12, 16, 19], dtype=float)\n",
    "Cbo = 5.0"
   ]
  },
  {
   "cell_type": "code",
   "execution_count": 9,
   "metadata": {
    "collapsed": false
   },
   "outputs": [
    {
     "data": {
      "text/plain": [
       "[<matplotlib.lines.Line2D at 0x5ed4ef0>,\n",
       " <matplotlib.lines.Line2D at 0x5ed4fd0>]"
      ]
     },
     "execution_count": 9,
     "metadata": {},
     "output_type": "execute_result"
    },
    {
     "data": {
      "image/png": "[encoded data removed]",
      "text/plain": [
       "<matplotlib.figure.Figure at 0x5e7b490>"
      ]
     },
     "metadata": {},
     "output_type": "display_data"
    }
   ],
   "source": [
    "Cbe = Cbo - 3*(Cae[0] - Cae)\n",
    "Cce = 0 + 4*(Cae - Cae[0])\n",
    "\n",
    "plot(traw, Cae, 'r*', \n",
    "     traw, Cbe,'b*')"
   ]
  },
  {
   "cell_type": "code",
   "execution_count": 10,
   "metadata": {
    "collapsed": false
   },
   "outputs": [],
   "source": [
    "def kfit(k, n=1, m=1):\n",
    "\n",
    "    def intfun(c, t):\n",
    "        return [-k*(c[0]**m)*(c[1]**n),\n",
    "                -3.0*k*(c[0]**m)*(c[1]**n)]\n",
    "\n",
    "    ti = linspace(0, 20, 100)\n",
    "    Ci = odeint(intfun, [Cae[0], Cbo], ti)\n",
    "\n",
    "    plot(traw, Cae, 'r*',\n",
    "         traw, Cbe, 'b*',\n",
    "         ti, Ci[:,0], 'g',\n",
    "         ti, Ci[:,1], 'r')"
   ]
  },
  {
   "cell_type": "code",
   "execution_count": 11,
   "metadata": {
    "collapsed": false
   },
   "outputs": [],
   "source": [
    "from IPython.html.widgets import interact"
   ]
  },
  {
   "cell_type": "code",
   "execution_count": 6,
   "metadata": {
    "collapsed": false
   },
   "outputs": [
    {
     "data": {
      "image/png": "[encoded data removed]",
      "text/plain": [
       "<matplotlib.figure.Figure at 0x5e78b30>"
      ]
     },
     "metadata": {},
     "output_type": "display_data"
    }
   ],
   "source": [
    "interact(kfit, k=(0.01, 0.1, 0.01), n=[1, 3, 1], m=[1, 3, 1])"
   ]
  },
  {
   "cell_type": "code",
   "execution_count": null,
   "metadata": {
    "collapsed": false
   },
   "outputs": [],
   "source": []
  }
 ],
 "metadata": {
  "kernelspec": {
   "display_name": "Python 3",
   "language": "python",
   "name": "python3"
  },
  "language_info": {
   "codemirror_mode": {
    "name": "ipython",
    "version": 3
   },
   "file_extension": ".py",
   "mimetype": "text/x-python",
   "name": "python",
   "nbconvert_exporter": "python",
   "pygments_lexer": "ipython3",
   "version": "3.5.1"
  }
 },
 "nbformat": 4,
 "nbformat_minor": 0
}
