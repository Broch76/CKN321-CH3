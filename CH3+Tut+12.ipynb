{
 "cells": [
  {
   "cell_type": "markdown",
   "metadata": {},
   "source": [
    "The following two liquid phase reactions occur at 60°C in a batch reactor.\n",
    "$$A + R \\rightarrow 2R$$\n",
    "$$R \\rightarrow S (catalysed)$$\n",
    "The elementary autocatalytic reaction occurs spontaneously while the decomposition of $R$ occurs due to the presence of a solid catalyst. The rate constant of the first reaction is 0.05L/(mol.min) while the rate constant of the second reaction is 0.005L/(g.min). The following\n",
    "was measured for a run where 2mol/L of $A$ and 0.1mol/L of $R$ were fed as initial feed.\n",
    "\n",
    "|Time, min|\\r_R, mol/L.min|\n",
    "|---|---|\n",
    "|0|0.0087|\n",
    "|8|0.0154|\n",
    "|16|0.0254|\n",
    "|24|0.0322|\n",
    "|32|0.0323|\n",
    "|40|0.0221|\n",
    "|48|0.0093|\n",
    "|56|-0.0013|\n",
    "|64|-0.0077|\n",
    "|72|-0.0108|\n",
    "|80|-0.0108|\n",
    "\n",
    "What was the concentration of the solid catalyst? (3 g/L)\n",
    "\n",
    "(Tip: the rate measurements should all be used to obtain the best ‘fitted’ answer. Once you have a Ci matrix from your numerical integration you can easily calculate the rate at times ti. For example if $A+B\\rightarrow C$ elementary, you will have in Matlab: ra=k*Ci(:,1).*C(:,2); and this will give the rate values at the all the specified ti – note the .* operator)\n"
   ]
  },
  {
   "cell_type": "code",
   "execution_count": 1,
   "metadata": {
    "collapsed": true
   },
   "outputs": [],
   "source": [
    "from numpy import log, array, exp, linspace\n",
    "from scipy.integrate import odeint\n",
    "from scipy.stats import linregress \n",
    "import matplotlib.pyplot as plt\n",
    "%matplotlib inline"
   ]
  },
  {
   "cell_type": "code",
   "execution_count": 3,
   "metadata": {},
   "outputs": [
    {
     "data": {
      "text/plain": [
       "[<matplotlib.lines.Line2D at 0x169c82f4f60>]"
      ]
     },
     "execution_count": 3,
     "metadata": {},
     "output_type": "execute_result"
    },
    {
     "data": {
      "image/png": "[encoded data removed]",
      "text/plain": [
       "<matplotlib.figure.Figure at 0x169c822a978>"
      ]
     },
     "metadata": {},
     "output_type": "display_data"
    }
   ],
   "source": [
    "data = array([[0,0.0087],\n",
    "              [8,0.0158],\n",
    "              [16,0.0254],\n",
    "              [24,0.0322],\n",
    "              [32,0.0323],\n",
    "              [40,0.0221],\n",
    "              [48,0.0093],\n",
    "              [56,-0.0013],\n",
    "              [64,-0.0077],\n",
    "              [72,-0.0108],\n",
    "              [80,-0.0121]])\n",
    "texp = data[:,0]\n",
    "rRexp = data[:,1]\n",
    "plt.plot(texp,rRexp,'o')"
   ]
  },
  {
   "cell_type": "code",
   "execution_count": 7,
   "metadata": {},
   "outputs": [
    {
     "name": "stdout",
     "output_type": "stream",
     "text": [
      "Concentration Catalyst= 3 g/L\n"
     ]
    },
    {
     "data": {
      "image/png": "[encoded data removed]",
      "text/plain": [
       "<matplotlib.figure.Figure at 0x169c83c0160>"
      ]
     },
     "metadata": {},
     "output_type": "display_data"
    }
   ],
   "source": [
    "V = 1 #L assumed from fact that it's a batch and it is in liquid state\n",
    "#ELEMENTARY autocatalytic reaction (NB)\n",
    "CAo = 2 #mol/L\n",
    "CRo = 0.1 #mol/L\n",
    "CSo = 0 # \n",
    "k1 = 0.05 #L/mol.min \n",
    "k2prime = 0.005 #L/g.min \n",
    "\n",
    "w = 3 #guess mass catalyst in grams\n",
    "\n",
    "def diff(C,t):\n",
    "    CA, CR, CS = C\n",
    "    rA1 = -k1*CA*CR\n",
    "    rR1 = -rA1\n",
    "    rR2 = -k2prime*CR*w/V\n",
    "    rR = rR1 + rR2\n",
    "    rS = -rR2*w/V\n",
    "    dCAdt = rA1\n",
    "    dCRdt = rR\n",
    "    dCSdt = rS\n",
    "    return [dCAdt, dCRdt, dCSdt]\n",
    "\n",
    "tspan = linspace(0,80)\n",
    "\n",
    "vals = odeint(diff,[CAo,CRo,CSo],tspan)\n",
    "CA = vals[:,0]\n",
    "CR = vals[:,1]\n",
    "CS = vals[:,2]\n",
    "\n",
    "C = CA, CR, CS\n",
    "ri = diff(C,tspan)\n",
    "\n",
    "rR = ri[1]\n",
    "\n",
    "plt.plot(tspan,rR,'-',texp,rRexp,'o')\n",
    "\n",
    "print('Concentration Catalyst=', w, 'g/L')"
   ]
  },
  {
   "cell_type": "code",
   "execution_count": null,
   "metadata": {
    "collapsed": true
   },
   "outputs": [],
   "source": []
  }
 ],
 "metadata": {
  "kernelspec": {
   "display_name": "Python 3",
   "language": "python",
   "name": "python3"
  },
  "language_info": {
   "codemirror_mode": {
    "name": "ipython",
    "version": 3
   },
   "file_extension": ".py",
   "mimetype": "text/x-python",
   "name": "python",
   "nbconvert_exporter": "python",
   "pygments_lexer": "ipython3",
   "version": "3.6.1"
  }
 },
 "nbformat": 4,
 "nbformat_minor": 2
}
