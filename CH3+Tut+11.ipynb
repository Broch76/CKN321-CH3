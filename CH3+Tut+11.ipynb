{
 "cells": [
  {
   "cell_type": "code",
   "execution_count": 1,
   "metadata": {
    "collapsed": true
   },
   "outputs": [],
   "source": [
    "import sympy"
   ]
  },
  {
   "cell_type": "markdown",
   "metadata": {},
   "source": [
    "Kinetics\n",
    "\n",
    "The following reversible liquid phase reaction occurs in a batch reactor:\n",
    "\n",
    "$$ A + 2B \\leftrightharpoons C $$ \n",
    "\n",
    "The equilibrium constant is 21 \\degree C is known to be 68.1, while the reaction has a heat of reaction of -85 KJ/mol (exothermic).\n",
    "\n",
    "a) Given a feed mixture consisting of 0.2 mol/L of A, 0.5 mol/L of B, and 0.15mol/L of C. What will be the final conversion of A if this mixture reacts for a long time at 50\\degree C? [4]\n",
    "\n",
    "b) Using the same mixture as in (a), what should the temperature be to ensure a final conversion of A of 50%? [4]\n",
    "\n",
    "c) Draw a qualitative sketch of the concentration versus time curves for a run at 25\\degree C and a run at 50\\degree C. You can use a stoichiometric feed mixture (only A and B). Draw both profiles on the same graph.[4]\n",
    "\n",
    "[Q2: a) feed mixture b) Kc=27.8 T=28.8°C (A3)]\n"
   ]
  },
  {
   "cell_type": "code",
   "execution_count": 1,
   "metadata": {
    "collapsed": true
   },
   "outputs": [],
   "source": [
    "from numpy import linspace, exp, log\n",
    "from scipy.integrate import odeint\n",
    "import matplotlib.pyplot as plt\n"
   ]
  },
  {
   "cell_type": "code",
   "execution_count": 2,
   "metadata": {
    "collapsed": true
   },
   "outputs": [],
   "source": [
    "R = 8.314 #J/mol.K"
   ]
  },
  {
   "cell_type": "code",
   "execution_count": 3,
   "metadata": {
    "collapsed": true
   },
   "outputs": [],
   "source": [
    "T1 = 21 + 273.15  #kelvin\n",
    "Kc1 = 68.1\n",
    "T2 = 50 + 273.15 #kelvin\n",
    "T3 = 25 + 273.15 #kelvin\n",
    "deltaH = -85000 #J/mol"
   ]
  },
  {
   "cell_type": "code",
   "execution_count": 4,
   "metadata": {
    "collapsed": true
   },
   "outputs": [],
   "source": [
    "V = 1 #L chosen base\n",
    "CAo = 0.20 #mol/L\n",
    "NAo = CAo*V\n",
    "CBo = 0.50 #mol/L\n",
    "NBo = CBo*V\n",
    "CCo = 0.15 #mol/L\n",
    "NCo = CCo*V"
   ]
  },
  {
   "cell_type": "code",
   "execution_count": 5,
   "metadata": {
    "collapsed": true
   },
   "outputs": [],
   "source": [
    "Kc2 = Kc1/exp((deltaH/T2)-(deltaH/T1))"
   ]
  },
  {
   "cell_type": "code",
   "execution_count": 6,
   "metadata": {},
   "outputs": [
    {
     "data": {
      "text/plain": [
       "3.7223551101788359e-10"
      ]
     },
     "execution_count": 6,
     "metadata": {},
     "output_type": "execute_result"
    }
   ],
   "source": [
    "Kc2"
   ]
  },
  {
   "cell_type": "code",
   "execution_count": 7,
   "metadata": {
    "collapsed": true
   },
   "outputs": [],
   "source": [
    "x = 0.1\n",
    "CAe = 0.2 - x\n",
    "CBe = 0.5 - 2*x\n",
    "CCe = 0.15 + x\n",
    "\n",
    "Kc3 = CCe / (CAe * (CBe**2))\n"
   ]
  },
  {
   "cell_type": "code",
   "execution_count": 8,
   "metadata": {},
   "outputs": [
    {
     "data": {
      "text/plain": [
       "27.77777777777778"
      ]
     },
     "execution_count": 8,
     "metadata": {},
     "output_type": "execute_result"
    }
   ],
   "source": [
    "Kc3"
   ]
  },
  {
   "cell_type": "code",
   "execution_count": 9,
   "metadata": {
    "collapsed": true
   },
   "outputs": [],
   "source": [
    "T50 = (deltaH / ((deltaH/T1) - (log(Kc3/Kc1))))"
   ]
  },
  {
   "cell_type": "code",
   "execution_count": 10,
   "metadata": {},
   "outputs": [
    {
     "data": {
      "text/plain": [
       "295.06566278771493"
      ]
     },
     "execution_count": 10,
     "metadata": {},
     "output_type": "execute_result"
    }
   ],
   "source": [
    "T50"
   ]
  },
  {
   "cell_type": "code",
   "execution_count": 11,
   "metadata": {},
   "outputs": [
    {
     "data": {
      "text/plain": [
       "21.91566278771495"
      ]
     },
     "execution_count": 11,
     "metadata": {},
     "output_type": "execute_result"
    }
   ],
   "source": [
    "T3 = T50 - 273.15\n",
    "T3"
   ]
  },
  {
   "cell_type": "code",
   "execution_count": 12,
   "metadata": {
    "collapsed": true
   },
   "outputs": [],
   "source": [
    "Kc25 = Kc1*exp((deltaH/T1)-(deltaH/(25 + 273.15)))"
   ]
  },
  {
   "cell_type": "code",
   "execution_count": 13,
   "metadata": {},
   "outputs": [
    {
     "data": {
      "text/plain": [
       "1.4108052836044935"
      ]
     },
     "execution_count": 13,
     "metadata": {},
     "output_type": "execute_result"
    }
   ],
   "source": [
    "Kc25"
   ]
  },
  {
   "cell_type": "code",
   "execution_count": 14,
   "metadata": {
    "collapsed": true
   },
   "outputs": [],
   "source": [
    "Kc50 = Kc1*exp((deltaH/T1)-(deltaH/(50 + 273.15)))"
   ]
  },
  {
   "cell_type": "code",
   "execution_count": 15,
   "metadata": {},
   "outputs": [
    {
     "data": {
      "text/plain": [
       "3.7223551101788359e-10"
      ]
     },
     "execution_count": 15,
     "metadata": {},
     "output_type": "execute_result"
    }
   ],
   "source": [
    "Kc50"
   ]
  },
  {
   "cell_type": "code",
   "execution_count": 16,
   "metadata": {
    "collapsed": true
   },
   "outputs": [],
   "source": [
    "CAo = 1\n",
    "CBo = 2\n"
   ]
  },
  {
   "cell_type": "code",
   "execution_count": null,
   "metadata": {
    "collapsed": true
   },
   "outputs": [],
   "source": []
  }
 ],
 "metadata": {
  "kernelspec": {
   "display_name": "Python 3",
   "language": "python",
   "name": "python3"
  },
  "language_info": {
   "codemirror_mode": {
    "name": "ipython",
    "version": 3
   },
   "file_extension": ".py",
   "mimetype": "text/x-python",
   "name": "python",
   "nbconvert_exporter": "python",
   "pygments_lexer": "ipython3",
   "version": "3.6.1"
  }
 },
 "nbformat": 4,
 "nbformat_minor": 2
}
