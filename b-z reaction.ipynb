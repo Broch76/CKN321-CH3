{
 "cells": [
  {
   "cell_type": "code",
   "execution_count": null,
   "metadata": {
    "collapsed": true
   },
   "outputs": [],
   "source": [
    "from __future__ import division\n",
    "from numpy import linspace\n",
    "from numpy import array\n",
    "from matplotlib import pyplot as plot\n",
    "from scipy.integrate import odeint\n",
    "\n",
    "kr2=1000000\n",
    "kr3=2\n",
    "kr4=2000\n",
    "kr5=10\n",
    "ko=1\n",
    "f=0.6666\n",
    "H=0.8\n",
    "Cao=0.04\n",
    "Cbo=0.05\n",
    "Czo=0.0003\n",
    "#A=0,Y=1,X=2,P=3,Z=4,B=5\n",
    "Cyo=0\n",
    "Cpo=0\n",
    "Cxo=0\n",
    "Co=[Cao,Cyo,Cxo,Cpo,Czo,Cbo]\n",
    "\n",
    "t=linspace(0,1000,100)\n",
    "\n",
    "def dcdt(C,t):\n",
    "    r3=kr3*H*C[0]*C[1]\n",
    "    r2=kr2*H*C[2]*C[1]\n",
    "    r5=kr5*H*C[0]*C[2]\n",
    "    r4=kr4*(C[2]**2)\n",
    "    r1=ko*C[5]*C[4]\n",
    "    return (-r3-r5+r4,\n",
    "           -r3-r2+0.5*f*r1,\n",
    "           r3-r2+r5-2*r4,\n",
    "           r3+2*r2+r4,\n",
    "           2*r5-r1,\n",
    "           -r1)\n",
    "Cint = odeint(dcdt,Co,t)\n",
    "plot.figure(1)\n",
    "plot.plot(t,Cint[:,5],'b')\n",
    "plot.show()"
   ]
  },
  {
   "cell_type": "code",
   "execution_count": null,
   "metadata": {
    "collapsed": true
   },
   "outputs": [],
   "source": []
  }
 ],
 "metadata": {
  "kernelspec": {
   "display_name": "Python 3",
   "language": "python",
   "name": "python3"
  },
  "language_info": {
   "codemirror_mode": {
    "name": "ipython",
    "version": 3
   },
   "file_extension": ".py",
   "mimetype": "text/x-python",
   "name": "python",
   "nbconvert_exporter": "python",
   "pygments_lexer": "ipython3",
   "version": "3.5.1"
  }
 },
 "nbformat": 4,
 "nbformat_minor": 0
}
