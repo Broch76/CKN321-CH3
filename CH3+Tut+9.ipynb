{
 "cells": [
  {
   "cell_type": "markdown",
   "metadata": {},
   "source": [
    "# 9\n",
    "\n",
    "The aqueous reaction $ A \\to R + S $ proceeds as follows:\n",
    "\n",
    "|Time, min|0|36|65|100|160|$\\infty$|\n",
    "|---|---|---|---|---|---|---|\n",
    "|$C_A$, mol/L|0.1823|0.1453|0.1216|0.1025|0.0795|0.0494|\n",
    "\n",
    "with\n",
    "\n",
    "$C_{A0}$ = 0.1823 mol/l,\n",
    "\n",
    "$C_{R0}$ = 0,\n",
    "\n",
    "$C_{S0}$ = 55 mol/l.\n",
    "\n",
    "Find the rate equation for this reaction. [$-r_A = 6.76\\times 10^{-3}$ $CA - 4.54\\times 10^{-5} C_RC_S$]"
   ]
  },
  {
   "cell_type": "code",
   "execution_count": null,
   "metadata": {
    "collapsed": true
   },
   "outputs": [],
   "source": [
    "#aquaeous - liquid phase reaction, no ideal gas law needed\n",
    "#doesn't go to completion - some A left at infinity\n",
    "    #reversible\n",
    "#elementary reaction\n",
    "#Kc = K1/K2 = CRe*CSe/CAe  - equilibrium info from infinite time\n",
    "#rA = -K1*CA + K2*CR*CS = -K1*CA + (K1/Kc)*CR*CS\n",
    "#CAe = 0.0494 #mol/L\n",
    "#CAo = 0.1823 #mol/L\n",
    "#deltaCA = CAe - CAo  - need this to find R and S without fitting\n",
    "#CRe = CRo - deltaCA (deltaCA is negative)\n",
    "#CSe = CSo - deltaCA \n",
    "# now we can get Kc\n"
   ]
  },
  {
   "cell_type": "code",
   "execution_count": 1,
   "metadata": {
    "collapsed": true
   },
   "outputs": [],
   "source": [
    "from numpy import log, array, exp, linspace\n",
    "from scipy.integrate import odeint\n",
    "from scipy.stats import linregress \n",
    "import matplotlib.pyplot as plt\n",
    "%matplotlib inline"
   ]
  },
  {
   "cell_type": "code",
   "execution_count": 5,
   "metadata": {},
   "outputs": [
    {
     "data": {
      "text/plain": [
       "148.32312570850203"
      ]
     },
     "execution_count": 5,
     "metadata": {},
     "output_type": "execute_result"
    }
   ],
   "source": [
    "CAe = 0.0494 #mol/L\n",
    "CAo = 0.1823 #mol/L\n",
    "CRo = 0 #mol/L\n",
    "CSo = 55 #mol/L\n",
    "deltaCA = CAe - CAo \n",
    "CRe = CRo - deltaCA\n",
    "CSe = CSo - deltaCA \n",
    "kc = CRe*CSe/CAe\n",
    "kc"
   ]
  },
  {
   "cell_type": "code",
   "execution_count": 10,
   "metadata": {},
   "outputs": [],
   "source": [
    "data = array([[0,0.1823],\n",
    "              [36,0.1453],\n",
    "              [65,0.1216],\n",
    "              [100,0.1025],\n",
    "              [160,0.0795],\n",
    "              [700,0.0494]])\n",
    "t = data[:,0]\n",
    "CAi = data[:,1]"
   ]
  },
  {
   "cell_type": "code",
   "execution_count": 9,
   "metadata": {
    "collapsed": true
   },
   "outputs": [],
   "source": [
    "#rA = -k1*CA + k2*CR*CS\n",
    "#kc = k1/k2\n",
    "def func (C,t):\n",
    "    CA, CR, CS = C\n",
    "    rA = -k1*CA + (k1/kc)*(CR*CS)\n",
    "    rR = -rA\n",
    "    rS = -rA\n",
    "    dCAdt = rA\n",
    "    dCRdt = rR\n",
    "    dCSdt = rS\n",
    "    return [dCAdt,dCRdt,dCSdt]"
   ]
  },
  {
   "cell_type": "code",
   "execution_count": 20,
   "metadata": {},
   "outputs": [
    {
     "data": {
      "text/plain": [
       "4.517164783303882e-05"
      ]
     },
     "execution_count": 20,
     "metadata": {},
     "output_type": "execute_result"
    },
    {
     "data": {
      "image/png": "[encoded data removed]",
      "text/plain": [
       "<matplotlib.figure.Figure at 0x1b106856550>"
      ]
     },
     "metadata": {},
     "output_type": "display_data"
    }
   ],
   "source": [
    "k1 = 0.0067\n",
    "tspan = linspace(0,700,1000)\n",
    "\n",
    "vals = odeint(func,[CAo,CRo,CSo],tspan)\n",
    "CA = vals[:,0]\n",
    "\n",
    "plt.plot(tspan,CA,'-',t, CAi,'o')\n",
    "k2 = k1/kc\n",
    "k2"
   ]
  },
  {
   "cell_type": "code",
   "execution_count": 21,
   "metadata": {},
   "outputs": [
    {
     "name": "stdout",
     "output_type": "stream",
     "text": [
      "-rA= 0.0067 *CA +  4.517164783303882e-05 *CR*CS\n"
     ]
    }
   ],
   "source": [
    "print('-rA=',k1,'*CA + ',k1/kc,'*CR*CS')"
   ]
  },
  {
   "cell_type": "code",
   "execution_count": null,
   "metadata": {
    "collapsed": true
   },
   "outputs": [],
   "source": []
  }
 ],
 "metadata": {
  "kernelspec": {
   "display_name": "Python 3",
   "language": "python",
   "name": "python3"
  },
  "language_info": {
   "codemirror_mode": {
    "name": "ipython",
    "version": 3
   },
   "file_extension": ".py",
   "mimetype": "text/x-python",
   "name": "python",
   "nbconvert_exporter": "python",
   "pygments_lexer": "ipython3",
   "version": "3.6.1"
  }
 },
 "nbformat": 4,
 "nbformat_minor": 2
}
