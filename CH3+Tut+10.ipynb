{
 "cells": [
  {
   "cell_type": "markdown",
   "metadata": {},
   "source": [
    "# 10\n",
    "Hellin and Jungers (1957) present the data in the table on the reaction of sulphuric acid with diethylsulphate in aqueous solution at 22,9°C:\n",
    "\n",
    "$$ H_2SO_4 + (C_2H_5)_2SO_4 \\to 2C_2H_5SO_4H$$\n",
    "\n",
    "<img src=\"Tut 10.png\" width=\"500px\">\n",
    "\n",
    "Initial concentrations of $H_2SO_4$ and $(C_2H_5)_2SO_4$ are each 5,5 mol/ℓ.  Find a rate equation for this reaction. [$k_1 = 6.7 \\times 10^{-4}$ l/mol.min, Kc = 5]"
   ]
  },
  {
   "cell_type": "code",
   "execution_count": 33,
   "metadata": {
    "collapsed": true
   },
   "outputs": [],
   "source": [
    "# aquaeous solution so no need for u.g.l.\n",
    "# Since starting concentrations are 5.5mol per reactant, product should be 11\n",
    "    #at completion, but it's 5.8 at infinity, therefore reversible reaction\n",
    "# rA = -k1*CA*CB + 0.5*k2*CC**2\n",
    "# k2 = k1/kc\n",
    "# rB = rA\n",
    "# rC = -2*rA"
   ]
  },
  {
   "cell_type": "code",
   "execution_count": 1,
   "metadata": {
    "collapsed": true
   },
   "outputs": [],
   "source": [
    "from numpy import log, array, exp, linspace\n",
    "from scipy.integrate import odeint\n",
    "from scipy.stats import linregress \n",
    "import matplotlib.pyplot as plt\n",
    "%matplotlib inline"
   ]
  },
  {
   "cell_type": "markdown",
   "metadata": {},
   "source": [
    "$$A + B \\to 2C$$"
   ]
  },
  {
   "cell_type": "code",
   "execution_count": 5,
   "metadata": {
    "collapsed": true
   },
   "outputs": [],
   "source": [
    "T = 22.9 + 273.15 # Kelvin\n",
    "CAo = 5.5 #mol/L\n",
    "CBo = 5.5 #mol/L\n",
    "CCo = 0"
   ]
  },
  {
   "cell_type": "code",
   "execution_count": 10,
   "metadata": {},
   "outputs": [
    {
     "data": {
      "text/plain": [
       "4.976331360946745"
      ]
     },
     "execution_count": 10,
     "metadata": {},
     "output_type": "execute_result"
    }
   ],
   "source": [
    "CCe = 5.8 #mol/L read from table\n",
    "deltaCCe = CCe - 0\n",
    "CAe = CAo - 0.5*deltaCCe\n",
    "CBe = CBo - 0.5*deltaCCe\n",
    "kc= (CCe**2)/(CAe*CBe)\n",
    "kc"
   ]
  },
  {
   "cell_type": "code",
   "execution_count": 38,
   "metadata": {
    "collapsed": true
   },
   "outputs": [],
   "source": [
    "data = array([[0,0],\n",
    "              [41,1.18],\n",
    "              [48,1.38],\n",
    "              [55,1.63],\n",
    "              [75,2.24],\n",
    "              [96,2.75],\n",
    "              [127,3.31],\n",
    "              [146,3.76],\n",
    "              [162,3.81],\n",
    "              [180,4.11],\n",
    "              [194,4.31],\n",
    "              [212,4.45],\n",
    "              [267,4.86],\n",
    "              [318,5.15],\n",
    "              [368,5.32],\n",
    "              [379,5.35],\n",
    "              [410,5.42],\n",
    "              [500,5.80]])\n",
    "texp = data[:,0]\n",
    "CCexp = data[:,1]"
   ]
  },
  {
   "cell_type": "code",
   "execution_count": 34,
   "metadata": {},
   "outputs": [],
   "source": [
    "def func (C,t):\n",
    "    CA,CB,CC = C\n",
    "    rA = -k1*CA*CB + (k1/kc)*CC**2\n",
    "    rB = rA\n",
    "    rC = -2*rA\n",
    "    dCAdt = rA\n",
    "    dCBdt = rB\n",
    "    dCCdt = rC\n",
    "    return [dCAdt,dCBdt,dCCdt]"
   ]
  },
  {
   "cell_type": "code",
   "execution_count": 39,
   "metadata": {},
   "outputs": [
    {
     "data": {
      "text/plain": [
       "0.00013463733650416173"
      ]
     },
     "execution_count": 39,
     "metadata": {},
     "output_type": "execute_result"
    },
    {
     "data": {
      "image/png": "[encoded data removed]",
      "text/plain": [
       "<matplotlib.figure.Figure at 0x1eaae3a2f60>"
      ]
     },
     "metadata": {},
     "output_type": "display_data"
    }
   ],
   "source": [
    "tspan = linspace(0,500,1000)\n",
    "\n",
    "k1 = 0.00067 #guess\n",
    "\n",
    "vals = odeint(func,[CAo, CBo, CCo],tspan)\n",
    "\n",
    "CC = vals[:,2]\n",
    "\n",
    "plt.plot(tspan,CC,'-',texp,CCexp,'o')\n",
    "k2 = k1/kc\n",
    "k2"
   ]
  },
  {
   "cell_type": "code",
   "execution_count": null,
   "metadata": {
    "collapsed": true
   },
   "outputs": [],
   "source": []
  }
 ],
 "metadata": {
  "kernelspec": {
   "display_name": "Python 3",
   "language": "python",
   "name": "python3"
  },
  "language_info": {
   "codemirror_mode": {
    "name": "ipython",
    "version": 3
   },
   "file_extension": ".py",
   "mimetype": "text/x-python",
   "name": "python",
   "nbconvert_exporter": "python",
   "pygments_lexer": "ipython3",
   "version": "3.6.1"
  }
 },
 "nbformat": 4,
 "nbformat_minor": 2
}
