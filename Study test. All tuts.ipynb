{
 "cells": [
  {
   "cell_type": "code",
   "execution_count": 131,
   "metadata": {},
   "outputs": [
    {
     "data": {
      "text/plain": [
       "<function __main__.kfit>"
      ]
     },
     "execution_count": 131,
     "metadata": {},
     "output_type": "execute_result"
    },
    {
     "data": {
      "image/png": "[encoded data removed]",
      "text/plain": [
       "<matplotlib.figure.Figure at 0x145bd129ba8>"
      ]
     },
     "metadata": {},
     "output_type": "display_data"
    }
   ],
   "source": [
    "from __future__ import division\n",
    "import sympy\n",
    "import numpy\n",
    "%matplotlib inline\n",
    "from scipy.integrate import odeint\n",
    "from scipy.optimize import fsolve\n",
    "from matplotlib import pyplot as plt\n",
    "sympy.init_printing(use_latex='mathjax')\n",
    "from IPython.html.widgets import interact\n",
    "\n",
    "#DEMO\n",
    "Cae = numpy.array([2.000, 1.3286, 1.0812, 0.8880, 0.6908, 0.5904, 0.5497, 0.4801], dtype=float)\n",
    "traw = numpy.array([0, 2, 4, 6, 9, 12, 16, 19], dtype=float)\n",
    "Cbo = 5.0\n",
    "Cbe = Cbo - 3*(Cae[0] - Cae)\n",
    "Cce = 0 + 4*(Cae - Cae[0])\n",
    "\n",
    "plt.plot(traw, Cae, 'r*', \n",
    "     traw, Cbe,'b*')\n",
    "\n",
    "def kfit(k, n=1, m=1):\n",
    "    def intfun(c, t):\n",
    "        return [-k*(c[0]**m)*(c[1]**n),\n",
    "                -3.0*k*(c[0]**m)*(c[1]**n)]\n",
    "    ti = numpy.linspace(0, 20, 100)\n",
    "    Ci = odeint(intfun, [Cae[0], Cbo], ti)\n",
    "\n",
    "    plt.plot(traw, Cae, 'r*',\n",
    "         traw, Cbe, 'b*',\n",
    "         ti, Ci[:,0], 'g',\n",
    "         ti, Ci[:,1], 'r')\n",
    "    \n",
    "interact(kfit, k=(0.01, 0.1, 0.01), n=[1, 3, 1], m=[1, 3, 1])"
   ]
  },
  {
   "cell_type": "markdown",
   "metadata": {},
   "source": [
    "#TUTORIAL 1"
   ]
  },
  {
   "cell_type": "markdown",
   "metadata": {},
   "source": [
    "##Question 1\n",
    "\n",
    "The rate will be the same: -rA = 2 (CA^0.5)*(CB) because the reaction is not elementary"
   ]
  },
  {
   "cell_type": "markdown",
   "metadata": {},
   "source": [
    "##Question 2"
   ]
  },
  {
   "cell_type": "markdown",
   "metadata": {},
   "source": [
    "The ratio r1:r2 will stay constant as composition changes because only k1 and k2 are functions of temperature.\n",
    "\n",
    "r1/r2 = k1/k2"
   ]
  },
  {
   "cell_type": "markdown",
   "metadata": {},
   "source": [
    "##Question 3"
   ]
  },
  {
   "cell_type": "code",
   "execution_count": 115,
   "metadata": {
    "collapsed": true
   },
   "outputs": [],
   "source": [
    "# done on paper"
   ]
  },
  {
   "cell_type": "markdown",
   "metadata": {},
   "source": [
    "Question 4"
   ]
  },
  {
   "cell_type": "code",
   "execution_count": 116,
   "metadata": {},
   "outputs": [
    {
     "data": {
      "image/png": "[encoded data removed]",
      "text/plain": [
       "<matplotlib.figure.Figure at 0x145bd061fd0>"
      ]
     },
     "metadata": {},
     "output_type": "display_data"
    },
    {
     "name": "stdout",
     "output_type": "stream",
     "text": [
      "51.4351435144\n",
      "51.4451445145\n"
     ]
    }
   ],
   "source": [
    "Cao = 5 #mol/l\n",
    "Cbo = 5 #mol/l\n",
    "xa = 0.30\n",
    "k = 0.1/60 #l/mol min\n",
    "\n",
    "t = numpy.linspace(0,100,10000)\n",
    "\n",
    "def conversion(x,t):\n",
    "    return k*Cao*(1-x)*(Cbo-x*Cao)*(1/Cao)\n",
    "\n",
    "x = odeint(conversion,0,t)\n",
    "plt.plot(t,x)\n",
    "plt.show()\n",
    "\n",
    "for x_val, y_val in zip(t,x):\n",
    "    if y_val > 0.29999 and y_val < 0.3001:\n",
    "        print(x_val)"
   ]
  },
  {
   "cell_type": "markdown",
   "metadata": {},
   "source": [
    "The time it took to convert 30% of A was 51.4 min"
   ]
  },
  {
   "cell_type": "code",
   "execution_count": 117,
   "metadata": {},
   "outputs": [
    {
     "data": {
      "image/png": "[encoded data removed]",
      "text/plain": [
       "<matplotlib.figure.Figure at 0x145bcdd56a0>"
      ]
     },
     "metadata": {},
     "output_type": "display_data"
    },
    {
     "name": "stdout",
     "output_type": "stream",
     "text": [
      "32.0532053205\n"
     ]
    }
   ],
   "source": [
    "#if Cbo changed to 7.5\n",
    "Cbo = 7.5 #mol/l\n",
    "\n",
    "x2 = odeint(conversion,0,t)\n",
    "plt.plot(t,x2)\n",
    "plt.show()\n",
    "\n",
    "for x_val, y_val in zip(t,x2):\n",
    "    if y_val > 0.29999 and y_val < 0.3001:\n",
    "        print(x_val)"
   ]
  },
  {
   "cell_type": "markdown",
   "metadata": {},
   "source": [
    "It takes now 32.05 min to convert 30% of A if the concentration of B changes to 7.5 mol/l"
   ]
  },
  {
   "cell_type": "markdown",
   "metadata": {},
   "source": [
    "Question 5"
   ]
  },
  {
   "cell_type": "code",
   "execution_count": 118,
   "metadata": {},
   "outputs": [
    {
     "data": {
      "image/png": "[encoded data removed]",
      "text/plain": [
       "<matplotlib.figure.Figure at 0x145bcf716d8>"
      ]
     },
     "metadata": {},
     "output_type": "display_data"
    }
   ],
   "source": [
    "Cao = 2 #mol/l\n",
    "Cbo = 1 #mol/l\n",
    "texp = numpy.array([0,1,2,3,4,6,10,200])\n",
    "Cb25 = numpy.array([1,1.85,2.53,3.05,3.47,4.05,4.64,5])\n",
    "Cb35 = numpy.array([1,2.20,3.04,3.63,4.04,4.53,4.89,5])\n",
    "Cb45 = numpy.array([1,2.61,3.57,4.15,4.49,4.82,4.98,5])\n",
    "\n",
    "plt.figure(1)\n",
    "plt.plot(texp,Cb25,'ro',label='25 degrees')\n",
    "plt.plot(texp,Cb35,'bo',label='35 degrees')\n",
    "plt.plot(texp,Cb45,'go',label='45 degrees')\n",
    "plt.legend(loc='best')\n",
    "plt.ylabel('Concentration B')\n",
    "plt.xlabel('Time')\n",
    "plt.axis([0,12,0,5])\n",
    "\n",
    "k = 0.235\n",
    "def Conc(C,t):\n",
    "    ra = -k*C[0]\n",
    "    rb = -2*ra  \n",
    "    dCadt = ra\n",
    "    dCbdt = rb\n",
    "    return [ dCadt, dCbdt]\n",
    "t = numpy.linspace(0,200,1000)\n",
    "C = odeint(Conc,[Cao,Cbo],t)\n",
    "plt.plot(t,C[:,1])\n",
    "plt.show()"
   ]
  },
  {
   "cell_type": "markdown",
   "metadata": {},
   "source": [
    "k45 = 0.5\n",
    "\n",
    "k35 = 0.35\n",
    "\n",
    "k25 = 0.235\n",
    "\n",
    "Work with the formula K = K0*exp(-E/RT) to find K75"
   ]
  },
  {
   "cell_type": "code",
   "execution_count": 119,
   "metadata": {},
   "outputs": [
    {
     "name": "stdout",
     "output_type": "stream",
     "text": [
      "0.523555235552\n",
      "0.523605236052\n",
      "0.523655236552\n"
     ]
    }
   ],
   "source": [
    "k75 = 1.324\n",
    "Cao = 4\n",
    "\n",
    "def conversion(x,t):\n",
    "    return k75*Cao*(1-x)*(1/Cao)\n",
    "\n",
    "t = numpy.linspace(0,5,100000)\n",
    "x = odeint(conversion,0,t)\n",
    "\n",
    "for x_val, y_val in zip(t,x):\n",
    "    if y_val > 0.499999 and y_val < 0.5001:\n",
    "        print(x_val)"
   ]
  },
  {
   "cell_type": "markdown",
   "metadata": {},
   "source": [
    "The time it takes for 50% of A to convert at 75 degrees is approximately 0.52 min."
   ]
  },
  {
   "cell_type": "markdown",
   "metadata": {},
   "source": [
    "Question 6"
   ]
  },
  {
   "cell_type": "code",
   "execution_count": 132,
   "metadata": {},
   "outputs": [
    {
     "data": {
      "image/png": "[encoded data removed]",
      "text/plain": [
       "<matplotlib.figure.Figure at 0x145bd0f7e80>"
      ]
     },
     "metadata": {},
     "output_type": "display_data"
    }
   ],
   "source": [
    "Cae = numpy.array([2.000, 1.34, 0.91,0.74,0.56,0.45,0.40,0.33,0.27,0.23,0.21], dtype=float)\n",
    "traw = numpy.array([0,1,2,3,4,5,6,7,8,9,10], dtype=float)\n",
    "Cao = 2.0 #mol/l\n",
    "Cbo = 5.0 #mol/l\n",
    "Ccat = 2 #g/l\n",
    "Cbe = Cbo - 2*(Cae[0] - Cae)\n",
    "Cce = 0 + 1*(Cae[0] - Cae)\n",
    "\n",
    "#plt.plot(traw, Cae, 'r*', label='experimental Ca') \n",
    "#plt.plot(traw, Cbe,'b*',label='experimental Cb')\n",
    "\n",
    "def kfit(k, n=1, m=1):\n",
    "    def intfun(c, t):\n",
    "        return [-k*(c[0]**m)*(c[1]**n)*Ccat,\n",
    "                -2.0*k*(c[0]**m)*(c[1]**n)*Ccat]\n",
    "    ti = numpy.linspace(0, 20, 100)\n",
    "    Ci = odeint(intfun, [Cae[0], Cbo], ti)\n",
    "\n",
    "    plt.plot(traw, Cae, 'r*')\n",
    "    plt.plot(traw, Cbe, 'b*')\n",
    "    plt.plot(ti, Ci[:,0], 'g')\n",
    "    plt.plot(ti, Ci[:,1], 'r')\n",
    "    \n",
    "interact(kfit, k=(0.01, 1, 0.001), n=[0, 3, 0.1], m=[0, 3, 0.1])"
   ]
  },
  {
   "cell_type": "markdown",
   "metadata": {},
   "source": [
    "n = 0.33    m = 1.4   k = 0.11\n",
    "\n",
    "or\n",
    "\n",
    "n = 1       m = 1     k = 0.052"
   ]
  },
  {
   "cell_type": "markdown",
   "metadata": {},
   "source": [
    "TUTORIAL 2"
   ]
  },
  {
   "cell_type": "markdown",
   "metadata": {},
   "source": [
    "Question 2"
   ]
  },
  {
   "cell_type": "code",
   "execution_count": 134,
   "metadata": {},
   "outputs": [
    {
     "data": {
      "text/latex": [
       "$$2355.37446692$$"
      ],
      "text/plain": [
       "2355.37446692"
      ]
     },
     "execution_count": 134,
     "metadata": {},
     "output_type": "execute_result"
    }
   ],
   "source": [
    "timexp = numpy.array([0,0.5,1,1.5,2,2.5,3,3.5,4,5,6,7,8],dtype=float)\n",
    "Pexp = numpy.array([1.3,1.5,1.65,1.76,1.84,1.90,1.95,1.99,2.025,2.08,2.12,2.15,2.175],dtype=float)\n",
    "\n",
    "R = 0.0820578 #L atm/ mol K\n",
    "T = 373.15 #K\n",
    "Nto = 100 #mol Basis\n",
    "V = Nto*R*T/Pexp[0]\n",
    "V #L"
   ]
  },
  {
   "cell_type": "code",
   "execution_count": 135,
   "metadata": {},
   "outputs": [
    {
     "data": {
      "image/png": "[encoded data removed]",
      "text/plain": [
       "<matplotlib.figure.Figure at 0x145bd0c4d68>"
      ]
     },
     "metadata": {},
     "output_type": "display_data"
    }
   ],
   "source": [
    "Nt = Pexp*V/(R*T)\n",
    "Nao = 76.94\n",
    "Ni = 23.06\n",
    "Cao = Nao/V\n",
    "Na = -(Nt - Nto - Nao)\n",
    "Ca = Na/V\n",
    "\n",
    "def kfit(k, m=1):\n",
    "    def intfun(ca, t):\n",
    "        return -k*(ca**m)\n",
    "    ti = numpy.linspace(0, 10, 100)\n",
    "    Ci = odeint(intfun, Cao, ti)\n",
    "\n",
    "    plt.plot(timexp, Ca, 'r*')\n",
    "    plt.plot(ti, Ci, 'g')\n",
    "    \n",
    "interact(kfit, k=(0.01, 5, 0.001), n=[0, 3, 0.1], m=[0, 3, 0.1])"
   ]
  },
  {
   "cell_type": "markdown",
   "metadata": {},
   "source": [
    "m = 1.5 and k = 2.5"
   ]
  },
  {
   "cell_type": "markdown",
   "metadata": {},
   "source": [
    "Question 3"
   ]
  },
  {
   "cell_type": "code",
   "execution_count": 136,
   "metadata": {},
   "outputs": [
    {
     "data": {
      "text/latex": [
       "$$146.66666666666669$$"
      ],
      "text/plain": [
       "146.66666666666669"
      ]
     },
     "execution_count": 136,
     "metadata": {},
     "output_type": "execute_result"
    }
   ],
   "source": [
    "timexp = numpy.array([0,8,16,24,32,40,48], dtype = float)\n",
    "yinert = numpy.array([0.2,0.209,0.218,0.228,0.240,0.252,0.266], dtype = float)\n",
    "V = 1 #L\n",
    "Pto = 200 #kPa\n",
    "R = 8.314 #L KPa / mol K\n",
    "T = 373.15 #K\n",
    "Nto = Pto*V/(R*T)\n",
    "Nao = 0.40*Nto\n",
    "Nbo = 0.40*Nto\n",
    "Ni = 0.20*Nto\n",
    "xb=1 #full conversion\n",
    "Nt = Nto - (2/3)*Nbo*xb\n",
    "Pt = (Nt/Nto)*Pto\n",
    "Pt"
   ]
  },
  {
   "cell_type": "markdown",
   "metadata": {},
   "source": [
    "Total pressure at infinite time when conversion is 100% is 146.7 kPa"
   ]
  },
  {
   "cell_type": "code",
   "execution_count": 137,
   "metadata": {},
   "outputs": [
    {
     "data": {
      "text/latex": [
       "$$0.460526315789$$"
      ],
      "text/plain": [
       "0.460526315789"
      ]
     },
     "execution_count": 137,
     "metadata": {},
     "output_type": "execute_result"
    }
   ],
   "source": [
    "#24 min at position 3\n",
    "yi_24 = yinert[3]\n",
    "Nt = Ni/yi_24\n",
    "#use same Nt formula used above to find conversion\n",
    "xb = (Nt-Nto)/((-2/3)*Nbo)\n",
    "xb"
   ]
  },
  {
   "cell_type": "markdown",
   "metadata": {},
   "source": [
    "Conversion of B at 24 min is 46%."
   ]
  },
  {
   "cell_type": "code",
   "execution_count": 138,
   "metadata": {},
   "outputs": [
    {
     "data": {
      "image/png": "[encoded data removed]",
      "text/plain": [
       "<matplotlib.figure.Figure at 0x145bcd8d240>"
      ]
     },
     "metadata": {},
     "output_type": "display_data"
    }
   ],
   "source": [
    "Ntarray = Ni/yinert\n",
    "plt.plot(timexp,Ntarray, 'b-', label='Total moles')\n",
    "plt.xlabel('time')\n",
    "plt.ylabel('Total moles')\n",
    "plt.show()"
   ]
  },
  {
   "cell_type": "markdown",
   "metadata": {},
   "source": [
    "The plot shows a straight line, which means that the rate fucntion is of zero power. dN/dt = ra*V . ra must be a constant so the slope is a straight line."
   ]
  },
  {
   "cell_type": "code",
   "execution_count": 139,
   "metadata": {},
   "outputs": [],
   "source": [
    "xb = (Ntarray-Nto)/((-2/3)*Nbo)"
   ]
  },
  {
   "cell_type": "code",
   "execution_count": 140,
   "metadata": {},
   "outputs": [
    {
     "data": {
      "image/png": "[encoded data removed]",
      "text/plain": [
       "<matplotlib.figure.Figure at 0x145bce024a8>"
      ]
     },
     "metadata": {},
     "output_type": "display_data"
    }
   ],
   "source": [
    "Ca = (Nao - (2/3)*Nbo*xb)/V\n",
    "Cao = Nao/V\n",
    "Cbo = Nbo/V\n",
    "def kfit(k,n=0, m=0):\n",
    "    def intfun(c, t):\n",
    "        return [-k*(c[0]**m)*(c[1]**m),\n",
    "                -(3/2)*k*(c[0]**m)*(c[1]**m)]\n",
    "    ti = numpy.linspace(0, 50, 100)\n",
    "    Ci = odeint(intfun,[Cao,Cbo], ti)\n",
    "\n",
    "    plt.plot(timexp, Ca, 'r*')\n",
    "    plt.plot(ti, Ci[:,0], 'g')\n",
    "interact(kfit, k=(0.0001, 0.0005, 0.00001), n=[0, 3, 0.1], m=[0, 3, 0.1])"
   ]
  },
  {
   "cell_type": "markdown",
   "metadata": {},
   "source": [
    "The kinetics where found to be m=n=0 and k = 0.00033 molA/min*l"
   ]
  },
  {
   "cell_type": "markdown",
   "metadata": {},
   "source": [
    "TUTORIAL 3"
   ]
  },
  {
   "cell_type": "markdown",
   "metadata": {},
   "source": [
    "Question 1"
   ]
  },
  {
   "cell_type": "code",
   "execution_count": 141,
   "metadata": {},
   "outputs": [
    {
     "data": {
      "image/png": "[encoded data removed]",
      "text/plain": [
       "<matplotlib.figure.Figure at 0x145be28e518>"
      ]
     },
     "metadata": {},
     "output_type": "display_data"
    }
   ],
   "source": [
    "timexp = numpy.array([0,36,65,100,160,10000], dtype=float)\n",
    "Caexp = numpy.array([0.1823,0.1453,0.1216,0.1025,0.0795,0.0494], dtype=float)\n",
    "Cao = 0.1823 #mol/l\n",
    "Cro = 0\n",
    "Cso = 55 #mol/l\n",
    "Ca_inf = Caexp[5] #mol/l\n",
    "Cr_inf = Cro + (Cao - Ca_inf)\n",
    "Cs_inf = Cso + (Cao - Ca_inf)\n",
    "Kc = (Cr_inf*Cs_inf)/Ca_inf\n",
    "\n",
    "def kfit(k):\n",
    "    def intfun(ca, t):\n",
    "        return -k*ca + (k/Kc)*(Cro + (Cao - ca))*(Cso + (Cao - ca))\n",
    "    ti = numpy.linspace(0, 160, 100)\n",
    "    Ci = odeint(intfun,Cao, ti)\n",
    "\n",
    "    plt.plot(timexp, Caexp, 'r*')\n",
    "    plt.plot(ti, Ci, 'g')\n",
    "    plt.axis([0,160,0,0.3])\n",
    "interact(kfit, k=(0.002, 0.01, 0.00001))\n",
    "Kc"
   ]
  },
  {
   "cell_type": "code",
   "execution_count": 129,
   "metadata": {},
   "outputs": [
    {
     "data": {
      "text/latex": [
       "$$4.55761700524e-05$$"
      ],
      "text/plain": [
       "4.55761700524e-05"
      ]
     },
     "execution_count": 129,
     "metadata": {},
     "output_type": "execute_result"
    }
   ],
   "source": [
    "k2 = 0.00676/Kc\n",
    "k2"
   ]
  },
  {
   "cell_type": "markdown",
   "metadata": {},
   "source": [
    "k1 was fitted as 0.00676  and k2 was found to be 4.55e-5."
   ]
  },
  {
   "cell_type": "markdown",
   "metadata": {},
   "source": [
    "Question 2"
   ]
  },
  {
   "cell_type": "code",
   "execution_count": 173,
   "metadata": {},
   "outputs": [
    {
     "data": {
      "text/plain": [
       "<function __main__.kfit>"
      ]
     },
     "execution_count": 173,
     "metadata": {},
     "output_type": "execute_result"
    },
    {
     "data": {
      "image/png": "[encoded data removed]",
      "text/plain": [
       "<matplotlib.figure.Figure at 0x145bd0ad710>"
      ]
     },
     "metadata": {},
     "output_type": "display_data"
    }
   ],
   "source": [
    "Cce = numpy.array([0,1.18,1.38,1.63,2.24,2.75,3.31,3.76,3.81,4.11,4.31,4.45,4.86,5.15,5.32,5.35,5.42,5.80], dtype=float)\n",
    "traw1 = numpy.array([0,41,48,55,75,96,127,146,162,180,194,212,267,318,368,379,410,10000], dtype=float)\n",
    "Cao = 5.5\n",
    "Cbo = 5.5\n",
    "plt.plot(traw1, Cce, 'r*')\n",
    "\n",
    "Cc_inf = 5.80\n",
    "Ca_inf = (Cc_inf/2)-Cao\n",
    "Cb_inf = Cbo - (Cao - Ca_inf)\n",
    "Kc = Cc_inf**2/(Ca_inf*Cb_inf)\n",
    "\n",
    "def kfit(k):\n",
    "    def intfun(c, t):\n",
    "        return [-k*(c[0])*(c[1]) + (k/Kc)*(c[2]**2),\n",
    "                -k*(c[0])*(c[1]) + (k/Kc)*(c[2]**2),\n",
    "               2.0*(k*(c[0])*(c[1]) - (k/Kc)*(c[2]**2))]\n",
    "    \n",
    "    ti = numpy.linspace(0, 410, 10000)\n",
    "    Ci = odeint(intfun, [Cao, Cbo,0], ti)\n",
    "\n",
    "    plt.plot(traw1, Cce, 'r*',\n",
    "         ti, Ci[:,2], 'g')\n",
    "    plt.axis([0,410,0,6])\n",
    "plt.show()\n",
    "interact(kfit, k=(0.00001, 0.001, 0.000001), n=[1, 3, 1], m=[1, 3, 1])\n"
   ]
  },
  {
   "cell_type": "markdown",
   "metadata": {},
   "source": [
    "k1 was fitted to be 0.00067 and Kc = 4.98"
   ]
  },
  {
   "cell_type": "markdown",
   "metadata": {},
   "source": [
    "Question 3"
   ]
  },
  {
   "cell_type": "code",
   "execution_count": 174,
   "metadata": {},
   "outputs": [
    {
     "data": {
      "text/plain": [
       "array([ 0.00082164])"
      ]
     },
     "execution_count": 174,
     "metadata": {},
     "output_type": "execute_result"
    }
   ],
   "source": [
    "T1 = 294.15 # K\n",
    "Kc1 = 68.1\n",
    "DH = -85000 #J/mol\n",
    "Cao = 0.2\n",
    "Cbo = 0.5\n",
    "Cco = 0.15\n",
    "T2 = 323.15 #K\n",
    "R = 8.314 #J/mol K\n",
    "\n",
    "Kc2 = numpy.exp(numpy.log(Kc1)-(DH/R)*((1/T2)-(1/T1)))\n",
    "\n",
    "def func(x):\n",
    "    return Kc2 - (Cco+Cao*x)/((Cao-Cao*x)*((Cbo-2*Cao*x)**2))\n",
    "x = fsolve(func,0.5)\n",
    "x"
   ]
  },
  {
   "cell_type": "markdown",
   "metadata": {},
   "source": [
    "Conversion was found to be very low. x = 0.00082164 -> 0.082164%."
   ]
  },
  {
   "cell_type": "code",
   "execution_count": 175,
   "metadata": {},
   "outputs": [
    {
     "data": {
      "text/plain": [
       "(array([ 301.94018606]), 27.77777777777778)"
      ]
     },
     "execution_count": 175,
     "metadata": {},
     "output_type": "execute_result"
    }
   ],
   "source": [
    "x = 0.5\n",
    "Kc3 = (Cco+Cao*x)/((Cao-Cao*x)*((Cbo-2*Cao*x)**2))\n",
    "def func2(T3):\n",
    "    return numpy.log(Kc2/Kc3)+(DH/R)*((1/T2)-(1/T3))\n",
    "T3 = fsolve(func2,100)\n",
    "T3,Kc3"
   ]
  },
  {
   "cell_type": "markdown",
   "metadata": {},
   "source": [
    "Kc3 = 27.8 and T3 = 28.8 C\n",
    "\n",
    "Curve profiles are a sketch. no need to plot"
   ]
  },
  {
   "cell_type": "markdown",
   "metadata": {},
   "source": [
    "Question 4"
   ]
  },
  {
   "cell_type": "code",
   "execution_count": 203,
   "metadata": {},
   "outputs": [
    {
     "data": {
      "image/png": "[encoded data removed]",
      "text/plain": [
       "<matplotlib.figure.Figure at 0x145bcf0b588>"
      ]
     },
     "metadata": {},
     "output_type": "display_data"
    }
   ],
   "source": [
    "Cao = 5\n",
    "Cro = 0.5\n",
    "Camax = 1.75\n",
    "Crmax = 7\n",
    "k=1\n",
    "def c(c,t):\n",
    "    ra = -c[0]*((Cro+2*(Cao-c[0]))**2)\n",
    "    rr = -2*ra\n",
    "    \n",
    "    dCadt = ra\n",
    "    dCrdt = rr\n",
    "    return [dCadt,dCrdt]\n",
    "t = numpy.linspace(0,1,10000)\n",
    "c = odeint(c,[Cao,Cro],t)\n",
    "plt.figure(2)\n",
    "plt.plot(t,c[:,0],'b-',label='A')\n",
    "plt.plot(t,c[:,1],'r-',label='R')\n",
    "plt.ylabel('Concentration')\n",
    "plt.legend(loc='best')\n",
    "plt.xlabel('time')\n",
    "plt.show()"
   ]
  },
  {
   "cell_type": "code",
   "execution_count": 207,
   "metadata": {},
   "outputs": [
    {
     "data": {
      "image/png": "[encoded data removed]",
      "text/plain": [
       "<matplotlib.figure.Figure at 0x145bcf622b0>"
      ]
     },
     "metadata": {},
     "output_type": "display_data"
    }
   ],
   "source": [
    "ra = -c[:,0]*((Cro+2*(Cao-c[:,0]))**2)\n",
    "rr = -2*ra\n",
    "plt.figure()\n",
    "plt.plot(c[:,0],rr,'b-',label='rR vs CA')\n",
    "plt.plot(c[:,1],rr,'r-',label='rR vs CR')\n",
    "plt.ylabel('rate')\n",
    "plt.xlabel('Concentration')\n",
    "plt.legend(loc='best')\n",
    "plt.show()"
   ]
  },
  {
   "cell_type": "code",
   "execution_count": 208,
   "metadata": {},
   "outputs": [
    {
     "name": "stdout",
     "output_type": "stream",
     "text": [
      "1.75076364744\n"
     ]
    }
   ],
   "source": [
    "for x_val, y_val in zip(c[:,0],rr):\n",
    "    if y_val == max(rr):\n",
    "        print(x_val)"
   ]
  },
  {
   "cell_type": "code",
   "execution_count": 209,
   "metadata": {},
   "outputs": [
    {
     "name": "stdout",
     "output_type": "stream",
     "text": [
      "6.99847270513\n"
     ]
    }
   ],
   "source": [
    "for x_val, y_val in zip(c[:,1],rr):\n",
    "    if y_val == max(rr):\n",
    "        print(x_val)"
   ]
  },
  {
   "cell_type": "markdown",
   "metadata": {},
   "source": [
    "Calculated values of A and R that will maximize R.\n",
    "\n",
    "CA = 1.75 and CR = 7"
   ]
  },
  {
   "cell_type": "code",
   "execution_count": null,
   "metadata": {
    "collapsed": true
   },
   "outputs": [],
   "source": []
  }
 ],
 "metadata": {
  "kernelspec": {
   "display_name": "Python 3",
   "language": "python",
   "name": "python3"
  },
  "language_info": {
   "codemirror_mode": {
    "name": "ipython",
    "version": 3
   },
   "file_extension": ".py",
   "mimetype": "text/x-python",
   "name": "python",
   "nbconvert_exporter": "python",
   "pygments_lexer": "ipython3",
   "version": "3.6.4"
  }
 },
 "nbformat": 4,
 "nbformat_minor": 1
}
