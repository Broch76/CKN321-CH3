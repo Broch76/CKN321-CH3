{
 "cells": [
  {
   "cell_type": "code",
   "execution_count": 24,
   "metadata": {
    "collapsed": false,
    "nbpresent": {
     "id": "2c849a17-e983-4541-8453-03891ae7197c"
    },
    "scrolled": true
   },
   "outputs": [],
   "source": [
    "from __future__ import division\n",
    "from numpy import linspace\n",
    "from numpy import array\n",
    "from matplotlib import pyplot as plot\n",
    "from scipy.integrate import odeint\n",
    "#question1\n",
    "tdata=[0,1,2,3,4,5,7,9,11,16,32]\n",
    "cadata=[5,4.23,3.46,2.98,2.49,2.02,1.44,1.01,0.68,0.29,0.02]\n",
    "cbdata=[0,0.82,1.39,1.83,2.07,2.15,2.27,2.07,1.89,1.49,0.69]\n",
    "\n",
    "Cao=5\n",
    "Cbo=0\n",
    "Co=[Cao,Cbo]\n",
    "t=linspace(0,32,100)\n",
    "#guesses\n",
    "n=1\n",
    "m=2\n",
    "k1=0.18\n",
    "k2=0.06\n",
    "\n",
    "#function\n",
    "def dcdt(C,t):\n",
    "    return[-k1*(C[0]**n),\n",
    "          k1*(C[0]**n)-k2*(C[1]**m)]\n",
    "C=odeint(dcdt,Co,t)\n",
    "Ca=C[:,0]\n",
    "Cb=C[:,1]\n",
    "plot.close\n",
    "plot.figure(1)\n",
    "plot.plot(tdata,cadata,'r*',tdata,cbdata,'b*',t,Ca,'r',t,Cb,'b')\n",
    "plot.show()"
   ]
  },
  {
   "cell_type": "code",
   "execution_count": 25,
   "metadata": {
    "collapsed": true,
    "scrolled": true
   },
   "outputs": [],
   "source": [
    "#question3\n",
    "\n",
    "#constants given:\n",
    "kr2=1000000\n",
    "kr3=2\n",
    "kr4=2000\n",
    "kr5=10\n",
    "ko=1\n",
    "f=0.6666\n",
    "H=0.8\n",
    "Cao=0.04\n",
    "Cbo=0.05\n",
    "Czo=0.0003\n",
    "#A=0,Y=1,X=2,P=3,Z=4,B=5\n",
    "Cyo=0\n",
    "Cpo=0\n",
    "Cxo=0\n",
    "Co=[Cao,Cyo,Cxo,Cpo,Czo,Cbo]\n",
    "#print (Co)\n",
    "#the reactions (for convenience of typing) are:\n",
    "# k3=@C kr3*(H**2)*C[0]*C[1] \n",
    " #   k2=@C kr2*H*C[2]*C[1]\n",
    "#  k5=@C kr5*H*C[0]*C[2] \n",
    " #   k4=@C kr4*(C[2]**2)  \n",
    "#  k1=@C ko*C[5]*C[4]\n",
    "#ra to rb is defined below\n",
    "t=linspace(0,20*30,100)\n",
    "def dcdt(C,t):\n",
    "   \n",
    "    return[(-(kr3*(H**2)*C[0]*C[1]) -(kr5*H*C[0]*C[2]) +(kr4*(C[2]**2))),\n",
    "          (-(kr3*(H**2)*C[0]*C[1]) -(kr2*H*C[2]*C[1]) +0.5*f*(ko*C[5]*C[4])),\n",
    "          (+(kr3*(H**2)*C[0]*C[1]) -(kr2*H*C[2]*C[1]) +(kr5*H*C[0]*C[2]) -2*(kr4*(C[2]**2))),\n",
    "          (+(kr3*(H**2)*C[0]*C[1] ) +2*(kr2*H*C[2]*C[1])+(kr4*(C[2]**2))),\n",
    "          (+2*(kr5*H*C[0]*C[2]) -(ko*C[5]*C[4])),\n",
    "          (-(ko*C[5]*C[4]))]\n",
    "C=odeint(dcdt,Co,t)\n",
    "Cz=C[:,4]\n",
    "Cy=C[:,1]\n",
    "plot.close\n",
    "plot.figure(1)\n",
    "plot.plot(t,Cz,'b',t,Cy,'r')\n",
    "plot.show()\n"
   ]
  },
  {
   "cell_type": "code",
   "execution_count": 26,
   "metadata": {
    "collapsed": true,
    "scrolled": true
   },
   "outputs": [],
   "source": [
    "#question2,4 and 5 is on paper\n",
    "\n"
   ]
  },
  {
   "cell_type": "code",
   "execution_count": 27,
   "metadata": {
    "collapsed": true,
    "scrolled": true
   },
   "outputs": [],
   "source": [
    "#question 6\n",
    "\n",
    "\n",
    "Pog=(1000/760)*101.325\n",
    "Poa=Pog+101.325\n",
    "Co=Poa/(8.314*373.15)\n",
    "Cao=Co\n",
    "#print (Cao)\n",
    "Lo=9.4/2\n",
    "tdata=[0,0.5,1,1.5,2,3,4,6,10]\n",
    "Ldata=array([Lo,6.1,6.8,7.2,7.5,7.85,8.1,8.4,8.7])\n",
    "xdata=((Ldata/Lo)-1)\n",
    "#print (xdata)\n",
    "\n",
    "t=linspace(0,10,100)\n",
    "k=12.95\n",
    "n=2\n",
    "def dxdt(X,t):\n",
    "    return[(k*(((Cao*(1-X[0]))/(1+X[0]))**n)*(1+X[0]))/Cao]\n",
    "\n",
    "x=odeint(dxdt,0,t)\n",
    "#print (x)\n",
    "plot.close\n",
    "plot.figure(1)\n",
    "plot.plot(tdata,xdata,'r*',t,x,'b')\n",
    "plot.show()\n"
   ]
  },
  {
   "cell_type": "code",
   "execution_count": 28,
   "metadata": {
    "collapsed": false,
    "scrolled": true
   },
   "outputs": [
    {
     "name": "stdout",
     "output_type": "stream",
     "text": [
      "0.9997619028575964\n",
      "0.3204236898658596 0.7178290462517541 0.4998809514287982 1.538133687546412\n"
     ]
    }
   ],
   "source": [
    "#question7\n",
    "\n",
    "x1=0.359\n",
    "No1=130*25/(8.314*391)\n",
    "print (No1)\n",
    "Nao2=0.5*No1*(1-x1)\n",
    "Nbo2=4*0.5*No1*x1\n",
    "Ni=0.5*No1\n",
    "No2=Nao2+Nbo2+Ni\n",
    "print (Nao2,Nbo2,Ni,No2)\n",
    "tdata=[0,1,3,5,7,9,11,13,15,17]\n",
    "Vchandata=array([1,1.1,1.22,1.29,1.34,1.37,1.4,1.42,1.44,1.45])\n",
    "xdata=(Vchandata-1)/0.624\n",
    "\n",
    "Cao=Nao2/25\n",
    "k1=16\n",
    "n=2\n",
    "t=linspace(0,17,100)\n",
    "def dxdt(X,t):\n",
    "    return[k1*(((Cao*(1-X[0]))/(1+0.624*X[0]))**n)*(1+0.624*X[0])/Cao]\n",
    "x=odeint(dxdt,0,t)\n",
    "\n",
    "plot.close\n",
    "plot.figure(1)\n",
    "plot.plot(tdata,xdata,'r*',t,x,'b')\n",
    "plot.show()\n"
   ]
  },
  {
   "cell_type": "code",
   "execution_count": 45,
   "metadata": {
    "collapsed": false,
    "scrolled": true
   },
   "outputs": [],
   "source": [
    "#question8\n",
    "\n",
    "P=2*101.325\n",
    "T=300\n",
    "R=8.314\n",
    "Vo=1000\n",
    "No=(P*Vo/(R*T))\n",
    "Nao=0.2*No\n",
    "Nbo=0.8*No\n",
    "\n",
    "\n",
    "t=linspace(0,100,100)\n",
    "def dndt(N,t):\n",
    "    V=((N[0]+N[1]+N[2])/(P/(R*T)))\n",
    "    r1=2*(N[0]/V)*((N[1]/V)**2)\n",
    "    r2=8*((N[2]/V)**2)*(N[1]/V)\n",
    "    return[(-r1+(2*r2))*V,\n",
    "           ((-2*r1)-r2)*V,\n",
    "           ((30*r1)-(10*r2))*V]\n",
    "\n",
    "Nint=odeint(dndt,[Nao,Nbo,0],t)\n",
    "\n",
    "V_Vo=((Nint[:,0]+Nint[:,1]+Nint[:,2])/(P/(R*T)))/Vo\n",
    "#print (V_Vo)\n",
    "plot.close\n",
    "plot.figure(1)\n",
    "plot.plot(t,V_Vo,'r*')\n",
    "plot.show()"
   ]
  },
  {
   "cell_type": "markdown",
   "metadata": {
    "collapsed": true
   },
   "source": [
    "\n",
    "### QUESTION 6"
   ]
  },
  {
   "cell_type": "code",
   "execution_count": 30,
   "metadata": {
    "collapsed": false,
    "scrolled": true
   },
   "outputs": [],
   "source": [
    "T = [0,0.5,1,1.5,2,3,4,6,10]\n",
    "L = array([4.7,6.1,6.8,7.2,7.5,7.85,8.1,8.4,8.7])\n",
    "X = ((L/4.7)-1)\n",
    "t =linspace(0,10,100)\n",
    "Pog=(1000/760)*101.325\n",
    "Poa=Pog+101.325\n",
    "Co =Poa/(8.314*373.15)\n",
    "Cao = Co\n",
    "k=12.95\n",
    "n=2\n",
    "\n",
    "def dXdt(X,t):\n",
    "    return k*(Cao**(n-1))*((1-X[0])**n)/((1+X[0])**(n-1))\n",
    "\n",
    "Xint =odeint(dXdt,0,t)\n",
    "plot.close\n",
    "plot.figure(1)\n",
    "plot.plot(T,X,'r*',t,Xint,'b')\n",
    "plot.show()\n"
   ]
  },
  {
   "cell_type": "markdown",
   "metadata": {},
   "source": [
    "### QUESTION 7"
   ]
  },
  {
   "cell_type": "code",
   "execution_count": 43,
   "metadata": {
    "collapsed": false
   },
   "outputs": [],
   "source": [
    "T=[0,1,3,5,7,9,11,13,15,17]\n",
    "VVo=array([1,1.1,1.22,1.29,1.34,1.37,1.4,1.42,1.44,1.45])\n",
    "X = (VVo-1)/0.624\n",
    "k=16\n",
    "n=2\n",
    "Cao = 0.32/25\n",
    "t = linspace(0,17,100)\n",
    "\n",
    "def Xdt(X,t):\n",
    "    \n",
    "    return k*((Cao**(n-1))*(1-X[0])**n)/((1+0.624*X[0])**(n-1))\n",
    "\n",
    "xint=odeint(Xdt,0,t)\n",
    "plot.close\n",
    "plot.figure(1)\n",
    "plot.plot(T,X,'r*',t,xint,'b')\n",
    "plot.show()\n"
   ]
  },
  {
   "cell_type": "markdown",
   "metadata": {},
   "source": [
    "### QUESTION 8"
   ]
  },
  {
   "cell_type": "code",
   "execution_count": 51,
   "metadata": {
    "collapsed": true
   },
   "outputs": [],
   "source": [
    "Po=200\n",
    "Temp =300\n",
    "Vo=100\n",
    "No=(Po*Vo)/(8.314*Temp)\n",
    "Nao=0.2*No\n",
    "Nbo=0.8*No\n",
    "Nco=0\n",
    "Nos=[Nao,Nbo,Nco]\n",
    "t=linspace(0,100,100)\n",
    "def dNdt(N,t):\n",
    "    V = ((N[0]+N[1]+N[2])/(Po/(8.314*Temp)))\n",
    "    r1=2*(N[0]/V)*((N[1]/V)**2)\n",
    "    r2=8*((N[2]/V)**2)*(N[1]/V)\n",
    "    return ((-r1+2*r2)*V,\n",
    "           (-2*r1-r2)*V,\n",
    "           (30*r1-10*r2)*V)\n",
    "\n",
    "Nint=odeint(dNdt,Nos,t)\n",
    "Vint=((Nint[:,0]+Nint[:,1]+Nint[:,2])/((Po/(8.314*Temp))))/Vo\n",
    "plot.close\n",
    "plot.figure(1)\n",
    "plot.plot(t,Vint,'r*')\n",
    "plot.show()\n",
    "\n",
    "\n",
    "    \n"
   ]
  },
  {
   "cell_type": "code",
   "execution_count": null,
   "metadata": {
    "collapsed": true
   },
   "outputs": [],
   "source": []
  }
 ],
 "metadata": {
  "anaconda-cloud": {},
  "kernelspec": {
   "display_name": "Python 3",
   "language": "python",
   "name": "python3"
  },
  "language_info": {
   "codemirror_mode": {
    "name": "ipython",
    "version": 3
   },
   "file_extension": ".py",
   "mimetype": "text/x-python",
   "name": "python",
   "nbconvert_exporter": "python",
   "pygments_lexer": "ipython3",
   "version": "3.5.1"
  }
 },
 "nbformat": 4,
 "nbformat_minor": 0
}
