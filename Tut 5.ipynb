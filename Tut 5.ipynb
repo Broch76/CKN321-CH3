{
 "cells": [
  {
   "cell_type": "markdown",
   "metadata": {},
   "source": [
    "### Question 2"
   ]
  },
  {
   "cell_type": "code",
   "execution_count": 7,
   "metadata": {
    "collapsed": false
   },
   "outputs": [
    {
     "name": "stdout",
     "output_type": "stream",
     "text": [
      "[ 0.50062267]\n"
     ]
    }
   ],
   "source": [
    "from __future__ import division\n",
    "from numpy import linspace\n",
    "from numpy import array\n",
    "from matplotlib import pyplot as plt\n",
    "from scipy.integrate import odeint\n",
    "from scipy.optimize import fsolve\n",
    "\n",
    "V=4\n",
    "Q=2\n",
    "Cao=7.99\n",
    "Cbo=0.01\n",
    "\n",
    "#Cstr\n",
    "def F(X):\n",
    "    return (((0.125*7.99*(1-X[0])*(0.01+7.99*X[0]))*4)-(7.99*2*X[0]))\n",
    "\n",
    "Ans=fsolve(F,[1])\n",
    "print (Ans)"
   ]
  },
  {
   "cell_type": "code",
   "execution_count": 5,
   "metadata": {
    "collapsed": true
   },
   "outputs": [],
   "source": [
    "#PFR\n",
    "Fao=Cao*Q\n",
    "Fbo=Cbo*Q\n",
    "Fo=[Fao,Fbo]\n",
    "V=linspace(0,4,100)\n",
    "def Fdt(F,V):\n",
    "    ra=-0.125*(F[0]/Q)*(F[1]/Q)\n",
    "    return(ra,\n",
    "          -ra)\n",
    "\n",
    "Fint=odeint(Fdt,Fo,V)\n",
    "x=(Cao-(Fint[:,0]/Q))/(Cao)\n",
    "\n",
    "plt.figure(1)\n",
    "plt.plot(x,V,'ro')\n",
    "plt.xlabel('X')\n",
    "plt.show()"
   ]
  },
  {
   "cell_type": "markdown",
   "metadata": {},
   "source": [
    "### Question 4"
   ]
  },
  {
   "cell_type": "code",
   "execution_count": 13,
   "metadata": {
    "collapsed": false
   },
   "outputs": [
    {
     "name": "stdout",
     "output_type": "stream",
     "text": [
      "[ 0.56423868]\n"
     ]
    }
   ],
   "source": [
    "def F(X):\n",
    "    return (2.97143-(X[0]/((1-X[0])**2)))\n",
    "\n",
    "Ans=fsolve(F,[0.5])\n",
    "print (Ans)"
   ]
  },
  {
   "cell_type": "code",
   "execution_count": 19,
   "metadata": {
    "collapsed": false
   },
   "outputs": [],
   "source": [
    "Cao=0.572\n",
    "Q=35\n",
    "Fao=Cao*Q\n",
    "\n",
    "\n",
    "W=linspace(0,350,100)\n",
    "def Fdt(F,V):\n",
    "    ra=-0.2*(F[0]/Q)**2\n",
    "    return(ra)\n",
    "\n",
    "Fint=odeint(Fdt,Fao,W)\n",
    "x=(Cao-(Fint[:,0]/Q))/(Cao)\n",
    "\n",
    "plt.figure(1)\n",
    "plt.plot(x,W,'ro')\n",
    "plt.xlabel('X')\n",
    "plt.show()"
   ]
  },
  {
   "cell_type": "markdown",
   "metadata": {},
   "source": [
    "### Question 6\n"
   ]
  },
  {
   "cell_type": "code",
   "execution_count": 24,
   "metadata": {
    "collapsed": false
   },
   "outputs": [],
   "source": [
    "#5.1\n",
    "V=4\n",
    "Q=2\n",
    "Cao=8\n",
    "Fao=Cao*Q\n",
    "V=linspace(0,4,100)\n",
    "\n",
    "def Fdt(F,V):\n",
    "    ra=-0.5*(F[0]/Q)\n",
    "    return(ra)\n",
    "\n",
    "Fint=odeint(Fdt,Fao,V)\n",
    "ra=-0.5*(Fint[:,0]/Q)\n",
    "negRa=1/(-ra)\n",
    "Ca=(Fint[:,0])/Q\n",
    "\n",
    "plt.figure(1)\n",
    "plt.plot(Ca,negRa,'r')\n",
    "plt.xlabel('Ca')\n",
    "plt.show()"
   ]
  },
  {
   "cell_type": "code",
   "execution_count": 28,
   "metadata": {
    "collapsed": false
   },
   "outputs": [],
   "source": [
    "#5.2\n",
    "V=4\n",
    "Q=2\n",
    "Cao=7.99\n",
    "Cbo=0.01\n",
    "Co=[Cao,Cbo]\n",
    "V=linspace(0,5,100)\n",
    "def Fdt(F,V):\n",
    "    ra=-0.125*(F[0]/Q)*(F[1]/Q)\n",
    "    return(ra,\n",
    "          -ra)\n",
    "\n",
    "Fint=odeint(Fdt,Co,V)\n",
    "ra=-0.125*(Fint[:,0]/Q)*(Fint[:,1]/Q)\n",
    "negRa=1/(-ra)\n",
    "Ca=(Fint[:,0])/Q\n",
    "\n",
    "plt.figure(1)\n",
    "plt.plot(Ca,negRa,'r')\n",
    "plt.xlabel('Ca')\n",
    "plt.show()"
   ]
  },
  {
   "cell_type": "markdown",
   "metadata": {},
   "source": [
    "### Question 8"
   ]
  },
  {
   "cell_type": "code",
   "execution_count": 56,
   "metadata": {
    "collapsed": false
   },
   "outputs": [],
   "source": [
    "Caodata=array([2,2,2,1,1,0.48,0.48,0.48])\n",
    "Cadata=array([0.65,0.92,1,0.56,0.37,0.42,0.28,0.2])\n",
    "Tau=[300,240,250,110,360,24,200,560]\n",
    "\n",
    "Radata=-((Caodata-Cadata)/Tau)\n",
    "NRa=1/(-Radata)\n",
    "\n",
    "Cao=2\n",
    "T=linspace(0,600,100)\n",
    "k=0.0125\n",
    "n=2\n",
    "def Cdt(C,T):\n",
    "    ra=-k*((C[0])**n)\n",
    "    return(ra)\n",
    "Cint=odeint(Cdt,Cao,T)\n",
    "ra=-k*((Cint[:,0])**n)\n",
    "NeRa=1/(-ra)\n",
    "plt.figure(1)\n",
    "plt.plot(Cadata,NRa,'ro',Cint,NeRa,'b-')\n",
    "plt.xlabel('Ca')\n",
    "plt.show()"
   ]
  },
  {
   "cell_type": "code",
   "execution_count": null,
   "metadata": {
    "collapsed": true
   },
   "outputs": [],
   "source": []
  },
  {
   "cell_type": "code",
   "execution_count": null,
   "metadata": {
    "collapsed": true
   },
   "outputs": [],
   "source": []
  }
 ],
 "metadata": {
  "kernelspec": {
   "display_name": "Python 3",
   "language": "python",
   "name": "python3"
  },
  "language_info": {
   "codemirror_mode": {
    "name": "ipython",
    "version": 3
   },
   "file_extension": ".py",
   "mimetype": "text/x-python",
   "name": "python",
   "nbconvert_exporter": "python",
   "pygments_lexer": "ipython3",
   "version": "3.5.1"
  }
 },
 "nbformat": 4,
 "nbformat_minor": 0
}
