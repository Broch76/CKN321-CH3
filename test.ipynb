{
 "cells": [
  {
   "cell_type": "markdown",
   "metadata": {},
   "source": [
    "### example for fsolve"
   ]
  },
  {
   "cell_type": "code",
   "execution_count": 1,
   "metadata": {},
   "outputs": [
    {
     "name": "stdout",
     "output_type": "stream",
     "text": [
      "[ 1.  1.  1.]\n"
     ]
    }
   ],
   "source": [
    "from __future__ import division\n",
    "from numpy import linspace\n",
    "from numpy import array\n",
    "from matplotlib import pyplot as plt\n",
    "from scipy.integrate import odeint\n",
    "from scipy.optimize import fsolve\n",
    "\n",
    "# say you want to solve x+y+z=3 x+y=2 x+z=2\n",
    "\n",
    "def F(X):\n",
    "    return [(X[0] + X[1] + X[2] -3),\n",
    "           (X[0] + X[1] - 2),\n",
    "           (X[0] + X[2]-2)]\n",
    "\n",
    "Ans=fsolve(F,[0,0,0])\n",
    "print (Ans)"
   ]
  },
  {
   "cell_type": "code",
   "execution_count": 2,
   "metadata": {},
   "outputs": [
    {
     "name": "stdout",
     "output_type": "stream",
     "text": [
      "[  7.53026155e-04   1.98662469e+00]\n"
     ]
    }
   ],
   "source": [
    "def F(X):\n",
    "    return [(X[0]*((1.7365)**X[1])-0.002254),\n",
    "           (391.59*X[0]*((1.7365)**X[1])+(1/((0.53**(X[1]-1))*(-X[1]+1)))-1/((1)**(X[1]-1)*(-X[1]+1)))]\n",
    "\n",
    "Ans=fsolve(F,[0.005,2])\n",
    "print (Ans)"
   ]
  },
  {
   "cell_type": "code",
   "execution_count": 19,
   "metadata": {},
   "outputs": [],
   "source": [
    "k=1\n",
    "Co=(0.5,0.1,0.2)\n",
    "t=linspace(0,12,100)\n",
    "def dCdt(C,t):\n",
    "    ra = -k*C[0]*C[1]*C[2]**2\n",
    "    return(ra,\n",
    "          -3*ra,\n",
    "          -4*ra)\n",
    "\n",
    "Cint=odeint(dCdt,Co,t)\n",
    "plt.figure(1)\n",
    "plt.plot(t,Cint[:,1],'r')\n",
    "plt.ylabel('Cb')\n",
    "plt.xlabel('Time')\n",
    "plt.show()"
   ]
  },
  {
   "cell_type": "code",
   "execution_count": 20,
   "metadata": {
    "collapsed": true
   },
   "outputs": [],
   "source": [
    "Ca=Cint[:,0]\n",
    "Cao=0.5\n",
    "Ra= -k*Cint[:,0]*Cint[:,1]*((Cint[:,2])**2)\n",
    "\n",
    "negRa=1/(-Ra)\n",
    "x=(0.5-Ca)/0.5\n",
    "plt.figure(1)\n",
    "plt.plot(x,negRa,'r')\n",
    "plt.ylabel('NegRa')\n",
    "plt.xlabel('x')\n",
    "plt.show()"
   ]
  },
  {
   "cell_type": "code",
   "execution_count": null,
   "metadata": {
    "collapsed": true
   },
   "outputs": [],
   "source": []
  }
 ],
 "metadata": {
  "anaconda-cloud": {},
  "kernelspec": {
   "display_name": "Python 3",
   "language": "python",
   "name": "python3"
  },
  "language_info": {
   "codemirror_mode": {
    "name": "ipython",
    "version": 3
   },
   "file_extension": ".py",
   "mimetype": "text/x-python",
   "name": "python",
   "nbconvert_exporter": "python",
   "pygments_lexer": "ipython3",
   "version": "3.6.4"
  }
 },
 "nbformat": 4,
 "nbformat_minor": 1
}
